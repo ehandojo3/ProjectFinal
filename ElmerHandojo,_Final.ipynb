{
  "nbformat": 4,
  "nbformat_minor": 0,
  "metadata": {
    "colab": {
      "provenance": [],
      "authorship_tag": "ABX9TyOAzagwIUrNxjLbVOOZ5esg",
      "include_colab_link": true
    },
    "kernelspec": {
      "name": "python3",
      "display_name": "Python 3"
    },
    "language_info": {
      "name": "python"
    }
  },
  "cells": [
    {
      "cell_type": "markdown",
      "metadata": {
        "id": "view-in-github",
        "colab_type": "text"
      },
      "source": [
        "<a href=\"https://colab.research.google.com/github/ehandojo3/ProjectFinal/blob/main/ElmerHandojo%2C_Final.ipynb\" target=\"_parent\"><img src=\"https://colab.research.google.com/assets/colab-badge.svg\" alt=\"Open In Colab\"/></a>"
      ]
    },
    {
      "cell_type": "code",
      "execution_count": null,
      "metadata": {
        "colab": {
          "base_uri": "https://localhost:8080/"
        },
        "id": "tzVCvEcQVCsJ",
        "outputId": "4fdaba60-4188-4c72-b101-ab2a4bf203c2"
      },
      "outputs": [
        {
          "output_type": "stream",
          "name": "stdout",
          "text": [
            "Looking in indexes: https://pypi.org/simple, https://us-python.pkg.dev/colab-wheels/public/simple/\n",
            "Requirement already satisfied: ColabTurtlePlus in /usr/local/lib/python3.10/dist-packages (2.0.1)\n"
          ]
        }
      ],
      "source": [
        "!pip install ColabTurtlePlus"
      ]
    },
    {
      "cell_type": "markdown",
      "source": [
        "**TRIAL AND ERROR**"
      ],
      "metadata": {
        "id": "hJKT2AbXNrI7"
      }
    },
    {
      "cell_type": "code",
      "source": [
        "from ColabTurtlePlus.Turtle import *\n",
        "clearscreen()\n",
        "setup(800,800)\n",
        "\n",
        "\n",
        "pencil = Turtle()\n",
        "pencil.color((0,0,255))\n",
        "pencil.shape('classic') \n",
        "pencil.pensize(2)"
      ],
      "metadata": {
        "colab": {
          "base_uri": "https://localhost:8080/",
          "height": 836
        },
        "id": "A6CaAMxQVKJZ",
        "outputId": "373408e4-38d9-4f97-eb5b-ce3b10228d0a"
      },
      "execution_count": null,
      "outputs": [
        {
          "output_type": "stream",
          "name": "stdout",
          "text": [
            "Put clearscreen() as the first line in a cell (after the import command) to re-run turtle commands in the cell\n"
          ]
        },
        {
          "output_type": "display_data",
          "data": {
            "text/plain": [
              "<IPython.core.display.HTML object>"
            ],
            "text/html": [
              "\n",
              "      <svg width=\"800\" height=\"800\">  \n",
              "        <rect width=\"100%\" height=\"100%\" style=\"fill:white;stroke:;stroke-width:1\"/>\n",
              "        \n",
              "        \n",
              "        \n",
              "        \n",
              "        \n",
              "        <g id=\"classic\" visibility=\"visible\" transform=\"rotate(-90,400.0,400.0) translate(400.0, 400.0)\">\n",
              "<polygon points=\"-5,-4.5 0,-2.5 5,-4.5 0,4.5\" transform=\"skewX(0) scale(1,1)\" style=\"stroke:rgb(0,0,255);fill:rgb(0,0,255);stroke-width:1\" />\n",
              "</g>\n",
              "      </svg>\n",
              "    "
            ]
          },
          "metadata": {}
        }
      ]
    },
    {
      "cell_type": "code",
      "source": [
        "def draw_triangle(turtle_object, side_length):\n",
        "  for i in range(3):\n",
        "    turtle_object.forward(side_length)\n",
        "    turtle_object.right(360/3)"
      ],
      "metadata": {
        "id": "nswuII2xZ8lo"
      },
      "execution_count": null,
      "outputs": []
    },
    {
      "cell_type": "code",
      "source": [
        "import random\n",
        "# define a function to generate a random drawing\n",
        "def draw():\n",
        "    # generate a random number between 0 and 360 for the turtle to turn\n",
        "    angle = random.randint(0, 360)\n",
        "    pencil.right(angle)\n",
        "    \n",
        "    # generate a random number between 10 and 50 for the turtle to move forward\n",
        "    distance = random.randint(10, 50)\n",
        "    pencil.forward(distance)\n",
        "    \n",
        "    # generate a random color for the turtle to draw with\n",
        "    colors = [\"red\", \"orange\", \"yellow\", \"green\", \"blue\", \"purple\", \"pink\"]\n",
        "    pencil.color(random.choice(colors))\n",
        "    \n",
        "    # draw a circle of random radius between 10 and 30\n",
        "    side_length = random.randint(10, 30)\n",
        "    draw_triangle(pencil, side_length)\n"
      ],
      "metadata": {
        "id": "41bUY2qqVpxb"
      },
      "execution_count": null,
      "outputs": []
    },
    {
      "cell_type": "code",
      "source": [
        "# iterate the drawing process 20 times\n",
        "for i in range(20):\n",
        "    draw()\n"
      ],
      "metadata": {
        "colab": {
          "base_uri": "https://localhost:8080/",
          "height": 820
        },
        "id": "0QWGqJngY7dc",
        "outputId": "320e4de3-8eb4-495d-cf64-85cc1fb43a45"
      },
      "execution_count": null,
      "outputs": [
        {
          "output_type": "display_data",
          "data": {
            "text/plain": [
              "<IPython.core.display.HTML object>"
            ],
            "text/html": [
              "\n",
              "      <svg width=\"800\" height=\"800\">  \n",
              "        <rect width=\"100%\" height=\"100%\" style=\"fill:white;stroke:;stroke-width:1\"/>\n",
              "        \n",
              "        \n",
              "        <line x1=\"400.0\" y1=\"400.0\" x2=\"386.879\" y2=\"415.094\" stroke-linecap=\"round\" style=\"stroke:rgb(0,0,255);stroke-width:2\" /><line x1=\"386.879\" y1=\"415.094\" x2=\"374.414\" y2=\"429.433\" stroke-linecap=\"round\" style=\"stroke:yellow;stroke-width:2\" /><line x1=\"374.414\" y1=\"429.433\" x2=\"368.228\" y2=\"411.468\" stroke-linecap=\"round\" style=\"stroke:yellow;stroke-width:2\" /><line x1=\"368.228\" y1=\"411.468\" x2=\"386.879\" y2=\"415.093\" stroke-linecap=\"round\" style=\"stroke:yellow;stroke-width:2\" /><line x1=\"386.879\" y1=\"415.093\" x2=\"397.321\" y2=\"435.586\" stroke-linecap=\"round\" style=\"stroke:yellow;stroke-width:2\" /><line x1=\"397.321\" y1=\"435.586\" x2=\"405.493\" y2=\"451.624\" stroke-linecap=\"round\" style=\"stroke:pink;stroke-width:2\" /><line x1=\"405.493\" y1=\"451.624\" x2=\"387.518\" y2=\"450.682\" stroke-linecap=\"round\" style=\"stroke:pink;stroke-width:2\" /><line x1=\"387.518\" y1=\"450.682\" x2=\"397.322\" y2=\"435.586\" stroke-linecap=\"round\" style=\"stroke:pink;stroke-width:2\" /><line x1=\"397.322\" y1=\"435.586\" x2=\"360.796\" y2=\"465.164\" stroke-linecap=\"round\" style=\"stroke:pink;stroke-width:2\" /><line x1=\"360.796\" y1=\"465.164\" x2=\"349.916\" y2=\"473.974\" stroke-linecap=\"round\" style=\"stroke:green;stroke-width:2\" /><line x1=\"349.916\" y1=\"473.974\" x2=\"347.726\" y2=\"460.146\" stroke-linecap=\"round\" style=\"stroke:green;stroke-width:2\" /><line x1=\"347.726\" y1=\"460.146\" x2=\"360.796\" y2=\"465.163\" stroke-linecap=\"round\" style=\"stroke:green;stroke-width:2\" /><line x1=\"360.796\" y1=\"465.163\" x2=\"370.457\" y2=\"473.862\" stroke-linecap=\"round\" style=\"stroke:green;stroke-width:2\" /><line x1=\"370.457\" y1=\"473.862\" x2=\"384.577\" y2=\"486.575\" stroke-linecap=\"round\" style=\"stroke:orange;stroke-width:2\" /><line x1=\"384.577\" y1=\"486.575\" x2=\"366.507\" y2=\"492.446\" stroke-linecap=\"round\" style=\"stroke:orange;stroke-width:2\" /><line x1=\"366.507\" y1=\"492.446\" x2=\"370.457\" y2=\"473.861\" stroke-linecap=\"round\" style=\"stroke:orange;stroke-width:2\" /><line x1=\"370.457\" y1=\"473.861\" x2=\"367.367\" y2=\"483.372\" stroke-linecap=\"round\" style=\"stroke:orange;stroke-width:2\" /><line x1=\"367.367\" y1=\"483.372\" x2=\"359.951\" y2=\"506.197\" stroke-linecap=\"round\" style=\"stroke:red;stroke-width:2\" /><line x1=\"359.951\" y1=\"506.197\" x2=\"343.892\" y2=\"488.362\" stroke-linecap=\"round\" style=\"stroke:red;stroke-width:2\" /><line x1=\"343.892\" y1=\"488.362\" x2=\"367.368\" y2=\"483.372\" stroke-linecap=\"round\" style=\"stroke:red;stroke-width:2\" /><line x1=\"367.368\" y1=\"483.372\" x2=\"357.517\" y2=\"470.764\" stroke-linecap=\"round\" style=\"stroke:red;stroke-width:2\" /><line x1=\"357.517\" y1=\"470.764\" x2=\"350.129\" y2=\"461.308\" stroke-linecap=\"round\" style=\"stroke:green;stroke-width:2\" /><line x1=\"350.129\" y1=\"461.308\" x2=\"362.012\" y2=\"459.638\" stroke-linecap=\"round\" style=\"stroke:green;stroke-width:2\" /><line x1=\"362.012\" y1=\"459.638\" x2=\"357.517\" y2=\"470.764\" stroke-linecap=\"round\" style=\"stroke:green;stroke-width:2\" /><line x1=\"357.517\" y1=\"470.764\" x2=\"359.936\" y2=\"480.467\" stroke-linecap=\"round\" style=\"stroke:green;stroke-width:2\" /><line x1=\"359.936\" y1=\"480.467\" x2=\"363.807\" y2=\"495.992\" stroke-linecap=\"round\" style=\"stroke:purple;stroke-width:2\" /><line x1=\"363.807\" y1=\"495.992\" x2=\"348.427\" y2=\"491.582\" stroke-linecap=\"round\" style=\"stroke:purple;stroke-width:2\" /><line x1=\"348.427\" y1=\"491.582\" x2=\"359.936\" y2=\"480.467\" stroke-linecap=\"round\" style=\"stroke:purple;stroke-width:2\" /><line x1=\"359.936\" y1=\"480.467\" x2=\"349.738\" y2=\"511.852\" stroke-linecap=\"round\" style=\"stroke:purple;stroke-width:2\" /><line x1=\"349.738\" y1=\"511.852\" x2=\"341.395\" y2=\"537.531\" stroke-linecap=\"round\" style=\"stroke:yellow;stroke-width:2\" /><line x1=\"341.395\" y1=\"537.531\" x2=\"323.328\" y2=\"517.466\" stroke-linecap=\"round\" style=\"stroke:yellow;stroke-width:2\" /><line x1=\"323.328\" y1=\"517.466\" x2=\"349.738\" y2=\"511.852\" stroke-linecap=\"round\" style=\"stroke:yellow;stroke-width:2\" /><line x1=\"349.738\" y1=\"511.852\" x2=\"353.805\" y2=\"520.987\" stroke-linecap=\"round\" style=\"stroke:yellow;stroke-width:2\" /><line x1=\"353.805\" y1=\"520.987\" x2=\"361.94\" y2=\"539.258\" stroke-linecap=\"round\" style=\"stroke:yellow;stroke-width:2\" /><line x1=\"361.94\" y1=\"539.258\" x2=\"342.05\" y2=\"537.167\" stroke-linecap=\"round\" style=\"stroke:yellow;stroke-width:2\" /><line x1=\"342.05\" y1=\"537.167\" x2=\"353.806\" y2=\"520.987\" stroke-linecap=\"round\" style=\"stroke:yellow;stroke-width:2\" /><line x1=\"353.806\" y1=\"520.987\" x2=\"321.355\" y2=\"507.876\" stroke-linecap=\"round\" style=\"stroke:yellow;stroke-width:2\" /><line x1=\"321.355\" y1=\"507.876\" x2=\"310.229\" y2=\"503.381\" stroke-linecap=\"round\" style=\"stroke:blue;stroke-width:2\" /><line x1=\"310.229\" y1=\"503.381\" x2=\"319.685\" y2=\"495.993\" stroke-linecap=\"round\" style=\"stroke:blue;stroke-width:2\" /><line x1=\"319.685\" y1=\"495.993\" x2=\"321.355\" y2=\"507.876\" stroke-linecap=\"round\" style=\"stroke:blue;stroke-width:2\" /><line x1=\"321.355\" y1=\"507.876\" x2=\"311.031\" y2=\"493.131\" stroke-linecap=\"round\" style=\"stroke:blue;stroke-width:2\" /><line x1=\"311.031\" y1=\"493.131\" x2=\"302.427\" y2=\"480.844\" stroke-linecap=\"round\" style=\"stroke:purple;stroke-width:2\" /><line x1=\"302.427\" y1=\"480.844\" x2=\"317.37\" y2=\"479.537\" stroke-linecap=\"round\" style=\"stroke:purple;stroke-width:2\" /><line x1=\"317.37\" y1=\"479.537\" x2=\"311.031\" y2=\"493.132\" stroke-linecap=\"round\" style=\"stroke:purple;stroke-width:2\" /><line x1=\"311.031\" y1=\"493.132\" x2=\"298.063\" y2=\"494.039\" stroke-linecap=\"round\" style=\"stroke:purple;stroke-width:2\" /><line x1=\"298.063\" y1=\"494.039\" x2=\"275.119\" y2=\"495.643\" stroke-linecap=\"round\" style=\"stroke:red;stroke-width:2\" /><line x1=\"275.119\" y1=\"495.643\" x2=\"285.202\" y2=\"474.971\" stroke-linecap=\"round\" style=\"stroke:red;stroke-width:2\" /><line x1=\"285.202\" y1=\"474.971\" x2=\"298.063\" y2=\"494.039\" stroke-linecap=\"round\" style=\"stroke:red;stroke-width:2\" /><line x1=\"298.063\" y1=\"494.039\" x2=\"256.34\" y2=\"483.636\" stroke-linecap=\"round\" style=\"stroke:red;stroke-width:2\" /><line x1=\"256.34\" y1=\"483.636\" x2=\"238.875\" y2=\"479.281\" stroke-linecap=\"round\" style=\"stroke:orange;stroke-width:2\" /><line x1=\"238.875\" y1=\"479.281\" x2=\"251.379\" y2=\"466.333\" stroke-linecap=\"round\" style=\"stroke:orange;stroke-width:2\" /><line x1=\"251.379\" y1=\"466.333\" x2=\"256.34\" y2=\"483.636\" stroke-linecap=\"round\" style=\"stroke:orange;stroke-width:2\" /><line x1=\"256.34\" y1=\"483.636\" x2=\"223.36\" y2=\"482.484\" stroke-linecap=\"round\" style=\"stroke:orange;stroke-width:2\" /><line x1=\"223.36\" y1=\"482.484\" x2=\"211.367\" y2=\"482.065\" stroke-linecap=\"round\" style=\"stroke:red;stroke-width:2\" /><line x1=\"211.367\" y1=\"482.065\" x2=\"217.726\" y2=\"471.888\" stroke-linecap=\"round\" style=\"stroke:red;stroke-width:2\" /><line x1=\"217.726\" y1=\"471.888\" x2=\"223.36\" y2=\"482.483\" stroke-linecap=\"round\" style=\"stroke:red;stroke-width:2\" /><line x1=\"223.36\" y1=\"482.483\" x2=\"196.278\" y2=\"446.544\" stroke-linecap=\"round\" style=\"stroke:red;stroke-width:2\" /><line x1=\"196.278\" y1=\"446.544\" x2=\"183.038\" y2=\"428.974\" stroke-linecap=\"round\" style=\"stroke:red;stroke-width:2\" /><line x1=\"183.038\" y1=\"428.974\" x2=\"204.874\" y2=\"426.293\" stroke-linecap=\"round\" style=\"stroke:red;stroke-width:2\" /><line x1=\"204.874\" y1=\"426.293\" x2=\"196.278\" y2=\"446.544\" stroke-linecap=\"round\" style=\"stroke:red;stroke-width:2\" /><line x1=\"196.278\" y1=\"446.544\" x2=\"206.511\" y2=\"480.015\" stroke-linecap=\"round\" style=\"stroke:red;stroke-width:2\" /><line x1=\"206.511\" y1=\"480.015\" x2=\"212.066\" y2=\"498.185\" stroke-linecap=\"round\" style=\"stroke:pink;stroke-width:2\" /><line x1=\"212.066\" y1=\"498.185\" x2=\"193.553\" y2=\"493.911\" stroke-linecap=\"round\" style=\"stroke:pink;stroke-width:2\" /><line x1=\"193.553\" y1=\"493.911\" x2=\"206.511\" y2=\"480.015\" stroke-linecap=\"round\" style=\"stroke:pink;stroke-width:2\" /><line x1=\"206.511\" y1=\"480.015\" x2=\"166.065\" y2=\"499.742\" stroke-linecap=\"round\" style=\"stroke:pink;stroke-width:2\" /><line x1=\"166.065\" y1=\"499.742\" x2=\"140.0\" y2=\"512.455\" stroke-linecap=\"round\" style=\"stroke:blue;stroke-width:2\" /><line x1=\"140.0\" y1=\"512.455\" x2=\"142.023\" y2=\"483.526\" stroke-linecap=\"round\" style=\"stroke:blue;stroke-width:2\" /><line x1=\"142.023\" y1=\"483.526\" x2=\"166.065\" y2=\"499.743\" stroke-linecap=\"round\" style=\"stroke:blue;stroke-width:2\" /><line x1=\"166.065\" y1=\"499.743\" x2=\"163.506\" y2=\"520.586\" stroke-linecap=\"round\" style=\"stroke:blue;stroke-width:2\" /><line x1=\"163.506\" y1=\"520.586\" x2=\"159.85\" y2=\"550.362\" stroke-linecap=\"round\" style=\"stroke:orange;stroke-width:2\" /><line x1=\"159.85\" y1=\"550.362\" x2=\"135.891\" y2=\"532.308\" stroke-linecap=\"round\" style=\"stroke:orange;stroke-width:2\" /><line x1=\"135.891\" y1=\"532.308\" x2=\"163.506\" y2=\"520.586\" stroke-linecap=\"round\" style=\"stroke:orange;stroke-width:2\" /><line x1=\"163.506\" y1=\"520.586\" x2=\"192.307\" y2=\"480.944\" stroke-linecap=\"round\" style=\"stroke:orange;stroke-width:2\" /><line x1=\"192.307\" y1=\"480.944\" x2=\"205.238\" y2=\"463.146\" stroke-linecap=\"round\" style=\"stroke:green;stroke-width:2\" /><line x1=\"205.238\" y1=\"463.146\" x2=\"214.186\" y2=\"483.244\" stroke-linecap=\"round\" style=\"stroke:green;stroke-width:2\" /><line x1=\"214.186\" y1=\"483.244\" x2=\"192.307\" y2=\"480.944\" stroke-linecap=\"round\" style=\"stroke:green;stroke-width:2\" /><line x1=\"192.307\" y1=\"480.944\" x2=\"147.417\" y2=\"484.083\" stroke-linecap=\"round\" style=\"stroke:green;stroke-width:2\" /><line x1=\"147.417\" y1=\"484.083\" x2=\"122.478\" y2=\"485.827\" stroke-linecap=\"round\" style=\"stroke:yellow;stroke-width:2\" /><line x1=\"122.478\" y1=\"485.827\" x2=\"133.437\" y2=\"463.357\" stroke-linecap=\"round\" style=\"stroke:yellow;stroke-width:2\" /><line x1=\"133.437\" y1=\"463.357\" x2=\"147.417\" y2=\"484.083\" stroke-linecap=\"round\" style=\"stroke:yellow;stroke-width:2\" />\n",
              "        \n",
              "        \n",
              "        <g id=\"classic\" visibility=\"visible\" transform=\"rotate(-34.0,147.417,484.083) translate(147.417, 484.083)\">\n",
              "<polygon points=\"-5,-4.5 0,-2.5 5,-4.5 0,4.5\" transform=\"skewX(0) scale(1,1)\" style=\"stroke:yellow;fill:yellow;stroke-width:1\" />\n",
              "<animateTransform id = \"one\" attributeName=\"transform\" \n",
              "                      type=\"scale\"\n",
              "                      from=\"1 1\" to=\"1 1\"\n",
              "                      begin=\"0s\" dur=\"0.01s\"\n",
              "                      repeatCount=\"1\"\n",
              "                      additive=\"sum\"\n",
              "                      fill=\"freeze\"\n",
              "                /><animateTransform attributeName=\"transform\"\n",
              "                    type=\"rotate\"\n",
              "                    from=\"0 0 0\" to =\"120.0 0 0\"\n",
              "                    begin=\"one.end\" dur=\"0.3333333333333333s\"\n",
              "                    repeatCount=\"1\"\n",
              "                    additive=\"sum\"\n",
              "                    fill=\"freeze\"\n",
              "                /></g>\n",
              "      </svg>\n",
              "    "
            ]
          },
          "metadata": {}
        }
      ]
    },
    {
      "cell_type": "code",
      "source": [
        "'''Making all variables random'''\n",
        "\n",
        "def draw2():\n",
        "    # generate a random number between -180 and 180 for the turtle to turn\n",
        "    angle = random.randint(-180, 180)\n",
        "    pencil.right(angle)\n",
        "    \n",
        "    # generate a random number between 10 and 50 for the turtle to move forward\n",
        "    distance = random.randint(10, 50)\n",
        "    pencil.forward(distance)\n",
        "    \n",
        "    # generate a random color for the turtle to draw with\n",
        "    colors = [\"red\", \"orange\", \"yellow\", \"green\", \"blue\", \"purple\", \"pink\"]\n",
        "    pencil.color(random.choice(colors))\n",
        "    \n",
        "    # generate a random number between 10 and 30 for the size of the shape\n",
        "    size = random.randint(10, 30)\n",
        "    \n",
        "    # randomly choose a shape to draw\n",
        "    shape = random.choice([\"circle\", \"square\", \"triangle\", \"star\"])\n",
        "    \n",
        "    # draw the shape\n",
        "    if shape == \"circle\":\n",
        "        pencil.circle(size)\n",
        "    elif shape == \"square\":\n",
        "        for i in range(4):\n",
        "            pencil.forward(size)\n",
        "            pencil.right(90)\n",
        "    elif shape == \"triangle\":\n",
        "        for i in range(3):\n",
        "            pencil.forward(size)\n",
        "            pencil.right(120)\n",
        "    elif shape == \"star\":\n",
        "        pencil.begin_fill()\n",
        "        for i in range(5):\n",
        "            pencil.forward(size)\n",
        "            pencil.right(144)\n",
        "        pencil.end_fill()\n"
      ],
      "metadata": {
        "id": "0xzE9Ro3bCOf"
      },
      "execution_count": null,
      "outputs": []
    },
    {
      "cell_type": "code",
      "source": [
        "pencil.clear()"
      ],
      "metadata": {
        "colab": {
          "base_uri": "https://localhost:8080/",
          "height": 820
        },
        "id": "4c6pjEA6cnEm",
        "outputId": "c1a5d562-d7a1-431d-cb9c-d5c7816aba75"
      },
      "execution_count": null,
      "outputs": [
        {
          "output_type": "display_data",
          "data": {
            "text/plain": [
              "<IPython.core.display.HTML object>"
            ],
            "text/html": [
              "\n",
              "      <svg width=\"800\" height=\"800\">  \n",
              "        <rect width=\"100%\" height=\"100%\" style=\"fill:white;stroke:;stroke-width:1\"/>\n",
              "        \n",
              "        \n",
              "        \n",
              "        \n",
              "        \n",
              "        <g id=\"classic\" visibility=\"visible\" transform=\"rotate(86.0,147.417,484.083) translate(147.417, 484.083)\">\n",
              "<polygon points=\"-5,-4.5 0,-2.5 5,-4.5 0,4.5\" transform=\"skewX(0) scale(1,1)\" style=\"stroke:yellow;fill:yellow;stroke-width:1\" />\n",
              "</g>\n",
              "      </svg>\n",
              "    "
            ]
          },
          "metadata": {}
        }
      ]
    },
    {
      "cell_type": "code",
      "source": [
        "for i in range (20):\n",
        "  draw2()"
      ],
      "metadata": {
        "colab": {
          "base_uri": "https://localhost:8080/",
          "height": 820
        },
        "id": "20-CDCd3bj4E",
        "outputId": "32fc9e12-dc15-4b60-84f3-49f23dec69cb"
      },
      "execution_count": null,
      "outputs": [
        {
          "output_type": "display_data",
          "data": {
            "text/plain": [
              "<IPython.core.display.HTML object>"
            ],
            "text/html": [
              "\n",
              "      <svg width=\"800\" height=\"800\">  \n",
              "        <rect width=\"100%\" height=\"100%\" style=\"fill:white;stroke:;stroke-width:1\"/>\n",
              "        \n",
              "        \n",
              "        <line x1=\"147.417\" y1=\"484.083\" x2=\"111.558\" y2=\"464.206\" stroke-linecap=\"round\" style=\"stroke:yellow;stroke-width:2\" /><line x1=\"111.558\" y1=\"464.206\" x2=\"102.812\" y2=\"459.358\" stroke-linecap=\"round\" style=\"stroke:yellow;stroke-width:2\" /><line x1=\"102.812\" y1=\"459.358\" x2=\"107.66\" y2=\"450.612\" stroke-linecap=\"round\" style=\"stroke:yellow;stroke-width:2\" /><line x1=\"107.66\" y1=\"450.612\" x2=\"116.406\" y2=\"455.46\" stroke-linecap=\"round\" style=\"stroke:yellow;stroke-width:2\" /><line x1=\"116.406\" y1=\"455.46\" x2=\"111.558\" y2=\"464.206\" stroke-linecap=\"round\" style=\"stroke:yellow;stroke-width:2\" /><line x1=\"111.558\" y1=\"464.206\" x2=\"141.867\" y2=\"442.984\" stroke-linecap=\"round\" style=\"stroke:yellow;stroke-width:2\" /><line x1=\"141.867\" y1=\"442.984\" x2=\"156.612\" y2=\"432.66\" stroke-linecap=\"round\" style=\"stroke:orange;stroke-width:2\" /><line x1=\"156.612\" y1=\"432.66\" x2=\"166.936\" y2=\"447.405\" stroke-linecap=\"round\" style=\"stroke:orange;stroke-width:2\" /><line x1=\"166.936\" y1=\"447.405\" x2=\"152.191\" y2=\"457.729\" stroke-linecap=\"round\" style=\"stroke:orange;stroke-width:2\" /><line x1=\"152.191\" y1=\"457.729\" x2=\"141.867\" y2=\"442.984\" stroke-linecap=\"round\" style=\"stroke:orange;stroke-width:2\" /><line x1=\"141.867\" y1=\"442.984\" x2=\"155.302\" y2=\"429.549\" stroke-linecap=\"round\" style=\"stroke:orange;stroke-width:2\" /><path fill-rule=\"evenodd\" fill-opacity=\"1\" d=\"M 155.302 429.549  L 167.323 417.528  L 164.664 434.319  L 156.946 419.172  L 172.093 426.89  L 155.302 429.549 \" stroke-linecap=\"round\" style=\"stroke:orange;stroke-width:2\" fill=\"orange\" /><line x1=\"155.302\" y1=\"429.549\" x2=\"172.03\" y2=\"448.128\" stroke-linecap=\"round\" style=\"stroke:orange;stroke-width:2\" /><path fill-rule=\"evenodd\" fill-opacity=\"1\" d=\"M 172.03 448.128  L 187.42 465.22  L 164.923 460.438  L 185.935 451.083  L 174.435 471.002  L 172.031 448.128 \" stroke-linecap=\"round\" style=\"stroke:purple;stroke-width:2\" fill=\"purple\" /><line x1=\"172.031\" y1=\"448.128\" x2=\"165.586\" y2=\"478.451\" stroke-linecap=\"round\" style=\"stroke:purple;stroke-width:2\" /><line x1=\"165.586\" y1=\"478.451\" x2=\"163.507\" y2=\"488.232\" stroke-linecap=\"round\" style=\"stroke:blue;stroke-width:2\" /><line x1=\"163.507\" y1=\"488.232\" x2=\"153.726\" y2=\"486.153\" stroke-linecap=\"round\" style=\"stroke:blue;stroke-width:2\" /><line x1=\"153.726\" y1=\"486.153\" x2=\"155.805\" y2=\"476.372\" stroke-linecap=\"round\" style=\"stroke:blue;stroke-width:2\" /><line x1=\"155.805\" y1=\"476.372\" x2=\"165.586\" y2=\"478.451\" stroke-linecap=\"round\" style=\"stroke:blue;stroke-width:2\" /><line x1=\"165.586\" y1=\"478.451\" x2=\"159.4\" y2=\"496.416\" stroke-linecap=\"round\" style=\"stroke:blue;stroke-width:2\" /><path fill-rule=\"evenodd\" fill-opacity=\"1\" d=\"M 159.4 496.416  L 151.586 519.108  L 144.569 496.157  L 163.736 510.601  L 139.74 510.182  L 159.4 496.416 \" stroke-linecap=\"round\" style=\"stroke:purple;stroke-width:2\" fill=\"purple\" /><line x1=\"159.4\" y1=\"496.416\" x2=\"142.499\" y2=\"528.202\" stroke-linecap=\"round\" style=\"stroke:purple;stroke-width:2\" /><path fill-rule=\"evenodd\" fill-opacity=\"1\" d=\"M 142.499 528.202  L 133.11 545.861  L 130.327 526.056  L 144.22 540.443  L 124.524 536.97  L 142.5 528.203 \" stroke-linecap=\"round\" style=\"stroke:pink;stroke-width:2\" fill=\"pink\" /><line x1=\"142.5\" y1=\"528.203\" x2=\"175.183\" y2=\"537.575\" stroke-linecap=\"round\" style=\"stroke:pink;stroke-width:2\" /><path fill-rule=\"evenodd\" fill-opacity=\"1\" d=\"M 175.183 537.575  L 190.563 541.985  L 175.528 547.457  L 184.475 534.192  L 185.033 550.182  L 175.182 537.574 \" stroke-linecap=\"round\" style=\"stroke:green;stroke-width:2\" fill=\"green\" /><line x1=\"175.182\" y1=\"537.574\" x2=\"205.058\" y2=\"562.643\" stroke-linecap=\"round\" style=\"stroke:green;stroke-width:2\" /><line x1=\"205.058\" y1=\"562.643\" x2=\"228.039\" y2=\"581.927\" stroke-linecap=\"round\" style=\"stroke:blue;stroke-width:2\" /><line x1=\"228.039\" y1=\"581.927\" x2=\"199.848\" y2=\"592.188\" stroke-linecap=\"round\" style=\"stroke:blue;stroke-width:2\" /><line x1=\"199.848\" y1=\"592.188\" x2=\"205.057\" y2=\"562.644\" stroke-linecap=\"round\" style=\"stroke:blue;stroke-width:2\" /><line x1=\"205.057\" y1=\"562.644\" x2=\"218.178\" y2=\"577.738\" stroke-linecap=\"round\" style=\"stroke:blue;stroke-width:2\" /><line x1=\"218.178\" y1=\"577.738\" x2=\"226.707\" y2=\"587.549\" stroke-linecap=\"round\" style=\"stroke:purple;stroke-width:2\" /><line x1=\"226.707\" y1=\"587.549\" x2=\"213.946\" y2=\"590.03\" stroke-linecap=\"round\" style=\"stroke:purple;stroke-width:2\" /><line x1=\"213.946\" y1=\"590.03\" x2=\"218.178\" y2=\"577.738\" stroke-linecap=\"round\" style=\"stroke:purple;stroke-width:2\" /><line x1=\"218.178\" y1=\"577.738\" x2=\"206.435\" y2=\"541.598\" stroke-linecap=\"round\" style=\"stroke:purple;stroke-width:2\" /><path d=\"M 206.435 541.598 A 21 21 0 0 0 166.491 554.577\" stroke-linecap=\"round\" \n",
              "            fill=\"transparent\" fill-opacity=\"0\" style=\"stroke:blue;stroke-width:2\"/><path d=\"M 166.491 554.577 A 21 21 0 0 0 206.435 541.598\" stroke-linecap=\"round\" \n",
              "            fill=\"transparent\" fill-opacity=\"0\" style=\"stroke:blue;stroke-width:2\"/><line x1=\"206.435\" y1=\"541.598\" x2=\"221.407\" y2=\"553.296\" stroke-linecap=\"round\" style=\"stroke:blue;stroke-width:2\" /><path d=\"M 221.407 553.296 A 18 18 0 0 0 243.571 524.928\" stroke-linecap=\"round\" \n",
              "            fill=\"transparent\" fill-opacity=\"0\" style=\"stroke:blue;stroke-width:2\"/><path d=\"M 243.571 524.928 A 18 18 0 0 0 221.407 553.296\" stroke-linecap=\"round\" \n",
              "            fill=\"transparent\" fill-opacity=\"0\" style=\"stroke:blue;stroke-width:2\"/><line x1=\"221.407\" y1=\"553.296\" x2=\"221.407\" y2=\"529.296\" stroke-linecap=\"round\" style=\"stroke:blue;stroke-width:2\" /><path fill-rule=\"evenodd\" fill-opacity=\"1\" d=\"M 221.407 529.296  L 221.407 499.296  L 239.041 523.567  L 210.509 514.296  L 239.041 505.025  L 221.407 529.296 \" stroke-linecap=\"round\" style=\"stroke:orange;stroke-width:2\" fill=\"orange\" /><line x1=\"221.407\" y1=\"529.296\" x2=\"225.414\" y2=\"508.682\" stroke-linecap=\"round\" style=\"stroke:orange;stroke-width:2\" /><line x1=\"225.414\" y1=\"508.682\" x2=\"227.322\" y2=\"498.866\" stroke-linecap=\"round\" style=\"stroke:green;stroke-width:2\" /><line x1=\"227.322\" y1=\"498.866\" x2=\"234.869\" y2=\"505.427\" stroke-linecap=\"round\" style=\"stroke:green;stroke-width:2\" /><line x1=\"234.869\" y1=\"505.427\" x2=\"225.414\" y2=\"508.683\" stroke-linecap=\"round\" style=\"stroke:green;stroke-width:2\" /><line x1=\"225.414\" y1=\"508.683\" x2=\"236.191\" y2=\"501.413\" stroke-linecap=\"round\" style=\"stroke:green;stroke-width:2\" /><line x1=\"236.191\" y1=\"501.413\" x2=\"245.31\" y2=\"495.262\" stroke-linecap=\"round\" style=\"stroke:pink;stroke-width:2\" /><line x1=\"245.31\" y1=\"495.262\" x2=\"251.461\" y2=\"504.381\" stroke-linecap=\"round\" style=\"stroke:pink;stroke-width:2\" /><line x1=\"251.461\" y1=\"504.381\" x2=\"242.342\" y2=\"510.532\" stroke-linecap=\"round\" style=\"stroke:pink;stroke-width:2\" /><line x1=\"242.342\" y1=\"510.532\" x2=\"236.191\" y2=\"501.413\" stroke-linecap=\"round\" style=\"stroke:pink;stroke-width:2\" /><line x1=\"236.191\" y1=\"501.413\" x2=\"220.87\" y2=\"488.557\" stroke-linecap=\"round\" style=\"stroke:pink;stroke-width:2\" /><path fill-rule=\"evenodd\" fill-opacity=\"1\" d=\"M 220.87 488.557  L 207.847 477.63  L 224.806 478.816  L 210.389 487.825  L 216.757 472.063  L 220.87 488.558 \" stroke-linecap=\"round\" style=\"stroke:blue;stroke-width:2\" fill=\"blue\" /><line x1=\"220.87\" y1=\"488.558\" x2=\"206.87\" y2=\"488.558\" stroke-linecap=\"round\" style=\"stroke:blue;stroke-width:2\" /><line x1=\"206.87\" y1=\"488.558\" x2=\"182.87\" y2=\"488.558\" stroke-linecap=\"round\" style=\"stroke:orange;stroke-width:2\" /><line x1=\"182.87\" y1=\"488.558\" x2=\"182.87\" y2=\"464.558\" stroke-linecap=\"round\" style=\"stroke:orange;stroke-width:2\" /><line x1=\"182.87\" y1=\"464.558\" x2=\"206.87\" y2=\"464.558\" stroke-linecap=\"round\" style=\"stroke:orange;stroke-width:2\" /><line x1=\"206.87\" y1=\"464.558\" x2=\"206.87\" y2=\"488.558\" stroke-linecap=\"round\" style=\"stroke:orange;stroke-width:2\" /><line x1=\"206.87\" y1=\"488.558\" x2=\"185.648\" y2=\"458.249\" stroke-linecap=\"round\" style=\"stroke:orange;stroke-width:2\" /><path fill-rule=\"evenodd\" fill-opacity=\"1\" d=\"M 185.648 458.249  L 173.603 441.047  L 193.459 447.884  L 173.377 454.024  L 186.015 437.253  L 185.648 458.25 \" stroke-linecap=\"round\" style=\"stroke:purple;stroke-width:2\" fill=\"purple\" /><line x1=\"185.648\" y1=\"458.25\" x2=\"171.945\" y2=\"464.351\" stroke-linecap=\"round\" style=\"stroke:purple;stroke-width:2\" /><line x1=\"171.945\" y1=\"464.351\" x2=\"159.155\" y2=\"470.045\" stroke-linecap=\"round\" style=\"stroke:blue;stroke-width:2\" /><line x1=\"159.155\" y1=\"470.045\" x2=\"160.618\" y2=\"456.122\" stroke-linecap=\"round\" style=\"stroke:blue;stroke-width:2\" /><line x1=\"160.618\" y1=\"456.122\" x2=\"171.944\" y2=\"464.351\" stroke-linecap=\"round\" style=\"stroke:blue;stroke-width:2\" /><line x1=\"171.944\" y1=\"464.351\" x2=\"139.178\" y2=\"487.294\" stroke-linecap=\"round\" style=\"stroke:blue;stroke-width:2\" /><path fill-rule=\"evenodd\" fill-opacity=\"1\" d=\"M 139.178 487.294  L 114.603 504.501  L 124.37 476.135  L 133.141 504.824  L 109.182 486.77  L 139.177 487.294 \" stroke-linecap=\"round\" style=\"stroke:yellow;stroke-width:2\" fill=\"yellow\" />\n",
              "        \n",
              "        \n",
              "        <g id=\"classic\" visibility=\"visible\" transform=\"rotate(55.0,139.177,487.294) translate(139.177, 487.294)\">\n",
              "<polygon points=\"-5,-4.5 0,-2.5 5,-4.5 0,4.5\" transform=\"skewX(0) scale(1,1)\" style=\"stroke:yellow;fill:yellow;stroke-width:1\" />\n",
              "</g>\n",
              "      </svg>\n",
              "    "
            ]
          },
          "metadata": {}
        }
      ]
    },
    {
      "cell_type": "code",
      "source": [
        "pencil.clear()"
      ],
      "metadata": {
        "colab": {
          "base_uri": "https://localhost:8080/",
          "height": 820
        },
        "id": "nBc6_D35Gk22",
        "outputId": "bb6794c4-77ce-4bd5-b64e-cccc1b449218"
      },
      "execution_count": null,
      "outputs": [
        {
          "output_type": "display_data",
          "data": {
            "text/plain": [
              "<IPython.core.display.HTML object>"
            ],
            "text/html": [
              "\n",
              "      <svg width=\"800\" height=\"800\">  \n",
              "        <rect width=\"100%\" height=\"100%\" style=\"fill:white;stroke:;stroke-width:1\"/>\n",
              "        \n",
              "        \n",
              "        \n",
              "        \n",
              "        \n",
              "        <g id=\"classic\" visibility=\"visible\" transform=\"rotate(55.0,139.177,487.294) translate(139.177, 487.294)\">\n",
              "<polygon points=\"-5,-4.5 0,-2.5 5,-4.5 0,4.5\" transform=\"skewX(0) scale(1,1)\" style=\"stroke:yellow;fill:yellow;stroke-width:1\" />\n",
              "</g>\n",
              "      </svg>\n",
              "    "
            ]
          },
          "metadata": {}
        }
      ]
    },
    {
      "cell_type": "code",
      "source": [
        "for i in range (30):\n",
        "  draw2()"
      ],
      "metadata": {
        "colab": {
          "base_uri": "https://localhost:8080/",
          "height": 820
        },
        "id": "Vg2SEeYWHK89",
        "outputId": "0b856b4c-e40f-4cc5-c20f-e125d16e9233"
      },
      "execution_count": null,
      "outputs": [
        {
          "output_type": "display_data",
          "data": {
            "text/plain": [
              "<IPython.core.display.HTML object>"
            ],
            "text/html": [
              "\n",
              "      <svg width=\"800\" height=\"800\">  \n",
              "        <rect width=\"100%\" height=\"100%\" style=\"fill:white;stroke:;stroke-width:1\"/>\n",
              "        \n",
              "        \n",
              "        <line x1=\"139.177\" y1=\"487.294\" x2=\"166.018\" y2=\"527.088\" stroke-linecap=\"round\" style=\"stroke:yellow;stroke-width:2\" /><path d=\"M 166.018 527.088 A 26 26 0 0 0 209.128 498.01\" stroke-linecap=\"round\" \n",
              "            fill=\"transparent\" fill-opacity=\"0\" style=\"stroke:green;stroke-width:2\"/><path d=\"M 209.128 498.01 A 26 26 0 0 0 166.018 527.088\" stroke-linecap=\"round\" \n",
              "            fill=\"transparent\" fill-opacity=\"0\" style=\"stroke:green;stroke-width:2\"/><line x1=\"166.018\" y1=\"527.088\" x2=\"188.424\" y2=\"535.689\" stroke-linecap=\"round\" style=\"stroke:green;stroke-width:2\" /><line x1=\"188.424\" y1=\"535.689\" x2=\"209.896\" y2=\"543.931\" stroke-linecap=\"round\" style=\"stroke:orange;stroke-width:2\" /><line x1=\"209.896\" y1=\"543.931\" x2=\"201.654\" y2=\"565.403\" stroke-linecap=\"round\" style=\"stroke:orange;stroke-width:2\" /><line x1=\"201.654\" y1=\"565.403\" x2=\"180.182\" y2=\"557.161\" stroke-linecap=\"round\" style=\"stroke:orange;stroke-width:2\" /><line x1=\"180.182\" y1=\"557.161\" x2=\"188.424\" y2=\"535.689\" stroke-linecap=\"round\" style=\"stroke:orange;stroke-width:2\" /><line x1=\"188.424\" y1=\"535.689\" x2=\"176.681\" y2=\"571.829\" stroke-linecap=\"round\" style=\"stroke:orange;stroke-width:2\" /><line x1=\"176.681\" y1=\"571.829\" x2=\"169.265\" y2=\"594.654\" stroke-linecap=\"round\" style=\"stroke:green;stroke-width:2\" /><line x1=\"169.265\" y1=\"594.654\" x2=\"146.44\" y2=\"587.238\" stroke-linecap=\"round\" style=\"stroke:green;stroke-width:2\" /><line x1=\"146.44\" y1=\"587.238\" x2=\"153.856\" y2=\"564.413\" stroke-linecap=\"round\" style=\"stroke:green;stroke-width:2\" /><line x1=\"153.856\" y1=\"564.413\" x2=\"176.681\" y2=\"571.829\" stroke-linecap=\"round\" style=\"stroke:green;stroke-width:2\" /><line x1=\"176.681\" y1=\"571.829\" x2=\"184.407\" y2=\"558.971\" stroke-linecap=\"round\" style=\"stroke:green;stroke-width:2\" /><path d=\"M 184.407 558.971 A 25 25 0 0 0 141.549 533.219\" stroke-linecap=\"round\" \n",
              "            fill=\"transparent\" fill-opacity=\"0\" style=\"stroke:orange;stroke-width:2\"/><path d=\"M 141.549 533.219 A 25 25 0 0 0 184.407 558.971\" stroke-linecap=\"round\" \n",
              "            fill=\"transparent\" fill-opacity=\"0\" style=\"stroke:orange;stroke-width:2\"/><line x1=\"184.407\" y1=\"558.971\" x2=\"172.194\" y2=\"544.416\" stroke-linecap=\"round\" style=\"stroke:orange;stroke-width:2\" /><path fill-rule=\"evenodd\" fill-opacity=\"1\" d=\"M 172.194 544.416  L 156.124 525.265  L 180.381 531.313  L 157.201 540.678  L 170.449 519.477  L 172.193 544.416 \" stroke-linecap=\"round\" style=\"stroke:red;stroke-width:2\" fill=\"red\" /><line x1=\"172.193\" y1=\"544.416\" x2=\"186.193\" y2=\"544.416\" stroke-linecap=\"round\" style=\"stroke:red;stroke-width:2\" /><line x1=\"186.193\" y1=\"544.416\" x2=\"200.193\" y2=\"544.416\" stroke-linecap=\"round\" style=\"stroke:purple;stroke-width:2\" /><line x1=\"200.193\" y1=\"544.416\" x2=\"193.193\" y2=\"556.54\" stroke-linecap=\"round\" style=\"stroke:purple;stroke-width:2\" /><line x1=\"193.193\" y1=\"556.54\" x2=\"186.193\" y2=\"544.416\" stroke-linecap=\"round\" style=\"stroke:purple;stroke-width:2\" /><line x1=\"186.193\" y1=\"544.416\" x2=\"203.68\" y2=\"572.402\" stroke-linecap=\"round\" style=\"stroke:purple;stroke-width:2\" /><path d=\"M 203.68 572.402 A 27 27 0 0 0 249.475 543.786\" stroke-linecap=\"round\" \n",
              "            fill=\"transparent\" fill-opacity=\"0\" style=\"stroke:red;stroke-width:2\"/><path d=\"M 249.475 543.786 A 27 27 0 0 0 203.68 572.402\" stroke-linecap=\"round\" \n",
              "            fill=\"transparent\" fill-opacity=\"0\" style=\"stroke:red;stroke-width:2\"/><line x1=\"203.68\" y1=\"572.402\" x2=\"192.334\" y2=\"576.309\" stroke-linecap=\"round\" style=\"stroke:red;stroke-width:2\" /><line x1=\"192.334\" y1=\"576.309\" x2=\"164.914\" y2=\"585.75\" stroke-linecap=\"round\" style=\"stroke:green;stroke-width:2\" /><line x1=\"164.914\" y1=\"585.75\" x2=\"170.447\" y2=\"557.283\" stroke-linecap=\"round\" style=\"stroke:green;stroke-width:2\" /><line x1=\"170.447\" y1=\"557.283\" x2=\"192.334\" y2=\"576.309\" stroke-linecap=\"round\" style=\"stroke:green;stroke-width:2\" /><line x1=\"192.334\" y1=\"576.309\" x2=\"210.332\" y2=\"597.758\" stroke-linecap=\"round\" style=\"stroke:green;stroke-width:2\" /><line x1=\"210.332\" y1=\"597.758\" x2=\"216.76\" y2=\"605.418\" stroke-linecap=\"round\" style=\"stroke:blue;stroke-width:2\" /><line x1=\"216.76\" y1=\"605.418\" x2=\"209.1\" y2=\"611.846\" stroke-linecap=\"round\" style=\"stroke:blue;stroke-width:2\" /><line x1=\"209.1\" y1=\"611.846\" x2=\"202.672\" y2=\"604.186\" stroke-linecap=\"round\" style=\"stroke:blue;stroke-width:2\" /><line x1=\"202.672\" y1=\"604.186\" x2=\"210.332\" y2=\"597.758\" stroke-linecap=\"round\" style=\"stroke:blue;stroke-width:2\" /><line x1=\"210.332\" y1=\"597.758\" x2=\"203.887\" y2=\"567.435\" stroke-linecap=\"round\" style=\"stroke:blue;stroke-width:2\" /><line x1=\"203.887\" y1=\"567.435\" x2=\"198.065\" y2=\"540.047\" stroke-linecap=\"round\" style=\"stroke:purple;stroke-width:2\" /><line x1=\"198.065\" y1=\"540.047\" x2=\"225.453\" y2=\"534.225\" stroke-linecap=\"round\" style=\"stroke:purple;stroke-width:2\" /><line x1=\"225.453\" y1=\"534.225\" x2=\"231.275\" y2=\"561.613\" stroke-linecap=\"round\" style=\"stroke:purple;stroke-width:2\" /><line x1=\"231.275\" y1=\"561.613\" x2=\"203.887\" y2=\"567.435\" stroke-linecap=\"round\" style=\"stroke:purple;stroke-width:2\" /><line x1=\"203.887\" y1=\"567.435\" x2=\"208.771\" y2=\"581.618\" stroke-linecap=\"round\" style=\"stroke:purple;stroke-width:2\" /><line x1=\"208.771\" y1=\"581.618\" x2=\"216.585\" y2=\"604.31\" stroke-linecap=\"round\" style=\"stroke:green;stroke-width:2\" /><line x1=\"216.585\" y1=\"604.31\" x2=\"193.893\" y2=\"612.124\" stroke-linecap=\"round\" style=\"stroke:green;stroke-width:2\" /><line x1=\"193.893\" y1=\"612.124\" x2=\"186.079\" y2=\"589.432\" stroke-linecap=\"round\" style=\"stroke:green;stroke-width:2\" /><line x1=\"186.079\" y1=\"589.432\" x2=\"208.771\" y2=\"581.618\" stroke-linecap=\"round\" style=\"stroke:green;stroke-width:2\" /><line x1=\"208.771\" y1=\"581.618\" x2=\"226.771\" y2=\"612.795\" stroke-linecap=\"round\" style=\"stroke:green;stroke-width:2\" /><line x1=\"226.771\" y1=\"612.795\" x2=\"239.271\" y2=\"634.446\" stroke-linecap=\"round\" style=\"stroke:purple;stroke-width:2\" /><line x1=\"239.271\" y1=\"634.446\" x2=\"214.271\" y2=\"634.446\" stroke-linecap=\"round\" style=\"stroke:purple;stroke-width:2\" /><line x1=\"214.271\" y1=\"634.446\" x2=\"226.771\" y2=\"612.795\" stroke-linecap=\"round\" style=\"stroke:purple;stroke-width:2\" /><line x1=\"226.771\" y1=\"612.795\" x2=\"211.364\" y2=\"605.61\" stroke-linecap=\"round\" style=\"stroke:purple;stroke-width:2\" /><line x1=\"211.364\" y1=\"605.61\" x2=\"202.301\" y2=\"601.384\" stroke-linecap=\"round\" style=\"stroke:red;stroke-width:2\" /><line x1=\"202.301\" y1=\"601.384\" x2=\"210.493\" y2=\"595.648\" stroke-linecap=\"round\" style=\"stroke:red;stroke-width:2\" /><line x1=\"210.493\" y1=\"595.648\" x2=\"211.365\" y2=\"605.61\" stroke-linecap=\"round\" style=\"stroke:red;stroke-width:2\" /><line x1=\"211.365\" y1=\"605.61\" x2=\"236.039\" y2=\"572.866\" stroke-linecap=\"round\" style=\"stroke:red;stroke-width:2\" /><line x1=\"236.039\" y1=\"572.866\" x2=\"246.872\" y2=\"558.491\" stroke-linecap=\"round\" style=\"stroke:pink;stroke-width:2\" /><line x1=\"246.872\" y1=\"558.491\" x2=\"253.905\" y2=\"575.06\" stroke-linecap=\"round\" style=\"stroke:pink;stroke-width:2\" /><line x1=\"253.905\" y1=\"575.06\" x2=\"236.039\" y2=\"572.866\" stroke-linecap=\"round\" style=\"stroke:pink;stroke-width:2\" /><line x1=\"236.039\" y1=\"572.866\" x2=\"256.114\" y2=\"544.196\" stroke-linecap=\"round\" style=\"stroke:pink;stroke-width:2\" /><path fill-rule=\"evenodd\" fill-opacity=\"1\" d=\"M 256.114 544.196  L 268.733 526.175  L 269.117 548.172  L 255.877 530.602  L 276.916 537.034  L 256.115 544.196 \" stroke-linecap=\"round\" style=\"stroke:yellow;stroke-width:2\" fill=\"yellow\" /><line x1=\"256.115\" y1=\"544.196\" x2=\"287.601\" y2=\"526.743\" stroke-linecap=\"round\" style=\"stroke:yellow;stroke-width:2\" /><path d=\"M 287.601 526.743 A 21 21 0 0 0 267.239 490.009\" stroke-linecap=\"round\" \n",
              "            fill=\"transparent\" fill-opacity=\"0\" style=\"stroke:pink;stroke-width:2\"/><path d=\"M 267.239 490.009 A 21 21 0 0 0 287.601 526.743\" stroke-linecap=\"round\" \n",
              "            fill=\"transparent\" fill-opacity=\"0\" style=\"stroke:pink;stroke-width:2\"/><line x1=\"287.601\" y1=\"526.743\" x2=\"243.611\" y2=\"513.294\" stroke-linecap=\"round\" style=\"stroke:pink;stroke-width:2\" /><line x1=\"243.611\" y1=\"513.294\" x2=\"217.791\" y2=\"505.4\" stroke-linecap=\"round\" style=\"stroke:green;stroke-width:2\" /><line x1=\"217.791\" y1=\"505.4\" x2=\"237.538\" y2=\"486.986\" stroke-linecap=\"round\" style=\"stroke:green;stroke-width:2\" /><line x1=\"237.538\" y1=\"486.986\" x2=\"243.612\" y2=\"513.294\" stroke-linecap=\"round\" style=\"stroke:green;stroke-width:2\" /><line x1=\"243.612\" y1=\"513.294\" x2=\"268.605\" y2=\"506.127\" stroke-linecap=\"round\" style=\"stroke:green;stroke-width:2\" /><path d=\"M 268.605 506.127 A 26 26 0 0 0 254.272 456.141\" stroke-linecap=\"round\" \n",
              "            fill=\"transparent\" fill-opacity=\"0\" style=\"stroke:purple;stroke-width:2\"/><path d=\"M 254.272 456.141 A 26 26 0 0 0 268.605 506.127\" stroke-linecap=\"round\" \n",
              "            fill=\"transparent\" fill-opacity=\"0\" style=\"stroke:purple;stroke-width:2\"/><line x1=\"268.605\" y1=\"506.127\" x2=\"310.606\" y2=\"531.364\" stroke-linecap=\"round\" style=\"stroke:purple;stroke-width:2\" /><path d=\"M 310.606 531.364 A 12 12 0 0 0 322.967 510.792\" stroke-linecap=\"round\" \n",
              "            fill=\"transparent\" fill-opacity=\"0\" style=\"stroke:orange;stroke-width:2\"/><path d=\"M 322.967 510.792 A 12 12 0 0 0 310.606 531.364\" stroke-linecap=\"round\" \n",
              "            fill=\"transparent\" fill-opacity=\"0\" style=\"stroke:orange;stroke-width:2\"/><line x1=\"310.606\" y1=\"531.364\" x2=\"342.126\" y2=\"555.99\" stroke-linecap=\"round\" style=\"stroke:orange;stroke-width:2\" /><path fill-rule=\"evenodd\" fill-opacity=\"1\" d=\"M 342.126 555.99  L 364.978 573.844  L 335.996 572.832  L 360.038 556.615  L 350.119 583.866  L 342.126 555.989 \" stroke-linecap=\"round\" style=\"stroke:red;stroke-width:2\" fill=\"red\" /><line x1=\"342.126\" y1=\"555.989\" x2=\"330.37\" y2=\"539.809\" stroke-linecap=\"round\" style=\"stroke:red;stroke-width:2\" /><path d=\"M 330.37 539.809 A 12 12 0 0 0 310.954 553.916\" stroke-linecap=\"round\" \n",
              "            fill=\"transparent\" fill-opacity=\"0\" style=\"stroke:yellow;stroke-width:2\"/><path d=\"M 310.954 553.916 A 12 12 0 0 0 330.37 539.809\" stroke-linecap=\"round\" \n",
              "            fill=\"transparent\" fill-opacity=\"0\" style=\"stroke:yellow;stroke-width:2\"/><line x1=\"330.37\" y1=\"539.809\" x2=\"325.981\" y2=\"517.232\" stroke-linecap=\"round\" style=\"stroke:yellow;stroke-width:2\" /><path fill-rule=\"evenodd\" fill-opacity=\"1\" d=\"M 325.981 517.232  L 321.02 491.71  L 340.035 509.442  L 314.229 506.273  L 336.969 493.668  L 325.981 517.232 \" stroke-linecap=\"round\" style=\"stroke:blue;stroke-width:2\" fill=\"blue\" /><line x1=\"325.981\" y1=\"517.232\" x2=\"341.687\" y2=\"520.285\" stroke-linecap=\"round\" style=\"stroke:blue;stroke-width:2\" /><line x1=\"341.687\" y1=\"520.285\" x2=\"369.173\" y2=\"525.628\" stroke-linecap=\"round\" style=\"stroke:purple;stroke-width:2\" /><line x1=\"369.173\" y1=\"525.628\" x2=\"350.803\" y2=\"546.76\" stroke-linecap=\"round\" style=\"stroke:purple;stroke-width:2\" /><line x1=\"350.803\" y1=\"546.76\" x2=\"341.687\" y2=\"520.285\" stroke-linecap=\"round\" style=\"stroke:purple;stroke-width:2\" /><line x1=\"341.687\" y1=\"520.285\" x2=\"374.816\" y2=\"512.637\" stroke-linecap=\"round\" style=\"stroke:purple;stroke-width:2\" /><path fill-rule=\"evenodd\" fill-opacity=\"1\" d=\"M 374.816 512.637  L 385.534 510.163  L 378.317 518.465  L 379.276 507.507  L 384.941 516.936  L 374.815 512.638 \" stroke-linecap=\"round\" style=\"stroke:red;stroke-width:2\" fill=\"red\" /><line x1=\"374.815\" y1=\"512.638\" x2=\"344.083\" y2=\"536.649\" stroke-linecap=\"round\" style=\"stroke:red;stroke-width:2\" /><path d=\"M 344.083 536.649 A 26 26 0 0 0 376.097 577.626\" stroke-linecap=\"round\" \n",
              "            fill=\"transparent\" fill-opacity=\"0\" style=\"stroke:pink;stroke-width:2\"/><path d=\"M 376.097 577.626 A 26 26 0 0 0 344.083 536.649\" stroke-linecap=\"round\" \n",
              "            fill=\"transparent\" fill-opacity=\"0\" style=\"stroke:pink;stroke-width:2\"/><line x1=\"344.083\" y1=\"536.649\" x2=\"351.589\" y2=\"564.661\" stroke-linecap=\"round\" style=\"stroke:pink;stroke-width:2\" /><path fill-rule=\"evenodd\" fill-opacity=\"1\" d=\"M 351.589 564.661  L 356.765 583.98  L 341.222 571.394  L 361.195 572.441  L 344.422 583.334  L 351.589 564.662 \" stroke-linecap=\"round\" style=\"stroke:yellow;stroke-width:2\" fill=\"yellow\" /><line x1=\"351.589\" y1=\"564.662\" x2=\"352.287\" y2=\"574.638\" stroke-linecap=\"round\" style=\"stroke:yellow;stroke-width:2\" /><path fill-rule=\"evenodd\" fill-opacity=\"1\" d=\"M 352.287 574.638  L 353.194 587.606  L 344.838 577.647  L 357.452 580.792  L 345.399 585.662  L 352.288 574.637 \" stroke-linecap=\"round\" style=\"stroke:purple;stroke-width:2\" fill=\"purple\" /><line x1=\"352.288\" y1=\"574.637\" x2=\"367.054\" y2=\"562.68\" stroke-linecap=\"round\" style=\"stroke:purple;stroke-width:2\" /><line x1=\"367.054\" y1=\"562.68\" x2=\"376.38\" y2=\"555.128\" stroke-linecap=\"round\" style=\"stroke:blue;stroke-width:2\" /><line x1=\"376.38\" y1=\"555.128\" x2=\"378.257\" y2=\"566.98\" stroke-linecap=\"round\" style=\"stroke:blue;stroke-width:2\" /><line x1=\"378.257\" y1=\"566.98\" x2=\"367.054\" y2=\"562.68\" stroke-linecap=\"round\" style=\"stroke:blue;stroke-width:2\" /><line x1=\"367.054\" y1=\"562.68\" x2=\"376.111\" y2=\"570.553\" stroke-linecap=\"round\" style=\"stroke:blue;stroke-width:2\" /><path fill-rule=\"evenodd\" fill-opacity=\"1\" d=\"M 376.111 570.553  L 395.733 587.611  L 369.832 585.345  L 392.118 571.954  L 381.959 595.887  L 376.11 570.553 \" stroke-linecap=\"round\" style=\"stroke:yellow;stroke-width:2\" fill=\"yellow\" /><line x1=\"376.11\" y1=\"570.553\" x2=\"372.29\" y2=\"592.219\" stroke-linecap=\"round\" style=\"stroke:yellow;stroke-width:2\" /><line x1=\"372.29\" y1=\"592.219\" x2=\"370.033\" y2=\"605.022\" stroke-linecap=\"round\" style=\"stroke:orange;stroke-width:2\" /><line x1=\"370.033\" y1=\"605.022\" x2=\"357.23\" y2=\"602.765\" stroke-linecap=\"round\" style=\"stroke:orange;stroke-width:2\" /><line x1=\"357.23\" y1=\"602.765\" x2=\"359.487\" y2=\"589.962\" stroke-linecap=\"round\" style=\"stroke:orange;stroke-width:2\" /><line x1=\"359.487\" y1=\"589.962\" x2=\"372.29\" y2=\"592.219\" stroke-linecap=\"round\" style=\"stroke:orange;stroke-width:2\" />\n",
              "        \n",
              "        \n",
              "        <g id=\"classic\" visibility=\"visible\" transform=\"rotate(-80.0,372.29,592.219) translate(372.29, 592.219)\">\n",
              "<polygon points=\"-5,-4.5 0,-2.5 5,-4.5 0,4.5\" transform=\"skewX(0) scale(1,1)\" style=\"stroke:orange;fill:orange;stroke-width:1\" />\n",
              "<animateTransform id = \"one\" attributeName=\"transform\" \n",
              "                      type=\"scale\"\n",
              "                      from=\"1 1\" to=\"1 1\"\n",
              "                      begin=\"0s\" dur=\"0.01s\"\n",
              "                      repeatCount=\"1\"\n",
              "                      additive=\"sum\"\n",
              "                      fill=\"freeze\"\n",
              "                /><animateTransform attributeName=\"transform\"\n",
              "                    type=\"rotate\"\n",
              "                    from=\"0 0 0\" to =\"90 0 0\"\n",
              "                    begin=\"one.end\" dur=\"0.25s\"\n",
              "                    repeatCount=\"1\"\n",
              "                    additive=\"sum\"\n",
              "                    fill=\"freeze\"\n",
              "                /></g>\n",
              "      </svg>\n",
              "    "
            ]
          },
          "metadata": {}
        }
      ]
    },
    {
      "cell_type": "code",
      "source": [
        "'''Making bigger size variations and fills'''\n",
        "\n",
        "\n",
        "def draw3():\n",
        "    # generate a random number between -180 and 180 for the turtle to turn\n",
        "    angle = random.randint(-180, 180)\n",
        "    pencil.right(angle)\n",
        "    \n",
        "    # generate a random number between 10 and 50 for the turtle to move forward\n",
        "    distance = random.randint(10, 50)\n",
        "    pencil.forward(distance)\n",
        "    \n",
        "    # generate a random color for the turtle to draw with\n",
        "    colors = [\"red\", \"orange\", \"yellow\", \"green\", \"blue\", \"purple\", \"pink\"]\n",
        "    pencil.color(random.choice(colors))\n",
        "    \n",
        "    # generate a random number between 10 and 30 for the size of the shape\n",
        "    size = random.randint(10, 100)\n",
        "    \n",
        "    # randomly choose a shape to draw\n",
        "    shape = random.choice([\"circle\", \"square\", \"triangle\", \"star\"])\n",
        "    \n",
        "    # draw the shape\n",
        "    if shape == \"circle\":\n",
        "        pencil.begin_fill()\n",
        "        pencil.circle(size)\n",
        "        pencil.end_fill()\n",
        "    elif shape == \"square\":\n",
        "        for i in range(4):\n",
        "            pencil.forward(size)\n",
        "            pencil.right(90)\n",
        "    elif shape == \"triangle\":\n",
        "        for i in range(3):\n",
        "            pencil.forward(size)\n",
        "            pencil.right(120)\n",
        "    elif shape == \"star\":\n",
        "        pencil.begin_fill()\n",
        "        for i in range(5):\n",
        "            pencil.forward(size)\n",
        "            pencil.right(144)\n",
        "        pencil.end_fill()"
      ],
      "metadata": {
        "id": "LwE5dS70HmKm"
      },
      "execution_count": null,
      "outputs": []
    },
    {
      "cell_type": "code",
      "source": [
        "pencil.clear()\n",
        "for i in range (30):\n",
        "  draw3()"
      ],
      "metadata": {
        "colab": {
          "base_uri": "https://localhost:8080/",
          "height": 820
        },
        "id": "GSuXK1icIrHb",
        "outputId": "c08f4ca8-a143-4eb8-90ca-b268bd769147"
      },
      "execution_count": null,
      "outputs": [
        {
          "output_type": "display_data",
          "data": {
            "text/plain": [
              "<IPython.core.display.HTML object>"
            ],
            "text/html": [
              "\n",
              "      <svg width=\"800\" height=\"800\">  \n",
              "        <rect width=\"100%\" height=\"100%\" style=\"fill:white;stroke:;stroke-width:1\"/>\n",
              "        \n",
              "        \n",
              "        <line x1=\"372.29\" y1=\"592.219\" x2=\"381.347\" y2=\"600.092\" stroke-linecap=\"round\" style=\"stroke:orange;stroke-width:2\" /><line x1=\"381.347\" y1=\"600.092\" x2=\"428.139\" y2=\"640.768\" stroke-linecap=\"round\" style=\"stroke:purple;stroke-width:2\" /><line x1=\"428.139\" y1=\"640.768\" x2=\"387.463\" y2=\"687.56\" stroke-linecap=\"round\" style=\"stroke:purple;stroke-width:2\" /><line x1=\"387.463\" y1=\"687.56\" x2=\"340.671\" y2=\"646.884\" stroke-linecap=\"round\" style=\"stroke:purple;stroke-width:2\" /><line x1=\"340.671\" y1=\"646.884\" x2=\"381.347\" y2=\"600.092\" stroke-linecap=\"round\" style=\"stroke:purple;stroke-width:2\" /><line x1=\"381.347\" y1=\"600.092\" x2=\"388.954\" y2=\"583.778\" stroke-linecap=\"round\" style=\"stroke:purple;stroke-width:2\" /><path fill-rule=\"evenodd\" fill-opacity=\"1\" d=\"M 388.954 583.778  L 399.097 562.027  L 403.676 585.586  L 386.124 569.218  L 409.945 572.143  L 388.954 583.778 \" stroke-linecap=\"round\" style=\"stroke:orange;stroke-width:2\" fill=\"orange\" /><line x1=\"388.954\" y1=\"583.778\" x2=\"367.013\" y2=\"563.318\" stroke-linecap=\"round\" style=\"stroke:orange;stroke-width:2\" /><path fill-rule=\"evenodd\" fill-opacity=\"1\" d=\"M 367.013 563.318  L 334.833 533.31  L 378.505 538.672  L 340.022 560.004  L 358.617 520.126  L 367.013 563.318 \" stroke-linecap=\"round\" style=\"stroke:orange;stroke-width:2\" fill=\"orange\" /><line x1=\"367.013\" y1=\"563.318\" x2=\"400.455\" y2=\"593.429\" stroke-linecap=\"round\" style=\"stroke:orange;stroke-width:2\" /><path fill-rule=\"evenodd\" fill-opacity=\"1\" d=\"M 400.455 593.429  A 81 81 0 0 0 508.854 473.04  A 81 81 0 0 0 400.455 593.429 \" stroke-linecap=\"round\" style=\"stroke:yellow;stroke-width:2\" fill=\"yellow\" /><line x1=\"400.455\" y1=\"593.429\" x2=\"383.684\" y2=\"580.791\" stroke-linecap=\"round\" style=\"stroke:yellow;stroke-width:2\" /><path fill-rule=\"evenodd\" fill-opacity=\"1\" d=\"M 383.684 580.791  A 77 77 0 0 0 291.004 703.781  A 77 77 0 0 0 383.684 580.791 \" stroke-linecap=\"round\" style=\"stroke:blue;stroke-width:2\" fill=\"blue\" /><line x1=\"383.684\" y1=\"580.791\" x2=\"342.574\" y2=\"562.488\" stroke-linecap=\"round\" style=\"stroke:blue;stroke-width:2\" /><path fill-rule=\"evenodd\" fill-opacity=\"1\" d=\"M 342.574 562.488  L 294.156 540.931  L 345.998 529.912  L 310.534 569.299  L 316.074 516.589  L 342.574 562.488 \" stroke-linecap=\"round\" style=\"stroke:blue;stroke-width:2\" fill=\"blue\" /><line x1=\"342.574\" y1=\"562.488\" x2=\"338.507\" y2=\"553.353\" stroke-linecap=\"round\" style=\"stroke:blue;stroke-width:2\" /><line x1=\"338.507\" y1=\"553.353\" x2=\"320.204\" y2=\"512.243\" stroke-linecap=\"round\" style=\"stroke:red;stroke-width:2\" /><line x1=\"320.204\" y1=\"512.243\" x2=\"364.957\" y2=\"516.947\" stroke-linecap=\"round\" style=\"stroke:red;stroke-width:2\" /><line x1=\"364.957\" y1=\"516.947\" x2=\"338.507\" y2=\"553.353\" stroke-linecap=\"round\" style=\"stroke:red;stroke-width:2\" /><line x1=\"338.507\" y1=\"553.353\" x2=\"345.007\" y2=\"542.095\" stroke-linecap=\"round\" style=\"stroke:red;stroke-width:2\" /><path fill-rule=\"evenodd\" fill-opacity=\"1\" d=\"M 345.007 542.095  L 354.507 525.641  L 356.493 544.537  L 343.78 530.417  L 362.365 534.367  L 345.008 542.095 \" stroke-linecap=\"round\" style=\"stroke:blue;stroke-width:2\" fill=\"blue\" /><line x1=\"345.008\" y1=\"542.095\" x2=\"375.119\" y2=\"508.653\" stroke-linecap=\"round\" style=\"stroke:blue;stroke-width:2\" /><path fill-rule=\"evenodd\" fill-opacity=\"1\" d=\"M 375.119 508.653  L 416.605 462.578  L 410.124 524.238  L 379.124 470.544  L 435.764 495.762  L 375.119 508.653 \" stroke-linecap=\"round\" style=\"stroke:green;stroke-width:2\" fill=\"green\" /><line x1=\"375.119\" y1=\"508.653\" x2=\"403.359\" y2=\"534.08\" stroke-linecap=\"round\" style=\"stroke:green;stroke-width:2\" /><line x1=\"403.359\" y1=\"534.08\" x2=\"412.277\" y2=\"542.11\" stroke-linecap=\"round\" style=\"stroke:purple;stroke-width:2\" /><line x1=\"412.277\" y1=\"542.11\" x2=\"404.247\" y2=\"551.028\" stroke-linecap=\"round\" style=\"stroke:purple;stroke-width:2\" /><line x1=\"404.247\" y1=\"551.028\" x2=\"395.329\" y2=\"542.998\" stroke-linecap=\"round\" style=\"stroke:purple;stroke-width:2\" /><line x1=\"395.329\" y1=\"542.998\" x2=\"403.359\" y2=\"534.08\" stroke-linecap=\"round\" style=\"stroke:purple;stroke-width:2\" /><line x1=\"403.359\" y1=\"534.08\" x2=\"384.037\" y2=\"551.477\" stroke-linecap=\"round\" style=\"stroke:purple;stroke-width:2\" /><line x1=\"384.037\" y1=\"551.477\" x2=\"318.64\" y2=\"610.36\" stroke-linecap=\"round\" style=\"stroke:blue;stroke-width:2\" /><line x1=\"318.64\" y1=\"610.36\" x2=\"300.344\" y2=\"524.283\" stroke-linecap=\"round\" style=\"stroke:blue;stroke-width:2\" /><line x1=\"300.344\" y1=\"524.283\" x2=\"384.037\" y2=\"551.476\" stroke-linecap=\"round\" style=\"stroke:blue;stroke-width:2\" /><line x1=\"384.037\" y1=\"551.476\" x2=\"367.636\" y2=\"532.608\" stroke-linecap=\"round\" style=\"stroke:blue;stroke-width:2\" /><path fill-rule=\"evenodd\" fill-opacity=\"1\" d=\"M 367.636 532.608  A 94 94 0 0 0 225.751 655.947  A 94 94 0 0 0 367.636 532.608 \" stroke-linecap=\"round\" style=\"stroke:green;stroke-width:2\" fill=\"green\" /><line x1=\"367.636\" y1=\"532.608\" x2=\"384.412\" y2=\"557.479\" stroke-linecap=\"round\" style=\"stroke:green;stroke-width:2\" /><path fill-rule=\"evenodd\" fill-opacity=\"1\" d=\"M 384.412 557.479  A 45 45 0 0 0 459.025 507.152  A 45 45 0 0 0 384.412 557.479 \" stroke-linecap=\"round\" style=\"stroke:orange;stroke-width:2\" fill=\"orange\" /><line x1=\"384.412\" y1=\"557.479\" x2=\"415.27\" y2=\"538.938\" stroke-linecap=\"round\" style=\"stroke:orange;stroke-width:2\" /><path fill-rule=\"evenodd\" fill-opacity=\"1\" d=\"M 415.27 538.938  L 476.129 502.37  L 448.387 567.726  L 432.415 498.546  L 485.999 545.126  L 415.269 538.938 \" stroke-linecap=\"round\" style=\"stroke:purple;stroke-width:2\" fill=\"purple\" /><line x1=\"415.269\" y1=\"538.938\" x2=\"428.755\" y2=\"505.559\" stroke-linecap=\"round\" style=\"stroke:purple;stroke-width:2\" /><line x1=\"428.755\" y1=\"505.559\" x2=\"436.622\" y2=\"486.088\" stroke-linecap=\"round\" style=\"stroke:green;stroke-width:2\" /><line x1=\"436.622\" y1=\"486.088\" x2=\"456.093\" y2=\"493.955\" stroke-linecap=\"round\" style=\"stroke:green;stroke-width:2\" /><line x1=\"456.093\" y1=\"493.955\" x2=\"448.226\" y2=\"513.426\" stroke-linecap=\"round\" style=\"stroke:green;stroke-width:2\" /><line x1=\"448.226\" y1=\"513.426\" x2=\"428.755\" y2=\"505.559\" stroke-linecap=\"round\" style=\"stroke:green;stroke-width:2\" /><line x1=\"428.755\" y1=\"505.559\" x2=\"421.441\" y2=\"512.379\" stroke-linecap=\"round\" style=\"stroke:green;stroke-width:2\" /><line x1=\"421.441\" y1=\"512.379\" x2=\"392.187\" y2=\"539.659\" stroke-linecap=\"round\" style=\"stroke:purple;stroke-width:2\" /><line x1=\"392.187\" y1=\"539.659\" x2=\"383.189\" y2=\"500.684\" stroke-linecap=\"round\" style=\"stroke:purple;stroke-width:2\" /><line x1=\"383.189\" y1=\"500.684\" x2=\"421.441\" y2=\"512.379\" stroke-linecap=\"round\" style=\"stroke:purple;stroke-width:2\" /><line x1=\"421.441\" y1=\"512.379\" x2=\"424.57\" y2=\"492.625\" stroke-linecap=\"round\" style=\"stroke:purple;stroke-width:2\" /><path fill-rule=\"evenodd\" fill-opacity=\"1\" d=\"M 424.57 492.625  A 56 56 0 0 0 313.949 475.104  A 56 56 0 0 0 424.57 492.625 \" stroke-linecap=\"round\" style=\"stroke:green;stroke-width:2\" fill=\"green\" /><line x1=\"424.57\" y1=\"492.625\" x2=\"432.058\" y2=\"470.878\" stroke-linecap=\"round\" style=\"stroke:green;stroke-width:2\" /><path fill-rule=\"evenodd\" fill-opacity=\"1\" d=\"M 432.058 470.878  L 456.15 400.91  L 477.786 471.677  L 418.687 427.143  L 492.676 428.434  L 432.059 470.879 \" stroke-linecap=\"round\" style=\"stroke:red;stroke-width:2\" fill=\"red\" /><line x1=\"432.059\" y1=\"470.879\" x2=\"453.63\" y2=\"481.4\" stroke-linecap=\"round\" style=\"stroke:red;stroke-width:2\" /><line x1=\"453.63\" y1=\"481.4\" x2=\"517.444\" y2=\"512.524\" stroke-linecap=\"round\" style=\"stroke:yellow;stroke-width:2\" /><line x1=\"517.444\" y1=\"512.524\" x2=\"486.32\" y2=\"576.338\" stroke-linecap=\"round\" style=\"stroke:yellow;stroke-width:2\" /><line x1=\"486.32\" y1=\"576.338\" x2=\"422.506\" y2=\"545.214\" stroke-linecap=\"round\" style=\"stroke:yellow;stroke-width:2\" /><line x1=\"422.506\" y1=\"545.214\" x2=\"453.63\" y2=\"481.4\" stroke-linecap=\"round\" style=\"stroke:yellow;stroke-width:2\" /><line x1=\"453.63\" y1=\"481.4\" x2=\"463.695\" y2=\"496.323\" stroke-linecap=\"round\" style=\"stroke:yellow;stroke-width:2\" /><line x1=\"463.695\" y1=\"496.323\" x2=\"496.128\" y2=\"544.407\" stroke-linecap=\"round\" style=\"stroke:purple;stroke-width:2\" /><line x1=\"496.128\" y1=\"544.407\" x2=\"448.044\" y2=\"576.84\" stroke-linecap=\"round\" style=\"stroke:purple;stroke-width:2\" /><line x1=\"448.044\" y1=\"576.84\" x2=\"415.611\" y2=\"528.756\" stroke-linecap=\"round\" style=\"stroke:purple;stroke-width:2\" /><line x1=\"415.611\" y1=\"528.756\" x2=\"463.695\" y2=\"496.323\" stroke-linecap=\"round\" style=\"stroke:purple;stroke-width:2\" /><line x1=\"463.695\" y1=\"496.323\" x2=\"443.47\" y2=\"481.628\" stroke-linecap=\"round\" style=\"stroke:purple;stroke-width:2\" /><path fill-rule=\"evenodd\" fill-opacity=\"1\" d=\"M 443.47 481.628  L 377.131 433.43  L 459.131 433.43  L 392.792 481.628  L 418.131 403.641  L 443.47 481.628 \" stroke-linecap=\"round\" style=\"stroke:orange;stroke-width:2\" fill=\"orange\" /><line x1=\"443.47\" y1=\"481.628\" x2=\"479.948\" y2=\"506.232\" stroke-linecap=\"round\" style=\"stroke:orange;stroke-width:2\" /><line x1=\"479.948\" y1=\"506.232\" x2=\"542.126\" y2=\"548.171\" stroke-linecap=\"round\" style=\"stroke:yellow;stroke-width:2\" /><line x1=\"542.126\" y1=\"548.171\" x2=\"500.187\" y2=\"610.349\" stroke-linecap=\"round\" style=\"stroke:yellow;stroke-width:2\" /><line x1=\"500.187\" y1=\"610.349\" x2=\"438.009\" y2=\"568.41\" stroke-linecap=\"round\" style=\"stroke:yellow;stroke-width:2\" /><line x1=\"438.009\" y1=\"568.41\" x2=\"479.948\" y2=\"506.232\" stroke-linecap=\"round\" style=\"stroke:yellow;stroke-width:2\" /><line x1=\"479.948\" y1=\"506.232\" x2=\"489.277\" y2=\"512.061\" stroke-linecap=\"round\" style=\"stroke:yellow;stroke-width:2\" /><line x1=\"489.277\" y1=\"512.061\" x2=\"524.895\" y2=\"534.318\" stroke-linecap=\"round\" style=\"stroke:pink;stroke-width:2\" /><line x1=\"524.895\" y1=\"534.318\" x2=\"502.638\" y2=\"569.936\" stroke-linecap=\"round\" style=\"stroke:pink;stroke-width:2\" /><line x1=\"502.638\" y1=\"569.936\" x2=\"467.02\" y2=\"547.679\" stroke-linecap=\"round\" style=\"stroke:pink;stroke-width:2\" /><line x1=\"467.02\" y1=\"547.679\" x2=\"489.277\" y2=\"512.061\" stroke-linecap=\"round\" style=\"stroke:pink;stroke-width:2\" /><line x1=\"489.277\" y1=\"512.061\" x2=\"477.882\" y2=\"545.154\" stroke-linecap=\"round\" style=\"stroke:pink;stroke-width:2\" /><path fill-rule=\"evenodd\" fill-opacity=\"1\" d=\"M 477.882 545.154  L 448.906 629.305  L 422.885 544.194  L 493.964 597.756  L 404.978 596.203  L 477.883 545.155 \" stroke-linecap=\"round\" style=\"stroke:blue;stroke-width:2\" fill=\"blue\" /><line x1=\"477.883\" y1=\"545.155\" x2=\"512.355\" y2=\"516.23\" stroke-linecap=\"round\" style=\"stroke:blue;stroke-width:2\" /><path fill-rule=\"evenodd\" fill-opacity=\"1\" d=\"M 512.355 516.23  L 539.933 493.09  L 531.224 528.021  L 517.738 494.642  L 548.268 513.719  L 512.356 516.23 \" stroke-linecap=\"round\" style=\"stroke:blue;stroke-width:2\" fill=\"blue\" /><line x1=\"512.356\" y1=\"516.23\" x2=\"523.381\" y2=\"509.341\" stroke-linecap=\"round\" style=\"stroke:blue;stroke-width:2\" /><line x1=\"523.381\" y1=\"509.341\" x2=\"534.406\" y2=\"502.452\" stroke-linecap=\"round\" style=\"stroke:purple;stroke-width:2\" /><line x1=\"534.406\" y1=\"502.452\" x2=\"534.86\" y2=\"515.444\" stroke-linecap=\"round\" style=\"stroke:purple;stroke-width:2\" /><line x1=\"534.86\" y1=\"515.444\" x2=\"523.382\" y2=\"509.341\" stroke-linecap=\"round\" style=\"stroke:purple;stroke-width:2\" /><line x1=\"523.382\" y1=\"509.341\" x2=\"550.42\" y2=\"546.556\" stroke-linecap=\"round\" style=\"stroke:purple;stroke-width:2\" /><path fill-rule=\"evenodd\" fill-opacity=\"1\" d=\"M 550.42 546.556  A 49 49 0 0 0 629.704 488.953  A 49 49 0 0 0 550.42 546.556 \" stroke-linecap=\"round\" style=\"stroke:pink;stroke-width:2\" fill=\"pink\" /><line x1=\"550.42\" y1=\"546.556\" x2=\"572.42\" y2=\"546.556\" stroke-linecap=\"round\" style=\"stroke:pink;stroke-width:2\" /><line x1=\"572.42\" y1=\"546.556\" x2=\"614.42\" y2=\"546.556\" stroke-linecap=\"round\" style=\"stroke:green;stroke-width:2\" /><line x1=\"614.42\" y1=\"546.556\" x2=\"614.42\" y2=\"588.556\" stroke-linecap=\"round\" style=\"stroke:green;stroke-width:2\" /><line x1=\"614.42\" y1=\"588.556\" x2=\"572.42\" y2=\"588.556\" stroke-linecap=\"round\" style=\"stroke:green;stroke-width:2\" /><line x1=\"572.42\" y1=\"588.556\" x2=\"572.42\" y2=\"546.556\" stroke-linecap=\"round\" style=\"stroke:green;stroke-width:2\" /><line x1=\"572.42\" y1=\"546.556\" x2=\"554.051\" y2=\"532.714\" stroke-linecap=\"round\" style=\"stroke:green;stroke-width:2\" /><path fill-rule=\"evenodd\" fill-opacity=\"1\" d=\"M 554.051 532.714  A 58 58 0 0 0 484.24 625.356  A 58 58 0 0 0 554.051 532.714 \" stroke-linecap=\"round\" style=\"stroke:purple;stroke-width:2\" fill=\"purple\" /><line x1=\"554.051\" y1=\"532.714\" x2=\"566.415\" y2=\"536.731\" stroke-linecap=\"round\" style=\"stroke:purple;stroke-width:2\" /><line x1=\"566.415\" y1=\"536.731\" x2=\"619.674\" y2=\"554.036\" stroke-linecap=\"round\" style=\"stroke:purple;stroke-width:2\" /><line x1=\"619.674\" y1=\"554.036\" x2=\"578.058\" y2=\"591.507\" stroke-linecap=\"round\" style=\"stroke:purple;stroke-width:2\" /><line x1=\"578.058\" y1=\"591.507\" x2=\"566.415\" y2=\"536.731\" stroke-linecap=\"round\" style=\"stroke:purple;stroke-width:2\" />\n",
              "        \n",
              "        \n",
              "        <g id=\"classic\" visibility=\"visible\" transform=\"rotate(168.0,566.415,536.731) translate(566.415, 536.731)\">\n",
              "<polygon points=\"-5,-4.5 0,-2.5 5,-4.5 0,4.5\" transform=\"skewX(0) scale(1,1)\" style=\"stroke:purple;fill:purple;stroke-width:1\" />\n",
              "<animateTransform id = \"one\" attributeName=\"transform\" \n",
              "                      type=\"scale\"\n",
              "                      from=\"1 1\" to=\"1 1\"\n",
              "                      begin=\"0s\" dur=\"0.01s\"\n",
              "                      repeatCount=\"1\"\n",
              "                      additive=\"sum\"\n",
              "                      fill=\"freeze\"\n",
              "                /><animateTransform attributeName=\"transform\"\n",
              "                    type=\"rotate\"\n",
              "                    from=\"0 0 0\" to =\"120 0 0\"\n",
              "                    begin=\"one.end\" dur=\"0.3333333333333333s\"\n",
              "                    repeatCount=\"1\"\n",
              "                    additive=\"sum\"\n",
              "                    fill=\"freeze\"\n",
              "                /></g>\n",
              "      </svg>\n",
              "    "
            ]
          },
          "metadata": {}
        }
      ]
    },
    {
      "cell_type": "code",
      "source": [
        "'''Random jumpto'''\n",
        "def draw3():\n",
        "    pencil.penup()\n",
        "    \n",
        "    # generate a random number between -180 and 180 for the turtle to turn\n",
        "    angle = random.randint(-180, 180)\n",
        "    pencil.right(angle)\n",
        "    \n",
        "    # generate a random number between 10 and 50 for the turtle to move forward\n",
        "    distance = random.randint(10, 50)\n",
        "    pencil.forward(distance)\n",
        "\n",
        "    # generate random x and y coordinates for the turtle to move to\n",
        "    x = random.randint(-200, 200)\n",
        "    y = random.randint(-200, 200)\n",
        "    \n",
        "    pencil.jumpto(x, y)\n",
        "    \n",
        "    \n",
        "    # generate a random color for the turtle to draw with\n",
        "    colors = [\"red\", \"orange\", \"yellow\", \"green\", \"blue\", \"purple\", \"pink\"]\n",
        "    pencil.color(random.choice(colors))\n",
        "    \n",
        "    # generate a random number between 10 and 30 for the size of the shape\n",
        "    size = random.randint(10, 100)\n",
        "    \n",
        "    # randomly choose a shape to draw\n",
        "    shape = random.choice([\"circle\", \"square\", \"triangle\", \"star\"])\n",
        "\n",
        "    # draw the shape\n",
        "    if shape == \"circle\":\n",
        "        pencil.pendown()\n",
        "        pencil.begin_fill()\n",
        "        pencil.circle(size)\n",
        "        pencil.end_fill()\n",
        "        pencil.penup()\n",
        "    elif shape == \"square\":\n",
        "        for i in range(4):\n",
        "            pencil.pendown()\n",
        "            pencil.forward(size)\n",
        "            pencil.right(90)\n",
        "            pencil.penup()\n",
        "    elif shape == \"triangle\":\n",
        "        for i in range(3):\n",
        "            pencil.pendown()\n",
        "            pencil.forward(size)\n",
        "            pencil.right(120)\n",
        "            pencil.penup()\n",
        "    elif shape == \"star\":\n",
        "        pencil.begin_fill()\n",
        "        for i in range(5):\n",
        "            pencil.pendown()\n",
        "            pencil.forward(size)\n",
        "            pencil.right(144)\n",
        "        pencil.end_fill()\n",
        "        pencil.penup()\n"
      ],
      "metadata": {
        "id": "Fje5RVbyOZbM"
      },
      "execution_count": null,
      "outputs": []
    },
    {
      "cell_type": "code",
      "source": [
        "pencil.clear()\n",
        "# test the function by calling it 10 times\n",
        "for i in range(30):\n",
        "    draw3()\n",
        "\n",
        "pencil.done()"
      ],
      "metadata": {
        "colab": {
          "base_uri": "https://localhost:8080/",
          "height": 820
        },
        "id": "8fqsL10KQRqU",
        "outputId": "df37c245-c636-4158-9394-ebbb5afd86d0"
      },
      "execution_count": null,
      "outputs": [
        {
          "output_type": "display_data",
          "data": {
            "text/plain": [
              "<IPython.core.display.HTML object>"
            ],
            "text/html": [
              "\n",
              "      <svg width=\"800\" height=\"800\">  \n",
              "        <rect width=\"100%\" height=\"100%\" style=\"fill:white;stroke:;stroke-width:1\"/>\n",
              "        \n",
              "        \n",
              "        <line x1=\"411.0\" y1=\"268.0\" x2=\"373.686\" y2=\"291.316\" stroke-linecap=\"round\" style=\"stroke:pink;stroke-width:2\" /><line x1=\"373.686\" y1=\"291.316\" x2=\"372.15\" y2=\"247.343\" stroke-linecap=\"round\" style=\"stroke:pink;stroke-width:2\" /><line x1=\"372.15\" y1=\"247.343\" x2=\"411.0\" y2=\"268.0\" stroke-linecap=\"round\" style=\"stroke:pink;stroke-width:2\" /><path fill-rule=\"evenodd\" fill-opacity=\"1\" d=\"M 239.0 393.0  A 63 63 0 0 0 172.23 286.146  A 63 63 0 0 0 239.0 393.0 \" stroke-linecap=\"round\" style=\"stroke:pink;stroke-width:2\" fill=\"pink\" /><path fill-rule=\"evenodd\" fill-opacity=\"1\" d=\"M 341.0 234.0  L 320.54 255.941  L 324.196 226.165  L 338.74 252.404  L 311.551 239.725  L 341.0 234.001 \" stroke-linecap=\"round\" style=\"stroke:red;stroke-width:2\" fill=\"red\" /><line x1=\"277.0\" y1=\"539.0\" x2=\"255.675\" y2=\"547.616\" stroke-linecap=\"round\" style=\"stroke:purple;stroke-width:2\" /><line x1=\"255.675\" y1=\"547.616\" x2=\"247.059\" y2=\"526.291\" stroke-linecap=\"round\" style=\"stroke:purple;stroke-width:2\" /><line x1=\"247.059\" y1=\"526.291\" x2=\"268.384\" y2=\"517.675\" stroke-linecap=\"round\" style=\"stroke:purple;stroke-width:2\" /><line x1=\"268.384\" y1=\"517.675\" x2=\"277.0\" y2=\"539.0\" stroke-linecap=\"round\" style=\"stroke:purple;stroke-width:2\" /><line x1=\"549.0\" y1=\"397.0\" x2=\"566.918\" y2=\"443.679\" stroke-linecap=\"round\" style=\"stroke:purple;stroke-width:2\" /><line x1=\"566.918\" y1=\"443.679\" x2=\"517.534\" y2=\"435.857\" stroke-linecap=\"round\" style=\"stroke:purple;stroke-width:2\" /><line x1=\"517.534\" y1=\"435.857\" x2=\"549.0\" y2=\"397.0\" stroke-linecap=\"round\" style=\"stroke:purple;stroke-width:2\" /><line x1=\"204.0\" y1=\"297.0\" x2=\"191.925\" y2=\"307.497\" stroke-linecap=\"round\" style=\"stroke:red;stroke-width:2\" /><line x1=\"191.925\" y1=\"307.497\" x2=\"188.872\" y2=\"291.791\" stroke-linecap=\"round\" style=\"stroke:red;stroke-width:2\" /><line x1=\"188.872\" y1=\"291.791\" x2=\"204.0\" y2=\"297.0\" stroke-linecap=\"round\" style=\"stroke:red;stroke-width:2\" /><line x1=\"415.0\" y1=\"457.0\" x2=\"441.997\" y2=\"424.826\" stroke-linecap=\"round\" style=\"stroke:red;stroke-width:2\" /><line x1=\"441.997\" y1=\"424.826\" x2=\"456.362\" y2=\"464.293\" stroke-linecap=\"round\" style=\"stroke:red;stroke-width:2\" /><line x1=\"456.362\" y1=\"464.293\" x2=\"415.0\" y2=\"457.0\" stroke-linecap=\"round\" style=\"stroke:red;stroke-width:2\" /><path fill-rule=\"evenodd\" fill-opacity=\"1\" d=\"M 242.0 255.0  A 35 35 0 0 0 295.623 299.995  A 35 35 0 0 0 242.0 255.0 \" stroke-linecap=\"round\" style=\"stroke:yellow;stroke-width:2\" fill=\"yellow\" /><path fill-rule=\"evenodd\" fill-opacity=\"1\" d=\"M 333.0 356.0  L 309.392 309.668  L 355.724 333.276  L 304.364 341.411  L 341.134 304.641  L 332.999 356.001 \" stroke-linecap=\"round\" style=\"stroke:orange;stroke-width:2\" fill=\"orange\" /><path fill-rule=\"evenodd\" fill-opacity=\"1\" d=\"M 530.0 319.0  A 77 77 0 0 0 410.32 415.915  A 77 77 0 0 0 530.0 319.0 \" stroke-linecap=\"round\" style=\"stroke:red;stroke-width:2\" fill=\"red\" /><path fill-rule=\"evenodd\" fill-opacity=\"1\" d=\"M 217.0 347.0  A 55 55 0 0 0 130.319 279.277  A 55 55 0 0 0 217.0 347.0 \" stroke-linecap=\"round\" style=\"stroke:yellow;stroke-width:2\" fill=\"yellow\" /><path fill-rule=\"evenodd\" fill-opacity=\"1\" d=\"M 325.0 244.0  A 98 98 0 0 0 520.731 233.742  A 98 98 0 0 0 325.0 244.0 \" stroke-linecap=\"round\" style=\"stroke:purple;stroke-width:2\" fill=\"purple\" /><path fill-rule=\"evenodd\" fill-opacity=\"1\" d=\"M 374.0 329.0  L 419.825 333.009  L 380.395 356.701  L 398.369 314.358  L 408.717 359.179  L 374.0 329.0 \" stroke-linecap=\"round\" style=\"stroke:green;stroke-width:2\" fill=\"green\" /><path fill-rule=\"evenodd\" fill-opacity=\"1\" d=\"M 217.0 544.0  L 182.387 586.743  L 185.265 531.818  L 215.22 577.945  L 163.873 558.235  L 216.999 544.0 \" stroke-linecap=\"round\" style=\"stroke:red;stroke-width:2\" fill=\"red\" /><path fill-rule=\"evenodd\" fill-opacity=\"1\" d=\"M 439.0 286.0  L 457.703 267.939  L 453.188 293.544  L 441.79 270.175  L 464.747 282.381  L 439.0 286.0 \" stroke-linecap=\"round\" style=\"stroke:purple;stroke-width:2\" fill=\"purple\" /><path fill-rule=\"evenodd\" fill-opacity=\"1\" d=\"M 321.0 542.0  A 43 43 0 0 0 406.359 531.519  A 43 43 0 0 0 321.0 542.0 \" stroke-linecap=\"round\" style=\"stroke:purple;stroke-width:2\" fill=\"purple\" /><path fill-rule=\"evenodd\" fill-opacity=\"1\" d=\"M 572.0 540.0  L 543.689 613.753  L 523.242 537.445  L 584.637 587.161  L 505.745 583.026  L 572.0 540.0 \" stroke-linecap=\"round\" style=\"stroke:purple;stroke-width:2\" fill=\"purple\" /><path fill-rule=\"evenodd\" fill-opacity=\"1\" d=\"M 238.0 287.0  A 35 35 0 0 0 277.144 228.967  A 35 35 0 0 0 238.0 287.0 \" stroke-linecap=\"round\" style=\"stroke:orange;stroke-width:2\" fill=\"orange\" /><line x1=\"302.0\" y1=\"244.0\" x2=\"310.668\" y2=\"237.228\" stroke-linecap=\"round\" style=\"stroke:yellow;stroke-width:2\" /><line x1=\"310.668\" y1=\"237.228\" x2=\"312.199\" y2=\"248.121\" stroke-linecap=\"round\" style=\"stroke:yellow;stroke-width:2\" /><line x1=\"312.199\" y1=\"248.121\" x2=\"302.0\" y2=\"244.0\" stroke-linecap=\"round\" style=\"stroke:yellow;stroke-width:2\" /><path fill-rule=\"evenodd\" fill-opacity=\"1\" d=\"M 293.0 279.0  L 247.097 264.966  L 292.482 249.339  L 264.95 288.658  L 264.112 240.665  L 292.999 279.0 \" stroke-linecap=\"round\" style=\"stroke:orange;stroke-width:2\" fill=\"orange\" /><line x1=\"368.0\" y1=\"204.0\" x2=\"343.146\" y2=\"193.45\" stroke-linecap=\"round\" style=\"stroke:purple;stroke-width:2\" /><line x1=\"343.146\" y1=\"193.45\" x2=\"353.696\" y2=\"168.596\" stroke-linecap=\"round\" style=\"stroke:purple;stroke-width:2\" /><line x1=\"353.696\" y1=\"168.596\" x2=\"378.55\" y2=\"179.146\" stroke-linecap=\"round\" style=\"stroke:purple;stroke-width:2\" /><line x1=\"378.55\" y1=\"179.146\" x2=\"368.0\" y2=\"204.0\" stroke-linecap=\"round\" style=\"stroke:purple;stroke-width:2\" /><path fill-rule=\"evenodd\" fill-opacity=\"1\" d=\"M 229.0 593.0  L 235.885 671.699  L 184.056 612.077  L 261.031 629.848  L 188.311 660.716  L 228.999 593.0 \" stroke-linecap=\"round\" style=\"stroke:pink;stroke-width:2\" fill=\"pink\" /><path fill-rule=\"evenodd\" fill-opacity=\"1\" d=\"M 328.0 241.0  A 70 70 0 0 0 467.467 228.798  A 70 70 0 0 0 328.0 241.0 \" stroke-linecap=\"round\" style=\"stroke:orange;stroke-width:2\" fill=\"orange\" /><line x1=\"274.0\" y1=\"307.0\" x2=\"301.351\" y2=\"242.565\" stroke-linecap=\"round\" style=\"stroke:red;stroke-width:2\" /><line x1=\"301.351\" y1=\"242.565\" x2=\"365.786\" y2=\"269.916\" stroke-linecap=\"round\" style=\"stroke:red;stroke-width:2\" /><line x1=\"365.786\" y1=\"269.916\" x2=\"338.435\" y2=\"334.351\" stroke-linecap=\"round\" style=\"stroke:red;stroke-width:2\" /><line x1=\"338.435\" y1=\"334.351\" x2=\"274.0\" y2=\"307.0\" stroke-linecap=\"round\" style=\"stroke:red;stroke-width:2\" /><path fill-rule=\"evenodd\" fill-opacity=\"1\" d=\"M 305.0 266.0  L 298.66 243.891  L 316.784 258.051  L 293.798 257.248  L 312.866 244.387  L 305.0 266.0 \" stroke-linecap=\"round\" style=\"stroke:yellow;stroke-width:2\" fill=\"yellow\" /><path fill-rule=\"evenodd\" fill-opacity=\"1\" d=\"M 469.0 320.0  A 30 30 0 0 0 439.0 371.962  A 30 30 0 0 0 469.0 320.0 \" stroke-linecap=\"round\" style=\"stroke:red;stroke-width:2\" fill=\"red\" /><path fill-rule=\"evenodd\" fill-opacity=\"1\" d=\"M 389.0 406.0  L 380.032 359.864  L 414.406 391.918  L 367.756 386.19  L 408.863 363.404  L 389.0 406.0 \" stroke-linecap=\"round\" style=\"stroke:blue;stroke-width:2\" fill=\"blue\" /><line x1=\"479.0\" y1=\"502.0\" x2=\"453.123\" y2=\"451.213\" stroke-linecap=\"round\" style=\"stroke:orange;stroke-width:2\" /><line x1=\"453.123\" y1=\"451.213\" x2=\"503.91\" y2=\"425.336\" stroke-linecap=\"round\" style=\"stroke:orange;stroke-width:2\" /><line x1=\"503.91\" y1=\"425.336\" x2=\"529.787\" y2=\"476.123\" stroke-linecap=\"round\" style=\"stroke:orange;stroke-width:2\" /><line x1=\"529.787\" y1=\"476.123\" x2=\"479.0\" y2=\"502.0\" stroke-linecap=\"round\" style=\"stroke:orange;stroke-width:2\" /><path fill-rule=\"evenodd\" fill-opacity=\"1\" d=\"M 388.0 248.0  L 355.038 302.859  L 349.46 239.103  L 391.448 287.404  L 329.088 273.007  L 388.0 248.0 \" stroke-linecap=\"round\" style=\"stroke:yellow;stroke-width:2\" fill=\"yellow\" /><path fill-rule=\"evenodd\" fill-opacity=\"1\" d=\"M 564.0 253.0  L 529.025 197.029  L 590.219 221.753  L 526.179 237.72  L 568.603 187.161  L 563.999 253.0 \" stroke-linecap=\"round\" style=\"stroke:green;stroke-width:2\" fill=\"green\" />\n",
              "        \n",
              "        \n",
              "        <g id=\"classic\" visibility=\"visible\" transform=\"rotate(148.0,563.999,253.0) translate(563.999, 253.0)\">\n",
              "<polygon points=\"-5,-4.5 0,-2.5 5,-4.5 0,4.5\" transform=\"skewX(0) scale(1,1)\" style=\"stroke:green;fill:green;stroke-width:1\" />\n",
              "</g>\n",
              "      </svg>\n",
              "    "
            ]
          },
          "metadata": {}
        }
      ]
    },
    {
      "cell_type": "code",
      "source": [
        "''' FINAL CODE: randomize shape, colour, size, coordinates and distance. records choices into a dictionary '''\n",
        "\n",
        "def draw3():\n",
        "    pencil.penup()\n",
        "\n",
        "    # create an empty dictionary to store the record of movements and choices made\n",
        "    record_dict = {}\n",
        "    \n",
        "    # generate a random number between -180 and 180 for the turtle to turn\n",
        "    angle = random.randint(-180, 180)\n",
        "    pencil.right(angle)\n",
        "    record_dict[\"turn_angle\"] = angle\n",
        "    \n",
        "    # generate a random number between 10 and 50 for the turtle to move forward\n",
        "    distance = random.randint(10, 50)\n",
        "    pencil.forward(distance)\n",
        "    record_dict[\"move_distance\"] = distance\n",
        "    \n",
        "    # generate random x and y coordinates for the turtle to move to\n",
        "    x = random.randint(-200, 200)\n",
        "    y = random.randint(-200, 200)\n",
        "    pencil.jumpto(x, y)\n",
        "    record_dict[\"position\"] = (x, y)\n",
        "    \n",
        "    # generate a random color for the turtle to draw with\n",
        "    colors = [\"red\", \"orange\", \"yellow\", \"green\", \"blue\", \"purple\", \"pink\"]\n",
        "    color_choice = random.choice(colors)\n",
        "    pencil.color(color_choice)\n",
        "    record_dict[\"color\"] = color_choice\n",
        "    \n",
        "    # generate a random number between 10 and 30 for the size of the shape\n",
        "    size = random.randint(10, 100)\n",
        "    record_dict[\"size\"] = size\n",
        "    \n",
        "    # randomly choose a shape to draw\n",
        "    shape_choice = random.choice([\"circle\", \"square\", \"triangle\", \"star\"])\n",
        "    record_dict[\"shape\"] = shape_choice\n",
        "    \n",
        "    # draw the shape\n",
        "    if shape_choice == \"circle\":\n",
        "        pencil.pendown()\n",
        "        pencil.begin_fill()\n",
        "        pencil.circle(size)\n",
        "        pencil.end_fill()\n",
        "    elif shape_choice == \"square\":\n",
        "        for i in range(4):\n",
        "            pencil.pendown()\n",
        "            pencil.forward(size)\n",
        "            pencil.right(90)\n",
        "    elif shape_choice == \"triangle\":\n",
        "        for i in range(3):\n",
        "            pencil.pendown()\n",
        "            pencil.forward(size)\n",
        "            pencil.right(120)\n",
        "    elif shape_choice == \"star\":\n",
        "        pencil.begin_fill()\n",
        "        for i in range(5):\n",
        "            pencil.pendown()\n",
        "            pencil.forward(size)\n",
        "            pencil.right(144)\n",
        "        pencil.end_fill()\n",
        "    \n",
        "    # return the dictionary of record of movements and choices made\n",
        "    return record_dict"
      ],
      "metadata": {
        "id": "qlOERig9Tzjg"
      },
      "execution_count": null,
      "outputs": []
    },
    {
      "cell_type": "markdown",
      "source": [
        "**Drawing 1**"
      ],
      "metadata": {
        "id": "ksFC7j8_dSET"
      }
    },
    {
      "cell_type": "code",
      "source": [
        "pencil.clear()\n",
        "# test the function by calling it 30 times and storing the records into a list of dictionaries\n",
        "records_list = []\n",
        "for i in range(30):\n",
        "    record_name = f\"Shape{i+1}\"\n",
        "    record_dict = draw3()\n",
        "    records_list.append({record_name: record_dict})\n",
        "\n",
        "# print out the list of records\n",
        "print(f'Drawing 1: {records_list}')\n"
      ],
      "metadata": {
        "colab": {
          "base_uri": "https://localhost:8080/",
          "height": 856
        },
        "id": "ON0Qu2pnXKOh",
        "outputId": "74d0b15a-64ae-474f-a4cc-a0daf77c6de6"
      },
      "execution_count": null,
      "outputs": [
        {
          "output_type": "display_data",
          "data": {
            "text/plain": [
              "<IPython.core.display.HTML object>"
            ],
            "text/html": [
              "\n",
              "      <svg width=\"800\" height=\"800\">  \n",
              "        <rect width=\"100%\" height=\"100%\" style=\"fill:white;stroke:;stroke-width:1\"/>\n",
              "        \n",
              "        \n",
              "        <line x1=\"201.0\" y1=\"355.0\" x2=\"193.73\" y2=\"344.223\" stroke-linecap=\"round\" style=\"stroke:orange;stroke-width:2\" /><line x1=\"193.73\" y1=\"344.223\" x2=\"206.698\" y2=\"343.316\" stroke-linecap=\"round\" style=\"stroke:orange;stroke-width:2\" /><line x1=\"206.698\" y1=\"343.316\" x2=\"200.999\" y2=\"355.0\" stroke-linecap=\"round\" style=\"stroke:orange;stroke-width:2\" /><path fill-rule=\"evenodd\" fill-opacity=\"1\" d=\"M 243.0 368.0  L 261.061 349.297  L 257.442 375.044  L 245.236 352.087  L 268.605 363.485  L 243.0 368.0 \" stroke-linecap=\"round\" style=\"stroke:pink;stroke-width:2\" fill=\"pink\" /><line x1=\"289.0\" y1=\"414.0\" x2=\"299.324\" y2=\"428.745\" stroke-linecap=\"round\" style=\"stroke:pink;stroke-width:2\" /><line x1=\"299.324\" y1=\"428.745\" x2=\"284.579\" y2=\"439.069\" stroke-linecap=\"round\" style=\"stroke:pink;stroke-width:2\" /><line x1=\"284.579\" y1=\"439.069\" x2=\"274.255\" y2=\"424.324\" stroke-linecap=\"round\" style=\"stroke:pink;stroke-width:2\" /><line x1=\"274.255\" y1=\"424.324\" x2=\"289.0\" y2=\"414.0\" stroke-linecap=\"round\" style=\"stroke:pink;stroke-width:2\" /><path fill-rule=\"evenodd\" fill-opacity=\"1\" d=\"M 433.0 312.0  L 453.179 367.442  L 404.266 334.45  L 463.23 332.391  L 416.737 368.715  L 433.0 312.001 \" stroke-linecap=\"round\" style=\"stroke:pink;stroke-width:2\" fill=\"pink\" /><line x1=\"577.0\" y1=\"406.0\" x2=\"486.014\" y2=\"407.588\" stroke-linecap=\"round\" style=\"stroke:green;stroke-width:2\" /><line x1=\"486.014\" y1=\"407.588\" x2=\"530.132\" y2=\"327.998\" stroke-linecap=\"round\" style=\"stroke:green;stroke-width:2\" /><line x1=\"530.132\" y1=\"327.998\" x2=\"577.0\" y2=\"406.0\" stroke-linecap=\"round\" style=\"stroke:green;stroke-width:2\" /><line x1=\"421.0\" y1=\"345.0\" x2=\"479.978\" y2=\"266.734\" stroke-linecap=\"round\" style=\"stroke:blue;stroke-width:2\" /><line x1=\"479.978\" y1=\"266.734\" x2=\"518.27\" y2=\"356.943\" stroke-linecap=\"round\" style=\"stroke:blue;stroke-width:2\" /><line x1=\"518.27\" y1=\"356.943\" x2=\"421.0\" y2=\"345.0\" stroke-linecap=\"round\" style=\"stroke:blue;stroke-width:2\" /><path fill-rule=\"evenodd\" fill-opacity=\"1\" d=\"M 519.0 363.0  L 461.103 291.503  L 549.968 315.314  L 464.079 348.284  L 514.186 271.126  L 519.001 363.0 \" stroke-linecap=\"round\" style=\"stroke:pink;stroke-width:2\" fill=\"pink\" /><line x1=\"430.0\" y1=\"438.0\" x2=\"343.177\" y2=\"471.328\" stroke-linecap=\"round\" style=\"stroke:green;stroke-width:2\" /><line x1=\"343.177\" y1=\"471.328\" x2=\"309.849\" y2=\"384.505\" stroke-linecap=\"round\" style=\"stroke:green;stroke-width:2\" /><line x1=\"309.849\" y1=\"384.505\" x2=\"396.672\" y2=\"351.177\" stroke-linecap=\"round\" style=\"stroke:green;stroke-width:2\" /><line x1=\"396.672\" y1=\"351.177\" x2=\"430.0\" y2=\"438.0\" stroke-linecap=\"round\" style=\"stroke:green;stroke-width:2\" /><path fill-rule=\"evenodd\" fill-opacity=\"1\" d=\"M 371.0 302.0  L 367.024 245.139  L 403.663 288.804  L 348.356 275.014  L 401.205 253.661  L 371.0 302.0 \" stroke-linecap=\"round\" style=\"stroke:yellow;stroke-width:2\" fill=\"yellow\" /><line x1=\"434.0\" y1=\"324.0\" x2=\"435.325\" y2=\"342.954\" stroke-linecap=\"round\" style=\"stroke:yellow;stroke-width:2\" /><line x1=\"435.325\" y1=\"342.954\" x2=\"416.371\" y2=\"344.279\" stroke-linecap=\"round\" style=\"stroke:yellow;stroke-width:2\" /><line x1=\"416.371\" y1=\"344.279\" x2=\"415.046\" y2=\"325.325\" stroke-linecap=\"round\" style=\"stroke:yellow;stroke-width:2\" /><line x1=\"415.046\" y1=\"325.325\" x2=\"434.0\" y2=\"324.0\" stroke-linecap=\"round\" style=\"stroke:yellow;stroke-width:2\" /><line x1=\"498.0\" y1=\"339.0\" x2=\"545.406\" y2=\"278.323\" stroke-linecap=\"round\" style=\"stroke:red;stroke-width:2\" /><line x1=\"545.406\" y1=\"278.323\" x2=\"606.083\" y2=\"325.729\" stroke-linecap=\"round\" style=\"stroke:red;stroke-width:2\" /><line x1=\"606.083\" y1=\"325.729\" x2=\"558.677\" y2=\"386.406\" stroke-linecap=\"round\" style=\"stroke:red;stroke-width:2\" /><line x1=\"558.677\" y1=\"386.406\" x2=\"498.0\" y2=\"339.0\" stroke-linecap=\"round\" style=\"stroke:red;stroke-width:2\" /><line x1=\"362.0\" y1=\"279.0\" x2=\"375.947\" y2=\"339.411\" stroke-linecap=\"round\" style=\"stroke:purple;stroke-width:2\" /><line x1=\"375.947\" y1=\"339.411\" x2=\"316.656\" y2=\"321.284\" stroke-linecap=\"round\" style=\"stroke:purple;stroke-width:2\" /><line x1=\"316.656\" y1=\"321.284\" x2=\"362.0\" y2=\"279.0\" stroke-linecap=\"round\" style=\"stroke:purple;stroke-width:2\" /><line x1=\"202.0\" y1=\"533.0\" x2=\"203.919\" y2=\"478.034\" stroke-linecap=\"round\" style=\"stroke:purple;stroke-width:2\" /><line x1=\"203.919\" y1=\"478.034\" x2=\"250.562\" y2=\"507.18\" stroke-linecap=\"round\" style=\"stroke:purple;stroke-width:2\" /><line x1=\"250.562\" y1=\"507.18\" x2=\"202.0\" y2=\"533.001\" stroke-linecap=\"round\" style=\"stroke:purple;stroke-width:2\" /><path fill-rule=\"evenodd\" fill-opacity=\"1\" d=\"M 205.0 208.0  A 77 77 0 0 0 56.966 250.448  A 77 77 0 0 0 205.0 208.0 \" stroke-linecap=\"round\" style=\"stroke:orange;stroke-width:2\" fill=\"orange\" /><line x1=\"322.0\" y1=\"416.0\" x2=\"360.192\" y2=\"375.044\" stroke-linecap=\"round\" style=\"stroke:green;stroke-width:2\" /><line x1=\"360.192\" y1=\"375.044\" x2=\"401.148\" y2=\"413.236\" stroke-linecap=\"round\" style=\"stroke:green;stroke-width:2\" /><line x1=\"401.148\" y1=\"413.236\" x2=\"362.956\" y2=\"454.192\" stroke-linecap=\"round\" style=\"stroke:green;stroke-width:2\" /><line x1=\"362.956\" y1=\"454.192\" x2=\"322.0\" y2=\"416.0\" stroke-linecap=\"round\" style=\"stroke:green;stroke-width:2\" /><path fill-rule=\"evenodd\" fill-opacity=\"1\" d=\"M 246.0 246.0  A 80 80 0 0 0 377.064 154.228  A 80 80 0 0 0 246.0 246.0 \" stroke-linecap=\"round\" style=\"stroke:red;stroke-width:2\" fill=\"red\" /><line x1=\"290.0\" y1=\"553.0\" x2=\"332.001\" y2=\"578.237\" stroke-linecap=\"round\" style=\"stroke:yellow;stroke-width:2\" /><line x1=\"332.001\" y1=\"578.237\" x2=\"306.764\" y2=\"620.238\" stroke-linecap=\"round\" style=\"stroke:yellow;stroke-width:2\" /><line x1=\"306.764\" y1=\"620.238\" x2=\"264.763\" y2=\"595.001\" stroke-linecap=\"round\" style=\"stroke:yellow;stroke-width:2\" /><line x1=\"264.763\" y1=\"595.001\" x2=\"290.0\" y2=\"553.0\" stroke-linecap=\"round\" style=\"stroke:yellow;stroke-width:2\" /><path fill-rule=\"evenodd\" fill-opacity=\"1\" d=\"M 575.0 354.0  A 26 26 0 0 0 624.455 370.069  A 26 26 0 0 0 575.0 354.0 \" stroke-linecap=\"round\" style=\"stroke:blue;stroke-width:2\" fill=\"blue\" /><line x1=\"580.0\" y1=\"202.0\" x2=\"548.872\" y2=\"223.796\" stroke-linecap=\"round\" style=\"stroke:orange;stroke-width:2\" /><line x1=\"548.872\" y1=\"223.796\" x2=\"527.076\" y2=\"192.668\" stroke-linecap=\"round\" style=\"stroke:orange;stroke-width:2\" /><line x1=\"527.076\" y1=\"192.668\" x2=\"558.204\" y2=\"170.872\" stroke-linecap=\"round\" style=\"stroke:orange;stroke-width:2\" /><line x1=\"558.204\" y1=\"170.872\" x2=\"580.0\" y2=\"202.0\" stroke-linecap=\"round\" style=\"stroke:orange;stroke-width:2\" /><path fill-rule=\"evenodd\" fill-opacity=\"1\" d=\"M 287.0 495.0  L 248.293 450.472  L 305.781 463.744  L 251.471 486.797  L 281.858 436.224  L 287.0 494.999 \" stroke-linecap=\"round\" style=\"stroke:blue;stroke-width:2\" fill=\"blue\" /><path fill-rule=\"evenodd\" fill-opacity=\"1\" d=\"M 333.0 572.0  A 54 54 0 0 0 420.374 508.519  A 54 54 0 0 0 333.0 572.0 \" stroke-linecap=\"round\" style=\"stroke:purple;stroke-width:2\" fill=\"purple\" /><line x1=\"336.0\" y1=\"307.0\" x2=\"381.197\" y2=\"344.924\" stroke-linecap=\"round\" style=\"stroke:yellow;stroke-width:2\" /><line x1=\"381.197\" y1=\"344.924\" x2=\"343.273\" y2=\"390.121\" stroke-linecap=\"round\" style=\"stroke:yellow;stroke-width:2\" /><line x1=\"343.273\" y1=\"390.121\" x2=\"298.076\" y2=\"352.197\" stroke-linecap=\"round\" style=\"stroke:yellow;stroke-width:2\" /><line x1=\"298.076\" y1=\"352.197\" x2=\"336.0\" y2=\"307.0\" stroke-linecap=\"round\" style=\"stroke:yellow;stroke-width:2\" /><path fill-rule=\"evenodd\" fill-opacity=\"1\" d=\"M 395.0 519.0  L 407.671 438.997  L 444.444 511.169  L 372.272 474.396  L 452.275 461.725  L 394.999 519.001 \" stroke-linecap=\"round\" style=\"stroke:blue;stroke-width:2\" fill=\"blue\" /><line x1=\"244.0\" y1=\"223.0\" x2=\"214.308\" y2=\"156.311\" stroke-linecap=\"round\" style=\"stroke:pink;stroke-width:2\" /><line x1=\"214.308\" y1=\"156.311\" x2=\"286.908\" y2=\"163.942\" stroke-linecap=\"round\" style=\"stroke:pink;stroke-width:2\" /><line x1=\"286.908\" y1=\"163.942\" x2=\"244.0\" y2=\"223.0\" stroke-linecap=\"round\" style=\"stroke:pink;stroke-width:2\" /><path fill-rule=\"evenodd\" fill-opacity=\"1\" d=\"M 495.0 389.0  L 497.25 346.059  L 520.669 382.122  L 480.525 366.712  L 522.06 355.583  L 494.999 389.0 \" stroke-linecap=\"round\" style=\"stroke:yellow;stroke-width:2\" fill=\"yellow\" /><path fill-rule=\"evenodd\" fill-opacity=\"1\" d=\"M 468.0 355.0  A 13 13 0 0 0 442.016 354.093  A 13 13 0 0 0 468.0 355.0 \" stroke-linecap=\"round\" style=\"stroke:red;stroke-width:2\" fill=\"red\" /><path fill-rule=\"evenodd\" fill-opacity=\"1\" d=\"M 286.0 282.0  A 59 59 0 0 0 261.466 166.579  A 59 59 0 0 0 286.0 282.0 \" stroke-linecap=\"round\" style=\"stroke:purple;stroke-width:2\" fill=\"purple\" /><line x1=\"358.0\" y1=\"301.0\" x2=\"325.826\" y2=\"327.997\" stroke-linecap=\"round\" style=\"stroke:red;stroke-width:2\" /><line x1=\"325.826\" y1=\"327.997\" x2=\"298.829\" y2=\"295.823\" stroke-linecap=\"round\" style=\"stroke:red;stroke-width:2\" /><line x1=\"298.829\" y1=\"295.823\" x2=\"331.003\" y2=\"268.826\" stroke-linecap=\"round\" style=\"stroke:red;stroke-width:2\" /><line x1=\"331.003\" y1=\"268.826\" x2=\"358.0\" y2=\"301.0\" stroke-linecap=\"round\" style=\"stroke:red;stroke-width:2\" /><path fill-rule=\"evenodd\" fill-opacity=\"1\" d=\"M 459.0 390.0  A 47 47 0 0 0 403.748 466.048  A 47 47 0 0 0 459.0 390.0 \" stroke-linecap=\"round\" style=\"stroke:green;stroke-width:2\" fill=\"green\" /><path fill-rule=\"evenodd\" fill-opacity=\"1\" d=\"M 560.0 313.0  A 71 71 0 0 0 461.359 415.146  A 71 71 0 0 0 560.0 313.0 \" stroke-linecap=\"round\" style=\"stroke:green;stroke-width:2\" fill=\"green\" />\n",
              "        \n",
              "        \n",
              "        <g id=\"classic\" visibility=\"visible\" transform=\"rotate(134.0,560.0,313.0) translate(560.0, 313.0)\">\n",
              "<polygon points=\"-5,-4.5 0,-2.5 5,-4.5 0,4.5\" transform=\"skewX(0) scale(1,1)\" style=\"stroke:green;fill:green;stroke-width:1\" />\n",
              "</g>\n",
              "      </svg>\n",
              "    "
            ]
          },
          "metadata": {}
        },
        {
          "output_type": "stream",
          "name": "stdout",
          "text": [
            "Drawing 1: [{'Shape1': {'turn_angle': -2, 'move_distance': 43, 'position': (-199, 45), 'color': 'orange', 'size': 13, 'shape': 'triangle'}}, {'Shape2': {'turn_angle': 78, 'move_distance': 23, 'position': (-157, 32), 'color': 'pink', 'size': 26, 'shape': 'star'}}, {'Shape3': {'turn_angle': 101, 'move_distance': 43, 'position': (-111, -14), 'color': 'pink', 'size': 18, 'shape': 'square'}}, {'Shape4': {'turn_angle': 15, 'move_distance': 33, 'position': (33, 88), 'color': 'pink', 'size': 59, 'shape': 'star'}}, {'Shape5': {'turn_angle': 109, 'move_distance': 24, 'position': (177, -6), 'color': 'green', 'size': 91, 'shape': 'triangle'}}, {'Shape6': {'turn_angle': 128, 'move_distance': 45, 'position': (21, 55), 'color': 'blue', 'size': 98, 'shape': 'triangle'}}, {'Shape7': {'turn_angle': -76, 'move_distance': 50, 'position': (119, 37), 'color': 'pink', 'size': 92, 'shape': 'star'}}, {'Shape8': {'turn_angle': -72, 'move_distance': 39, 'position': (30, -38), 'color': 'green', 'size': 93, 'shape': 'square'}}, {'Shape9': {'turn_angle': 107, 'move_distance': 46, 'position': (-29, 98), 'color': 'yellow', 'size': 57, 'shape': 'star'}}, {'Shape10': {'turn_angle': -180, 'move_distance': 48, 'position': (34, 76), 'color': 'yellow', 'size': 19, 'shape': 'square'}}, {'Shape11': {'turn_angle': -138, 'move_distance': 12, 'position': (98, 61), 'color': 'red', 'size': 77, 'shape': 'square'}}, {'Shape12': {'turn_angle': 129, 'move_distance': 44, 'position': (-38, 121), 'color': 'purple', 'size': 62, 'shape': 'triangle'}}, {'Shape13': {'turn_angle': -165, 'move_distance': 28, 'position': (-198, -133), 'color': 'purple', 'size': 55, 'shape': 'triangle'}}, {'Shape14': {'turn_angle': -18, 'move_distance': 48, 'position': (-195, 192), 'color': 'orange', 'size': 77, 'shape': 'circle'}}, {'Shape15': {'turn_angle': 59, 'move_distance': 22, 'position': (-78, -16), 'color': 'green', 'size': 56, 'shape': 'square'}}, {'Shape16': {'turn_angle': 102, 'move_distance': 38, 'position': (-154, 154), 'color': 'red', 'size': 80, 'shape': 'circle'}}, {'Shape17': {'turn_angle': -24, 'move_distance': 49, 'position': (-110, -153), 'color': 'yellow', 'size': 49, 'shape': 'square'}}, {'Shape18': {'turn_angle': 77, 'move_distance': 44, 'position': (175, 46), 'color': 'blue', 'size': 26, 'shape': 'circle'}}, {'Shape19': {'turn_angle': 37, 'move_distance': 43, 'position': (180, 198), 'color': 'orange', 'size': 38, 'shape': 'square'}}, {'Shape20': {'turn_angle': 84, 'move_distance': 43, 'position': (-113, -95), 'color': 'blue', 'size': 59, 'shape': 'star'}}, {'Shape21': {'turn_angle': -175, 'move_distance': 21, 'position': (-67, -172), 'color': 'purple', 'size': 54, 'shape': 'circle'}}, {'Shape22': {'turn_angle': -14, 'move_distance': 47, 'position': (-64, 93), 'color': 'yellow', 'size': 59, 'shape': 'square'}}, {'Shape23': {'turn_angle': -121, 'move_distance': 50, 'position': (-5, -119), 'color': 'blue', 'size': 81, 'shape': 'star'}}, {'Shape24': {'turn_angle': -33, 'move_distance': 20, 'position': (-156, 177), 'color': 'pink', 'size': 73, 'shape': 'triangle'}}, {'Shape25': {'turn_angle': 27, 'move_distance': 40, 'position': (95, 11), 'color': 'yellow', 'size': 43, 'shape': 'star'}}, {'Shape26': {'turn_angle': -1, 'move_distance': 11, 'position': (68, 45), 'color': 'red', 'size': 13, 'shape': 'circle'}}, {'Shape27': {'turn_angle': 76, 'move_distance': 47, 'position': (-114, 118), 'color': 'purple', 'size': 59, 'shape': 'circle'}}, {'Shape28': {'turn_angle': 152, 'move_distance': 19, 'position': (-42, 99), 'color': 'red', 'size': 42, 'shape': 'square'}}, {'Shape29': {'turn_angle': 76, 'move_distance': 22, 'position': (59, 10), 'color': 'green', 'size': 47, 'shape': 'circle'}}, {'Shape30': {'turn_angle': 8, 'move_distance': 38, 'position': (160, 87), 'color': 'green', 'size': 71, 'shape': 'circle'}}]\n"
          ]
        }
      ]
    },
    {
      "cell_type": "code",
      "source": [
        "#save dictionary data as json file\n",
        "import json\n",
        "with open('Drawing_1.json', 'w') as json_obj:\n",
        "  json.dump(records_list, json_obj, indent=2)\n",
        "print(\"file written\")"
      ],
      "metadata": {
        "colab": {
          "base_uri": "https://localhost:8080/"
        },
        "id": "bLxIFJdxazoB",
        "outputId": "06030589-f3d2-44c5-8a08-c36cc8f3c71a"
      },
      "execution_count": null,
      "outputs": [
        {
          "output_type": "stream",
          "name": "stdout",
          "text": [
            "file written\n"
          ]
        }
      ]
    },
    {
      "cell_type": "code",
      "source": [
        "#saving a drawing\n",
        "#first capture the data written to the screen\n",
        "screen_obj = Screen()\n",
        "#print(screen_obj)\n",
        "screen_obj.saveSVG('Elmer_drawing_1.svg', False) #False means don't show turtles\n"
      ],
      "metadata": {
        "id": "-6DlCMhXcW6c"
      },
      "execution_count": null,
      "outputs": []
    },
    {
      "cell_type": "markdown",
      "source": [
        "**Drawing 2**"
      ],
      "metadata": {
        "id": "aSeQTw_qdWv_"
      }
    },
    {
      "cell_type": "code",
      "source": [
        "pencil.clear()\n",
        "# test the function by calling it 30 times and storing the records into a list of dictionaries\n",
        "records_list = []\n",
        "for i in range(30):\n",
        "    record_name = f\"Shape{i+1}\"\n",
        "    record_dict = draw3()\n",
        "    records_list.append({record_name: record_dict})\n",
        "\n",
        "# print out the list of records\n",
        "print(f'Drawing 2: {records_list}')"
      ],
      "metadata": {
        "colab": {
          "base_uri": "https://localhost:8080/",
          "height": 856
        },
        "id": "ogOsINELY1KY",
        "outputId": "f3df3b1d-ff55-4bab-e7a1-8402baeb927b"
      },
      "execution_count": null,
      "outputs": [
        {
          "output_type": "display_data",
          "data": {
            "text/plain": [
              "<IPython.core.display.HTML object>"
            ],
            "text/html": [
              "\n",
              "      <svg width=\"800\" height=\"800\">  \n",
              "        <rect width=\"100%\" height=\"100%\" style=\"fill:white;stroke:;stroke-width:1\"/>\n",
              "        \n",
              "        \n",
              "        <line x1=\"565.0\" y1=\"208.0\" x2=\"515.232\" y2=\"281.784\" stroke-linecap=\"round\" style=\"stroke:purple;stroke-width:2\" /><line x1=\"515.232\" y1=\"281.784\" x2=\"476.217\" y2=\"201.791\" stroke-linecap=\"round\" style=\"stroke:purple;stroke-width:2\" /><line x1=\"476.217\" y1=\"201.791\" x2=\"565.0\" y2=\"207.999\" stroke-linecap=\"round\" style=\"stroke:purple;stroke-width:2\" /><path fill-rule=\"evenodd\" fill-opacity=\"1\" d=\"M 583.0 388.0  L 551.476 400.737  L 569.493 371.903  L 571.865 405.82  L 550.01 379.774  L 583.0 387.999 \" stroke-linecap=\"round\" style=\"stroke:pink;stroke-width:2\" fill=\"pink\" /><path fill-rule=\"evenodd\" fill-opacity=\"1\" d=\"M 244.0 256.0  A 88 88 0 0 0 256.277 431.571  A 88 88 0 0 0 244.0 256.0 \" stroke-linecap=\"round\" style=\"stroke:blue;stroke-width:2\" fill=\"blue\" /><path fill-rule=\"evenodd\" fill-opacity=\"1\" d=\"M 503.0 370.0  A 29 29 0 0 0 503.0 312.0  A 29 29 0 0 0 503.0 370.0 \" stroke-linecap=\"round\" style=\"stroke:green;stroke-width:2\" fill=\"green\" /><path fill-rule=\"evenodd\" fill-opacity=\"1\" d=\"M 432.0 361.0  A 51 51 0 0 0 493.385 279.539  A 51 51 0 0 0 432.0 361.0 \" stroke-linecap=\"round\" style=\"stroke:purple;stroke-width:2\" fill=\"purple\" /><line x1=\"533.0\" y1=\"550.0\" x2=\"571.389\" y2=\"597.406\" stroke-linecap=\"round\" style=\"stroke:blue;stroke-width:2\" /><line x1=\"571.389\" y1=\"597.406\" x2=\"523.983\" y2=\"635.795\" stroke-linecap=\"round\" style=\"stroke:blue;stroke-width:2\" /><line x1=\"523.983\" y1=\"635.795\" x2=\"485.594\" y2=\"588.389\" stroke-linecap=\"round\" style=\"stroke:blue;stroke-width:2\" /><line x1=\"485.594\" y1=\"588.389\" x2=\"533.0\" y2=\"550.0\" stroke-linecap=\"round\" style=\"stroke:blue;stroke-width:2\" /><line x1=\"247.0\" y1=\"574.0\" x2=\"162.195\" y2=\"521.008\" stroke-linecap=\"round\" style=\"stroke:green;stroke-width:2\" /><line x1=\"162.195\" y1=\"521.008\" x2=\"215.187\" y2=\"436.203\" stroke-linecap=\"round\" style=\"stroke:green;stroke-width:2\" /><line x1=\"215.187\" y1=\"436.203\" x2=\"299.992\" y2=\"489.195\" stroke-linecap=\"round\" style=\"stroke:green;stroke-width:2\" /><line x1=\"299.992\" y1=\"489.195\" x2=\"247.0\" y2=\"574.0\" stroke-linecap=\"round\" style=\"stroke:green;stroke-width:2\" /><line x1=\"404.0\" y1=\"590.0\" x2=\"413.384\" y2=\"666.426\" stroke-linecap=\"round\" style=\"stroke:yellow;stroke-width:2\" /><line x1=\"413.384\" y1=\"666.426\" x2=\"342.505\" y2=\"636.34\" stroke-linecap=\"round\" style=\"stroke:yellow;stroke-width:2\" /><line x1=\"342.505\" y1=\"636.34\" x2=\"404.0\" y2=\"590.0\" stroke-linecap=\"round\" style=\"stroke:yellow;stroke-width:2\" /><path fill-rule=\"evenodd\" fill-opacity=\"1\" d=\"M 400.0 272.0  A 99 99 0 0 0 286.432 109.808  A 99 99 0 0 0 400.0 272.0 \" stroke-linecap=\"round\" style=\"stroke:green;stroke-width:2\" fill=\"green\" /><path fill-rule=\"evenodd\" fill-opacity=\"1\" d=\"M 372.0 203.0  L 450.475 260.015  L 353.475 260.015  L 431.95 203.0  L 401.975 295.252  L 372.0 203.0 \" stroke-linecap=\"round\" style=\"stroke:purple;stroke-width:2\" fill=\"purple\" /><path fill-rule=\"evenodd\" fill-opacity=\"1\" d=\"M 219.0 436.0  A 23 23 0 0 0 225.402 390.448  A 23 23 0 0 0 219.0 436.0 \" stroke-linecap=\"round\" style=\"stroke:pink;stroke-width:2\" fill=\"pink\" /><line x1=\"396.0\" y1=\"417.0\" x2=\"405.703\" y2=\"414.581\" stroke-linecap=\"round\" style=\"stroke:red;stroke-width:2\" /><line x1=\"405.703\" y1=\"414.581\" x2=\"402.947\" y2=\"424.194\" stroke-linecap=\"round\" style=\"stroke:red;stroke-width:2\" /><line x1=\"402.947\" y1=\"424.194\" x2=\"396.0\" y2=\"417.001\" stroke-linecap=\"round\" style=\"stroke:red;stroke-width:2\" /><path fill-rule=\"evenodd\" fill-opacity=\"1\" d=\"M 243.0 310.0  A 53 53 0 0 0 334.799 257.0  A 53 53 0 0 0 243.0 310.0 \" stroke-linecap=\"round\" style=\"stroke:purple;stroke-width:2\" fill=\"purple\" /><line x1=\"583.0\" y1=\"242.0\" x2=\"566.0\" y2=\"212.555\" stroke-linecap=\"round\" style=\"stroke:blue;stroke-width:2\" /><line x1=\"566.0\" y1=\"212.555\" x2=\"600.0\" y2=\"212.555\" stroke-linecap=\"round\" style=\"stroke:blue;stroke-width:2\" /><line x1=\"600.0\" y1=\"212.555\" x2=\"583.0\" y2=\"242.0\" stroke-linecap=\"round\" style=\"stroke:blue;stroke-width:2\" /><path fill-rule=\"evenodd\" fill-opacity=\"1\" d=\"M 436.0 376.0  A 97 97 0 0 0 620.505 316.051  A 97 97 0 0 0 436.0 376.0 \" stroke-linecap=\"round\" style=\"stroke:red;stroke-width:2\" fill=\"red\" /><path fill-rule=\"evenodd\" fill-opacity=\"1\" d=\"M 347.0 217.0  L 426.674 263.0  L 335.178 272.617  L 403.547 211.057  L 384.419 301.047  L 346.999 217.001 \" stroke-linecap=\"round\" style=\"stroke:red;stroke-width:2\" fill=\"red\" /><path fill-rule=\"evenodd\" fill-opacity=\"1\" d=\"M 255.0 363.0  A 65 65 0 0 0 125.317 353.932  A 65 65 0 0 0 255.0 363.0 \" stroke-linecap=\"round\" style=\"stroke:red;stroke-width:2\" fill=\"red\" /><path fill-rule=\"evenodd\" fill-opacity=\"1\" d=\"M 430.0 387.0  L 377.488 336.29  L 449.778 346.45  L 385.323 380.721  L 417.324 315.109  L 430.0 387.0 \" stroke-linecap=\"round\" style=\"stroke:yellow;stroke-width:2\" fill=\"yellow\" /><path fill-rule=\"evenodd\" fill-opacity=\"1\" d=\"M 412.0 218.0  L 406.151 243.334  L 395.992 219.401  L 418.278 232.792  L 392.377 235.058  L 411.999 218.0 \" stroke-linecap=\"round\" style=\"stroke:red;stroke-width:2\" fill=\"red\" /><line x1=\"355.0\" y1=\"344.0\" x2=\"320.798\" y2=\"437.969\" stroke-linecap=\"round\" style=\"stroke:green;stroke-width:2\" /><line x1=\"320.798\" y1=\"437.969\" x2=\"226.829\" y2=\"403.767\" stroke-linecap=\"round\" style=\"stroke:green;stroke-width:2\" /><line x1=\"226.829\" y1=\"403.767\" x2=\"261.031\" y2=\"309.798\" stroke-linecap=\"round\" style=\"stroke:green;stroke-width:2\" /><line x1=\"261.031\" y1=\"309.798\" x2=\"355.0\" y2=\"344.0\" stroke-linecap=\"round\" style=\"stroke:green;stroke-width:2\" /><path fill-rule=\"evenodd\" fill-opacity=\"1\" d=\"M 224.0 222.0  A 76 76 0 0 0 192.397 73.322  A 76 76 0 0 0 224.0 222.0 \" stroke-linecap=\"round\" style=\"stroke:purple;stroke-width:2\" fill=\"purple\" /><path fill-rule=\"evenodd\" fill-opacity=\"1\" d=\"M 505.0 360.0  A 100 100 0 0 0 601.962 534.924  A 100 100 0 0 0 505.0 360.0 \" stroke-linecap=\"round\" style=\"stroke:red;stroke-width:2\" fill=\"red\" /><path fill-rule=\"evenodd\" fill-opacity=\"1\" d=\"M 597.0 227.0  A 51 51 0 0 0 671.598 157.436  A 51 51 0 0 0 597.0 227.0 \" stroke-linecap=\"round\" style=\"stroke:blue;stroke-width:2\" fill=\"blue\" /><line x1=\"550.0\" y1=\"559.0\" x2=\"632.475\" y2=\"579.563\" stroke-linecap=\"round\" style=\"stroke:green;stroke-width:2\" /><line x1=\"632.475\" y1=\"579.563\" x2=\"611.912\" y2=\"662.038\" stroke-linecap=\"round\" style=\"stroke:green;stroke-width:2\" /><line x1=\"611.912\" y1=\"662.038\" x2=\"529.437\" y2=\"641.475\" stroke-linecap=\"round\" style=\"stroke:green;stroke-width:2\" /><line x1=\"529.437\" y1=\"641.475\" x2=\"550.0\" y2=\"559.0\" stroke-linecap=\"round\" style=\"stroke:green;stroke-width:2\" /><line x1=\"214.0\" y1=\"294.0\" x2=\"201.485\" y2=\"214.985\" stroke-linecap=\"round\" style=\"stroke:yellow;stroke-width:2\" /><line x1=\"201.485\" y1=\"214.985\" x2=\"280.5\" y2=\"202.47\" stroke-linecap=\"round\" style=\"stroke:yellow;stroke-width:2\" /><line x1=\"280.5\" y1=\"202.47\" x2=\"293.015\" y2=\"281.485\" stroke-linecap=\"round\" style=\"stroke:yellow;stroke-width:2\" /><line x1=\"293.015\" y1=\"281.485\" x2=\"214.0\" y2=\"294.0\" stroke-linecap=\"round\" style=\"stroke:yellow;stroke-width:2\" /><path fill-rule=\"evenodd\" fill-opacity=\"1\" d=\"M 527.0 461.0  L 519.736 475.256  L 517.233 459.453  L 528.547 470.767  L 512.744 468.264  L 527.0 461.0 \" stroke-linecap=\"round\" style=\"stroke:pink;stroke-width:2\" fill=\"pink\" /><line x1=\"476.0\" y1=\"330.0\" x2=\"550.27\" y2=\"319.562\" stroke-linecap=\"round\" style=\"stroke:purple;stroke-width:2\" /><line x1=\"550.27\" y1=\"319.562\" x2=\"522.175\" y2=\"389.101\" stroke-linecap=\"round\" style=\"stroke:purple;stroke-width:2\" /><line x1=\"522.175\" y1=\"389.101\" x2=\"476.0\" y2=\"330.0\" stroke-linecap=\"round\" style=\"stroke:purple;stroke-width:2\" /><line x1=\"405.0\" y1=\"599.0\" x2=\"407.266\" y2=\"624.901\" stroke-linecap=\"round\" style=\"stroke:pink;stroke-width:2\" /><line x1=\"407.266\" y1=\"624.901\" x2=\"383.702\" y2=\"613.913\" stroke-linecap=\"round\" style=\"stroke:pink;stroke-width:2\" /><line x1=\"383.702\" y1=\"613.913\" x2=\"405.0\" y2=\"599.0\" stroke-linecap=\"round\" style=\"stroke:pink;stroke-width:2\" /><path fill-rule=\"evenodd\" fill-opacity=\"1\" d=\"M 393.0 348.0  A 31 31 0 0 0 454.991 346.918  A 31 31 0 0 0 393.0 348.0 \" stroke-linecap=\"round\" style=\"stroke:blue;stroke-width:2\" fill=\"blue\" /><line x1=\"599.0\" y1=\"338.0\" x2=\"648.791\" y2=\"382.832\" stroke-linecap=\"round\" style=\"stroke:purple;stroke-width:2\" /><line x1=\"648.791\" y1=\"382.832\" x2=\"585.07\" y2=\"403.536\" stroke-linecap=\"round\" style=\"stroke:purple;stroke-width:2\" /><line x1=\"585.07\" y1=\"403.536\" x2=\"599.0\" y2=\"338.0\" stroke-linecap=\"round\" style=\"stroke:purple;stroke-width:2\" />\n",
              "        \n",
              "        \n",
              "        <g id=\"classic\" visibility=\"visible\" transform=\"rotate(192.0,599.0,338.0) translate(599.0, 338.0)\">\n",
              "<polygon points=\"-5,-4.5 0,-2.5 5,-4.5 0,4.5\" transform=\"skewX(0) scale(1,1)\" style=\"stroke:purple;fill:purple;stroke-width:1\" />\n",
              "<animateTransform id = \"one\" attributeName=\"transform\" \n",
              "                      type=\"scale\"\n",
              "                      from=\"1 1\" to=\"1 1\"\n",
              "                      begin=\"0s\" dur=\"0.01s\"\n",
              "                      repeatCount=\"1\"\n",
              "                      additive=\"sum\"\n",
              "                      fill=\"freeze\"\n",
              "                /><animateTransform attributeName=\"transform\"\n",
              "                    type=\"rotate\"\n",
              "                    from=\"0 0 0\" to =\"120 0 0\"\n",
              "                    begin=\"one.end\" dur=\"0.3333333333333333s\"\n",
              "                    repeatCount=\"1\"\n",
              "                    additive=\"sum\"\n",
              "                    fill=\"freeze\"\n",
              "                /></g>\n",
              "      </svg>\n",
              "    "
            ]
          },
          "metadata": {}
        },
        {
          "output_type": "stream",
          "name": "stdout",
          "text": [
            "Drawing 2: [{'Shape1': {'turn_angle': -100, 'move_distance': 17, 'position': (165, 192), 'color': 'purple', 'size': 89, 'shape': 'triangle'}}, {'Shape2': {'turn_angle': 34, 'move_distance': 19, 'position': (183, 12), 'color': 'pink', 'size': 34, 'shape': 'star'}}, {'Shape3': {'turn_angle': 18, 'move_distance': 43, 'position': (-156, 144), 'color': 'blue', 'size': 88, 'shape': 'circle'}}, {'Shape4': {'turn_angle': -176, 'move_distance': 32, 'position': (103, 30), 'color': 'green', 'size': 29, 'shape': 'circle'}}, {'Shape5': {'turn_angle': 37, 'move_distance': 16, 'position': (32, 39), 'color': 'purple', 'size': 51, 'shape': 'circle'}}, {'Shape6': {'turn_angle': 14, 'move_distance': 50, 'position': (133, -150), 'color': 'blue', 'size': 61, 'shape': 'square'}}, {'Shape7': {'turn_angle': 161, 'move_distance': 14, 'position': (-153, -174), 'color': 'green', 'size': 100, 'shape': 'square'}}, {'Shape8': {'turn_angle': -129, 'move_distance': 32, 'position': (4, -190), 'color': 'yellow', 'size': 77, 'shape': 'triangle'}}, {'Shape9': {'turn_angle': -118, 'move_distance': 35, 'position': (0, 128), 'color': 'green', 'size': 99, 'shape': 'circle'}}, {'Shape10': {'turn_angle': 71, 'move_distance': 16, 'position': (-28, 197), 'color': 'purple', 'size': 97, 'shape': 'star'}}, {'Shape11': {'turn_angle': -28, 'move_distance': 29, 'position': (-181, -36), 'color': 'pink', 'size': 23, 'shape': 'circle'}}, {'Shape12': {'turn_angle': -22, 'move_distance': 11, 'position': (-4, -17), 'color': 'red', 'size': 10, 'shape': 'triangle'}}, {'Shape13': {'turn_angle': 74, 'move_distance': 37, 'position': (-157, 90), 'color': 'purple', 'size': 53, 'shape': 'circle'}}, {'Shape14': {'turn_angle': 180, 'move_distance': 11, 'position': (183, 158), 'color': 'blue', 'size': 34, 'shape': 'triangle'}}, {'Shape15': {'turn_angle': -168, 'move_distance': 50, 'position': (36, 24), 'color': 'red', 'size': 97, 'shape': 'circle'}}, {'Shape16': {'turn_angle': -42, 'move_distance': 45, 'position': (-53, 183), 'color': 'red', 'size': 92, 'shape': 'star'}}, {'Shape17': {'turn_angle': -116, 'move_distance': 13, 'position': (-145, 37), 'color': 'red', 'size': 65, 'shape': 'circle'}}, {'Shape18': {'turn_angle': -50, 'move_distance': 47, 'position': (30, 13), 'color': 'yellow', 'size': 73, 'shape': 'star'}}, {'Shape19': {'turn_angle': -121, 'move_distance': 29, 'position': (12, 182), 'color': 'red', 'size': 26, 'shape': 'star'}}, {'Shape20': {'turn_angle': 7, 'move_distance': 27, 'position': (-45, 56), 'color': 'green', 'size': 100, 'shape': 'square'}}, {'Shape21': {'turn_angle': -122, 'move_distance': 33, 'position': (-176, 178), 'color': 'purple', 'size': 76, 'shape': 'circle'}}, {'Shape22': {'turn_angle': 163, 'move_distance': 50, 'position': (105, 40), 'color': 'red', 'size': 100, 'shape': 'circle'}}, {'Shape23': {'turn_angle': -104, 'move_distance': 27, 'position': (197, 173), 'color': 'blue', 'size': 51, 'shape': 'circle'}}, {'Shape24': {'turn_angle': -33, 'move_distance': 25, 'position': (150, -159), 'color': 'green', 'size': 85, 'shape': 'square'}}, {'Shape25': {'turn_angle': -113, 'move_distance': 12, 'position': (-186, 106), 'color': 'yellow', 'size': 80, 'shape': 'square'}}, {'Shape26': {'turn_angle': -144, 'move_distance': 42, 'position': (127, -61), 'color': 'pink', 'size': 16, 'shape': 'star'}}, {'Shape27': {'turn_angle': -125, 'move_distance': 26, 'position': (76, 70), 'color': 'purple', 'size': 75, 'shape': 'triangle'}}, {'Shape28': {'turn_angle': 93, 'move_distance': 42, 'position': (5, -199), 'color': 'pink', 'size': 26, 'shape': 'triangle'}}, {'Shape29': {'turn_angle': 4, 'move_distance': 43, 'position': (-7, 52), 'color': 'blue', 'size': 31, 'shape': 'circle'}}, {'Shape30': {'turn_angle': -47, 'move_distance': 29, 'position': (199, 62), 'color': 'purple', 'size': 67, 'shape': 'triangle'}}]\n"
          ]
        }
      ]
    },
    {
      "cell_type": "code",
      "source": [
        "import json\n",
        "with open('Drawing_2.json', 'w') as json_obj:\n",
        "  json.dump(records_list, json_obj, indent=2)\n",
        "print(\"file written\")"
      ],
      "metadata": {
        "colab": {
          "base_uri": "https://localhost:8080/"
        },
        "id": "WQ9Jo5bSdAKt",
        "outputId": "612e6921-8829-4c6d-f5b9-821b47446921"
      },
      "execution_count": null,
      "outputs": [
        {
          "output_type": "stream",
          "name": "stdout",
          "text": [
            "file written\n"
          ]
        }
      ]
    },
    {
      "cell_type": "code",
      "source": [
        "#saving a drawing\n",
        "#first capture the data written to the screen\n",
        "screen_obj = Screen()\n",
        "#print(screen_obj)\n",
        "screen_obj.saveSVG('Elmer_drawing_2.svg', False) #False means don't show turtles"
      ],
      "metadata": {
        "id": "vtm17jt6c_2K"
      },
      "execution_count": null,
      "outputs": []
    },
    {
      "cell_type": "markdown",
      "source": [
        "**Drawing 3**"
      ],
      "metadata": {
        "id": "AbvsTxwwdbOz"
      }
    },
    {
      "cell_type": "code",
      "source": [
        "pencil.clear()\n",
        "# test the function by calling it 30 times and storing the records into a list of dictionaries\n",
        "records_list = []\n",
        "for i in range(30):\n",
        "    record_name = f\"Shape{i+1}\"\n",
        "    record_dict = draw3()\n",
        "    records_list.append({record_name: record_dict})\n",
        "\n",
        "# print out the list of records\n",
        "print(f'Drawing 3: {records_list}')"
      ],
      "metadata": {
        "colab": {
          "base_uri": "https://localhost:8080/",
          "height": 856
        },
        "id": "9968gXCZZAlr",
        "outputId": "50598fdc-d298-4618-f7fb-0279691e7295"
      },
      "execution_count": null,
      "outputs": [
        {
          "output_type": "display_data",
          "data": {
            "text/plain": [
              "<IPython.core.display.HTML object>"
            ],
            "text/html": [
              "\n",
              "      <svg width=\"800\" height=\"800\">  \n",
              "        <rect width=\"100%\" height=\"100%\" style=\"fill:white;stroke:;stroke-width:1\"/>\n",
              "        \n",
              "        \n",
              "        <path fill-rule=\"evenodd\" fill-opacity=\"1\" d=\"M 588.0 363.0  A 51 51 0 0 0 501.499 417.052  A 51 51 0 0 0 588.0 363.0 \" stroke-linecap=\"round\" style=\"stroke:purple;stroke-width:2\" fill=\"purple\" /><path fill-rule=\"evenodd\" fill-opacity=\"1\" d=\"M 517.0 261.0  A 59 59 0 0 0 400.148 244.578  A 59 59 0 0 0 517.0 261.0 \" stroke-linecap=\"round\" style=\"stroke:yellow;stroke-width:2\" fill=\"yellow\" /><line x1=\"477.0\" y1=\"257.0\" x2=\"421.051\" y2=\"213.288\" stroke-linecap=\"round\" style=\"stroke:purple;stroke-width:2\" /><line x1=\"421.051\" y1=\"213.288\" x2=\"486.881\" y2=\"186.691\" stroke-linecap=\"round\" style=\"stroke:purple;stroke-width:2\" /><line x1=\"486.881\" y1=\"186.691\" x2=\"477.0\" y2=\"257.0\" stroke-linecap=\"round\" style=\"stroke:purple;stroke-width:2\" /><path fill-rule=\"evenodd\" fill-opacity=\"1\" d=\"M 276.0 586.0  L 258.219 560.606  L 287.53 570.699  L 257.885 579.763  L 276.541 555.005  L 276.0 586.0 \" stroke-linecap=\"round\" style=\"stroke:yellow;stroke-width:2\" fill=\"yellow\" /><path fill-rule=\"evenodd\" fill-opacity=\"1\" d=\"M 448.0 346.0  L 473.099 283.879  L 489.308 348.889  L 437.983 305.822  L 504.82 310.496  L 448.001 346.001 \" stroke-linecap=\"round\" style=\"stroke:orange;stroke-width:2\" fill=\"orange\" /><line x1=\"446.0\" y1=\"250.0\" x2=\"484.589\" y2=\"325.736\" stroke-linecap=\"round\" style=\"stroke:blue;stroke-width:2\" /><line x1=\"484.589\" y1=\"325.736\" x2=\"399.705\" y2=\"321.287\" stroke-linecap=\"round\" style=\"stroke:blue;stroke-width:2\" /><line x1=\"399.705\" y1=\"321.287\" x2=\"445.999\" y2=\"250.0\" stroke-linecap=\"round\" style=\"stroke:blue;stroke-width:2\" /><line x1=\"253.0\" y1=\"451.0\" x2=\"300.237\" y2=\"499.915\" stroke-linecap=\"round\" style=\"stroke:yellow;stroke-width:2\" /><line x1=\"300.237\" y1=\"499.915\" x2=\"251.322\" y2=\"547.152\" stroke-linecap=\"round\" style=\"stroke:yellow;stroke-width:2\" /><line x1=\"251.322\" y1=\"547.152\" x2=\"204.085\" y2=\"498.237\" stroke-linecap=\"round\" style=\"stroke:yellow;stroke-width:2\" /><line x1=\"204.085\" y1=\"498.237\" x2=\"253.0\" y2=\"451.0\" stroke-linecap=\"round\" style=\"stroke:yellow;stroke-width:2\" /><path fill-rule=\"evenodd\" fill-opacity=\"1\" d=\"M 535.0 268.0  A 86 86 0 0 0 364.282 247.038  A 86 86 0 0 0 535.0 268.0 \" stroke-linecap=\"round\" style=\"stroke:pink;stroke-width:2\" fill=\"pink\" /><line x1=\"538.0\" y1=\"582.0\" x2=\"498.404\" y2=\"623.002\" stroke-linecap=\"round\" style=\"stroke:green;stroke-width:2\" /><line x1=\"498.404\" y1=\"623.002\" x2=\"482.693\" y2=\"568.21\" stroke-linecap=\"round\" style=\"stroke:green;stroke-width:2\" /><line x1=\"482.693\" y1=\"568.21\" x2=\"538.0\" y2=\"582.0\" stroke-linecap=\"round\" style=\"stroke:green;stroke-width:2\" /><line x1=\"404.0\" y1=\"414.0\" x2=\"437.595\" y2=\"479.934\" stroke-linecap=\"round\" style=\"stroke:yellow;stroke-width:2\" /><line x1=\"437.595\" y1=\"479.934\" x2=\"371.661\" y2=\"513.529\" stroke-linecap=\"round\" style=\"stroke:yellow;stroke-width:2\" /><line x1=\"371.661\" y1=\"513.529\" x2=\"338.066\" y2=\"447.595\" stroke-linecap=\"round\" style=\"stroke:yellow;stroke-width:2\" /><line x1=\"338.066\" y1=\"447.595\" x2=\"404.0\" y2=\"414.0\" stroke-linecap=\"round\" style=\"stroke:yellow;stroke-width:2\" /><path fill-rule=\"evenodd\" fill-opacity=\"1\" d=\"M 369.0 482.0  A 81 81 0 0 0 239.621 384.506  A 81 81 0 0 0 369.0 482.0 \" stroke-linecap=\"round\" style=\"stroke:pink;stroke-width:2\" fill=\"pink\" /><path fill-rule=\"evenodd\" fill-opacity=\"1\" d=\"M 336.0 439.0  L 346.261 467.191  L 321.39 450.415  L 351.372 449.368  L 327.732 467.838  L 336.001 439.0 \" stroke-linecap=\"round\" style=\"stroke:purple;stroke-width:2\" fill=\"purple\" /><path fill-rule=\"evenodd\" fill-opacity=\"1\" d=\"M 445.0 345.0  A 75 75 0 0 0 579.819 279.244  A 75 75 0 0 0 445.0 345.0 \" stroke-linecap=\"round\" style=\"stroke:yellow;stroke-width:2\" fill=\"yellow\" /><line x1=\"371.0\" y1=\"241.0\" x2=\"328.606\" y2=\"173.156\" stroke-linecap=\"round\" style=\"stroke:orange;stroke-width:2\" /><line x1=\"328.606\" y1=\"173.156\" x2=\"408.557\" y2=\"170.364\" stroke-linecap=\"round\" style=\"stroke:orange;stroke-width:2\" /><line x1=\"408.557\" y1=\"170.364\" x2=\"370.999\" y2=\"241.0\" stroke-linecap=\"round\" style=\"stroke:orange;stroke-width:2\" /><path fill-rule=\"evenodd\" fill-opacity=\"1\" d=\"M 318.0 246.0  L 325.485 210.787  L 340.128 243.675  L 308.951 225.675  L 344.754 221.912  L 318.001 246.001 \" stroke-linecap=\"round\" style=\"stroke:purple;stroke-width:2\" fill=\"purple\" /><path fill-rule=\"evenodd\" fill-opacity=\"1\" d=\"M 380.0 347.0  A 46 46 0 0 0 288.056 343.789  A 46 46 0 0 0 380.0 347.0 \" stroke-linecap=\"round\" style=\"stroke:green;stroke-width:2\" fill=\"green\" /><line x1=\"352.0\" y1=\"391.0\" x2=\"336.62\" y2=\"386.59\" stroke-linecap=\"round\" style=\"stroke:red;stroke-width:2\" /><line x1=\"336.62\" y1=\"386.59\" x2=\"348.129\" y2=\"375.475\" stroke-linecap=\"round\" style=\"stroke:red;stroke-width:2\" /><line x1=\"348.129\" y1=\"375.475\" x2=\"352.0\" y2=\"391.0\" stroke-linecap=\"round\" style=\"stroke:red;stroke-width:2\" /><line x1=\"250.0\" y1=\"274.0\" x2=\"220.304\" y2=\"343.958\" stroke-linecap=\"round\" style=\"stroke:green;stroke-width:2\" /><line x1=\"220.304\" y1=\"343.958\" x2=\"174.566\" y2=\"283.262\" stroke-linecap=\"round\" style=\"stroke:green;stroke-width:2\" /><line x1=\"174.566\" y1=\"283.262\" x2=\"250.0\" y2=\"274.0\" stroke-linecap=\"round\" style=\"stroke:green;stroke-width:2\" /><line x1=\"591.0\" y1=\"374.0\" x2=\"527.186\" y2=\"342.876\" stroke-linecap=\"round\" style=\"stroke:orange;stroke-width:2\" /><line x1=\"527.186\" y1=\"342.876\" x2=\"586.048\" y2=\"303.173\" stroke-linecap=\"round\" style=\"stroke:orange;stroke-width:2\" /><line x1=\"586.048\" y1=\"303.173\" x2=\"591.001\" y2=\"374.0\" stroke-linecap=\"round\" style=\"stroke:orange;stroke-width:2\" /><path fill-rule=\"evenodd\" fill-opacity=\"1\" d=\"M 433.0 515.0  A 36 36 0 0 0 457.625 447.342  A 36 36 0 0 0 433.0 515.0 \" stroke-linecap=\"round\" style=\"stroke:purple;stroke-width:2\" fill=\"purple\" /><path fill-rule=\"evenodd\" fill-opacity=\"1\" d=\"M 444.0 468.0  A 86 86 0 0 0 491.41 302.663  A 86 86 0 0 0 444.0 468.0 \" stroke-linecap=\"round\" style=\"stroke:orange;stroke-width:2\" fill=\"orange\" /><line x1=\"538.0\" y1=\"521.0\" x2=\"538.0\" y2=\"431.0\" stroke-linecap=\"round\" style=\"stroke:orange;stroke-width:2\" /><line x1=\"538.0\" y1=\"431.0\" x2=\"615.942\" y2=\"476.0\" stroke-linecap=\"round\" style=\"stroke:orange;stroke-width:2\" /><line x1=\"615.942\" y1=\"476.0\" x2=\"538.0\" y2=\"521.0\" stroke-linecap=\"round\" style=\"stroke:orange;stroke-width:2\" /><line x1=\"256.0\" y1=\"276.0\" x2=\"264.601\" y2=\"253.594\" stroke-linecap=\"round\" style=\"stroke:pink;stroke-width:2\" /><line x1=\"264.601\" y1=\"253.594\" x2=\"279.705\" y2=\"272.246\" stroke-linecap=\"round\" style=\"stroke:pink;stroke-width:2\" /><line x1=\"279.705\" y1=\"272.246\" x2=\"256.0\" y2=\"276.0\" stroke-linecap=\"round\" style=\"stroke:pink;stroke-width:2\" /><path fill-rule=\"evenodd\" fill-opacity=\"1\" d=\"M 257.0 544.0  L 257.907 518.016  L 272.446 539.571  L 248.014 530.678  L 273.007 523.511  L 257.0 543.999 \" stroke-linecap=\"round\" style=\"stroke:pink;stroke-width:2\" fill=\"pink\" /><line x1=\"469.0\" y1=\"294.0\" x2=\"471.564\" y2=\"245.067\" stroke-linecap=\"round\" style=\"stroke:orange;stroke-width:2\" /><line x1=\"471.564\" y1=\"245.067\" x2=\"520.497\" y2=\"247.631\" stroke-linecap=\"round\" style=\"stroke:orange;stroke-width:2\" /><line x1=\"520.497\" y1=\"247.631\" x2=\"517.933\" y2=\"296.564\" stroke-linecap=\"round\" style=\"stroke:orange;stroke-width:2\" /><line x1=\"517.933\" y1=\"296.564\" x2=\"469.0\" y2=\"294.0\" stroke-linecap=\"round\" style=\"stroke:orange;stroke-width:2\" /><line x1=\"364.0\" y1=\"310.0\" x2=\"313.672\" y2=\"336.76\" stroke-linecap=\"round\" style=\"stroke:green;stroke-width:2\" /><line x1=\"313.672\" y1=\"336.76\" x2=\"315.661\" y2=\"279.795\" stroke-linecap=\"round\" style=\"stroke:green;stroke-width:2\" /><line x1=\"315.661\" y1=\"279.795\" x2=\"364.0\" y2=\"310.0\" stroke-linecap=\"round\" style=\"stroke:green;stroke-width:2\" /><line x1=\"300.0\" y1=\"502.0\" x2=\"312.436\" y2=\"493.612\" stroke-linecap=\"round\" style=\"stroke:orange;stroke-width:2\" /><line x1=\"312.436\" y1=\"493.612\" x2=\"320.824\" y2=\"506.048\" stroke-linecap=\"round\" style=\"stroke:orange;stroke-width:2\" /><line x1=\"320.824\" y1=\"506.048\" x2=\"308.388\" y2=\"514.436\" stroke-linecap=\"round\" style=\"stroke:orange;stroke-width:2\" /><line x1=\"308.388\" y1=\"514.436\" x2=\"300.0\" y2=\"502.0\" stroke-linecap=\"round\" style=\"stroke:orange;stroke-width:2\" /><path fill-rule=\"evenodd\" fill-opacity=\"1\" d=\"M 273.0 305.0  L 300.683 341.737  L 256.693 328.288  L 300.187 313.312  L 273.802 350.993  L 272.999 305.0 \" stroke-linecap=\"round\" style=\"stroke:purple;stroke-width:2\" fill=\"purple\" /><line x1=\"486.0\" y1=\"522.0\" x2=\"467.84\" y2=\"557.64\" stroke-linecap=\"round\" style=\"stroke:purple;stroke-width:2\" /><line x1=\"467.84\" y1=\"557.64\" x2=\"432.2\" y2=\"539.48\" stroke-linecap=\"round\" style=\"stroke:purple;stroke-width:2\" /><line x1=\"432.2\" y1=\"539.48\" x2=\"450.36\" y2=\"503.84\" stroke-linecap=\"round\" style=\"stroke:purple;stroke-width:2\" /><line x1=\"450.36\" y1=\"503.84\" x2=\"486.0\" y2=\"522.0\" stroke-linecap=\"round\" style=\"stroke:purple;stroke-width:2\" /><line x1=\"518.0\" y1=\"379.0\" x2=\"560.96\" y2=\"467.082\" stroke-linecap=\"round\" style=\"stroke:red;stroke-width:2\" /><line x1=\"560.96\" y1=\"467.082\" x2=\"472.878\" y2=\"510.042\" stroke-linecap=\"round\" style=\"stroke:red;stroke-width:2\" /><line x1=\"472.878\" y1=\"510.042\" x2=\"429.918\" y2=\"421.96\" stroke-linecap=\"round\" style=\"stroke:red;stroke-width:2\" /><line x1=\"429.918\" y1=\"421.96\" x2=\"518.0\" y2=\"379.0\" stroke-linecap=\"round\" style=\"stroke:red;stroke-width:2\" />\n",
              "        \n",
              "        \n",
              "        <g id=\"classic\" visibility=\"visible\" transform=\"rotate(244.0,518.0,379.0) translate(518.0, 379.0)\">\n",
              "<polygon points=\"-5,-4.5 0,-2.5 5,-4.5 0,4.5\" transform=\"skewX(0) scale(1,1)\" style=\"stroke:red;fill:red;stroke-width:1\" />\n",
              "<animateTransform id = \"one\" attributeName=\"transform\" \n",
              "                      type=\"scale\"\n",
              "                      from=\"1 1\" to=\"1 1\"\n",
              "                      begin=\"0s\" dur=\"0.01s\"\n",
              "                      repeatCount=\"1\"\n",
              "                      additive=\"sum\"\n",
              "                      fill=\"freeze\"\n",
              "                /><animateTransform attributeName=\"transform\"\n",
              "                    type=\"rotate\"\n",
              "                    from=\"0 0 0\" to =\"90 0 0\"\n",
              "                    begin=\"one.end\" dur=\"0.25s\"\n",
              "                    repeatCount=\"1\"\n",
              "                    additive=\"sum\"\n",
              "                    fill=\"freeze\"\n",
              "                /></g>\n",
              "      </svg>\n",
              "    "
            ]
          },
          "metadata": {}
        },
        {
          "output_type": "stream",
          "name": "stdout",
          "text": [
            "Drawing 3: [{'Shape1': {'turn_angle': -164, 'move_distance': 44, 'position': (188, 37), 'color': 'purple', 'size': 51, 'shape': 'circle'}}, {'Shape2': {'turn_angle': 40, 'move_distance': 25, 'position': (117, 139), 'color': 'yellow', 'size': 59, 'shape': 'circle'}}, {'Shape3': {'turn_angle': -60, 'move_distance': 10, 'position': (77, 143), 'color': 'purple', 'size': 71, 'shape': 'triangle'}}, {'Shape4': {'turn_angle': 17, 'move_distance': 14, 'position': (-124, -186), 'color': 'yellow', 'size': 31, 'shape': 'star'}}, {'Shape5': {'turn_angle': 57, 'move_distance': 20, 'position': (48, 54), 'color': 'orange', 'size': 67, 'shape': 'star'}}, {'Shape6': {'turn_angle': 131, 'move_distance': 44, 'position': (46, 150), 'color': 'blue', 'size': 85, 'shape': 'triangle'}}, {'Shape7': {'turn_angle': -17, 'move_distance': 12, 'position': (-147, -51), 'color': 'yellow', 'size': 68, 'shape': 'square'}}, {'Shape8': {'turn_angle': -129, 'move_distance': 46, 'position': (135, 132), 'color': 'pink', 'size': 86, 'shape': 'circle'}}, {'Shape9': {'turn_angle': -143, 'move_distance': 47, 'position': (138, -182), 'color': 'green', 'size': 57, 'shape': 'triangle'}}, {'Shape10': {'turn_angle': -71, 'move_distance': 15, 'position': (4, -14), 'color': 'yellow', 'size': 74, 'shape': 'square'}}, {'Shape11': {'turn_angle': -116, 'move_distance': 24, 'position': (-31, -82), 'color': 'pink', 'size': 81, 'shape': 'circle'}}, {'Shape12': {'turn_angle': 123, 'move_distance': 38, 'position': (-64, -39), 'color': 'purple', 'size': 30, 'shape': 'star'}}, {'Shape13': {'turn_angle': -6, 'move_distance': 47, 'position': (45, 55), 'color': 'yellow', 'size': 75, 'shape': 'circle'}}, {'Shape14': {'turn_angle': 174, 'move_distance': 50, 'position': (-29, 159), 'color': 'orange', 'size': 80, 'shape': 'triangle'}}, {'Shape15': {'turn_angle': 44, 'move_distance': 16, 'position': (-82, 154), 'color': 'purple', 'size': 36, 'shape': 'star'}}, {'Shape16': {'turn_angle': -10, 'move_distance': 38, 'position': (-20, 53), 'color': 'green', 'size': 46, 'shape': 'circle'}}, {'Shape17': {'turn_angle': -76, 'move_distance': 35, 'position': (-48, 9), 'color': 'red', 'size': 16, 'shape': 'triangle'}}, {'Shape18': {'turn_angle': -83, 'move_distance': 13, 'position': (-150, 126), 'color': 'green', 'size': 76, 'shape': 'triangle'}}, {'Shape19': {'turn_angle': 93, 'move_distance': 25, 'position': (191, 26), 'color': 'orange', 'size': 71, 'shape': 'triangle'}}, {'Shape20': {'turn_angle': 174, 'move_distance': 11, 'position': (33, -115), 'color': 'purple', 'size': 36, 'shape': 'circle'}}, {'Shape21': {'turn_angle': -4, 'move_distance': 13, 'position': (44, -68), 'color': 'orange', 'size': 86, 'shape': 'circle'}}, {'Shape22': {'turn_angle': -106, 'move_distance': 44, 'position': (138, -121), 'color': 'orange', 'size': 90, 'shape': 'triangle'}}, {'Shape23': {'turn_angle': 21, 'move_distance': 43, 'position': (-144, 124), 'color': 'pink', 'size': 24, 'shape': 'triangle'}}, {'Shape24': {'turn_angle': -19, 'move_distance': 17, 'position': (-143, -144), 'color': 'pink', 'size': 26, 'shape': 'star'}}, {'Shape25': {'turn_angle': 1, 'move_distance': 20, 'position': (69, 106), 'color': 'orange', 'size': 49, 'shape': 'square'}}, {'Shape26': {'turn_angle': -121, 'move_distance': 32, 'position': (-36, 90), 'color': 'green', 'size': 57, 'shape': 'triangle'}}, {'Shape27': {'turn_angle': 174, 'move_distance': 40, 'position': (-100, -102), 'color': 'orange', 'size': 15, 'shape': 'square'}}, {'Shape28': {'turn_angle': 87, 'move_distance': 25, 'position': (-127, 95), 'color': 'purple', 'size': 46, 'shape': 'star'}}, {'Shape29': {'turn_angle': 64, 'move_distance': 36, 'position': (86, -122), 'color': 'purple', 'size': 40, 'shape': 'square'}}, {'Shape30': {'turn_angle': -53, 'move_distance': 42, 'position': (118, 21), 'color': 'red', 'size': 98, 'shape': 'square'}}]\n"
          ]
        }
      ]
    },
    {
      "cell_type": "code",
      "source": [
        "import json\n",
        "with open('Drawing_3.json', 'w') as json_obj:\n",
        "  json.dump(records_list, json_obj, indent=2)\n",
        "print(\"file written\")"
      ],
      "metadata": {
        "colab": {
          "base_uri": "https://localhost:8080/"
        },
        "id": "7kZwOsqVdEdM",
        "outputId": "32969097-20a4-4014-e606-944c9c658eef"
      },
      "execution_count": null,
      "outputs": [
        {
          "output_type": "stream",
          "name": "stdout",
          "text": [
            "file written\n"
          ]
        }
      ]
    },
    {
      "cell_type": "code",
      "source": [
        "#saving a drawing\n",
        "#first capture the data written to the screen\n",
        "screen_obj = Screen()\n",
        "#print(screen_obj)\n",
        "screen_obj.saveSVG('Elmer_drawing_3.svg', False) #False means don't show turtles"
      ],
      "metadata": {
        "id": "FGcn5Kqyddpu"
      },
      "execution_count": null,
      "outputs": []
    },
    {
      "cell_type": "markdown",
      "source": [
        "**Drawing 4**"
      ],
      "metadata": {
        "id": "ZKxtFu3RdfLn"
      }
    },
    {
      "cell_type": "code",
      "source": [
        "pencil.clear()\n",
        "# test the function by calling it 50 times and storing the records into a list of dictionaries\n",
        "records_list = []\n",
        "for i in range(50):\n",
        "    record_name = f\"Shape{i+1}\"\n",
        "    record_dict = draw3()\n",
        "    records_list.append({record_name: record_dict})\n",
        "\n",
        "# print out the list of records\n",
        "print(f'Drawing 4: {records_list}')"
      ],
      "metadata": {
        "colab": {
          "base_uri": "https://localhost:8080/",
          "height": 856
        },
        "id": "3yL4EZHxZeLh",
        "outputId": "411c0c5e-aab2-4d30-de89-efb29c0ee634"
      },
      "execution_count": null,
      "outputs": [
        {
          "output_type": "display_data",
          "data": {
            "text/plain": [
              "<IPython.core.display.HTML object>"
            ],
            "text/html": [
              "\n",
              "      <svg width=\"800\" height=\"800\">  \n",
              "        <rect width=\"100%\" height=\"100%\" style=\"fill:white;stroke:;stroke-width:1\"/>\n",
              "        \n",
              "        \n",
              "        <line x1=\"510.0\" y1=\"258.0\" x2=\"576.511\" y2=\"290.439\" stroke-linecap=\"round\" style=\"stroke:yellow;stroke-width:2\" /><line x1=\"576.511\" y1=\"290.439\" x2=\"515.162\" y2=\"331.819\" stroke-linecap=\"round\" style=\"stroke:yellow;stroke-width:2\" /><line x1=\"515.162\" y1=\"331.819\" x2=\"510.0\" y2=\"257.999\" stroke-linecap=\"round\" style=\"stroke:yellow;stroke-width:2\" /><path fill-rule=\"evenodd\" fill-opacity=\"1\" d=\"M 524.0 397.0  L 592.486 405.409  L 532.137 438.861  L 561.298 376.326  L 574.464 444.058  L 524.001 397.0 \" stroke-linecap=\"round\" style=\"stroke:orange;stroke-width:2\" fill=\"orange\" /><path fill-rule=\"evenodd\" fill-opacity=\"1\" d=\"M 430.0 456.0  L 402.649 391.565  L 462.651 427.618  L 392.917 433.719  L 445.747 387.795  L 430.0 456.001 \" stroke-linecap=\"round\" style=\"stroke:purple;stroke-width:2\" fill=\"purple\" /><line x1=\"445.0\" y1=\"463.0\" x2=\"414.398\" y2=\"472.356\" stroke-linecap=\"round\" style=\"stroke:yellow;stroke-width:2\" /><line x1=\"414.398\" y1=\"472.356\" x2=\"421.596\" y2=\"441.176\" stroke-linecap=\"round\" style=\"stroke:yellow;stroke-width:2\" /><line x1=\"421.596\" y1=\"441.176\" x2=\"444.999\" y2=\"463.0\" stroke-linecap=\"round\" style=\"stroke:yellow;stroke-width:2\" /><path fill-rule=\"evenodd\" fill-opacity=\"1\" d=\"M 470.0 584.0  A 33 33 0 0 0 534.787 571.407  A 33 33 0 0 0 470.0 584.0 \" stroke-linecap=\"round\" style=\"stroke:red;stroke-width:2\" fill=\"red\" /><line x1=\"444.0\" y1=\"251.0\" x2=\"521.573\" y2=\"259.153\" stroke-linecap=\"round\" style=\"stroke:orange;stroke-width:2\" /><line x1=\"521.573\" y1=\"259.153\" x2=\"475.726\" y2=\"322.256\" stroke-linecap=\"round\" style=\"stroke:orange;stroke-width:2\" /><line x1=\"475.726\" y1=\"322.256\" x2=\"444.001\" y2=\"250.999\" stroke-linecap=\"round\" style=\"stroke:orange;stroke-width:2\" /><line x1=\"377.0\" y1=\"531.0\" x2=\"394.936\" y2=\"623.273\" stroke-linecap=\"round\" style=\"stroke:red;stroke-width:2\" /><line x1=\"394.936\" y1=\"623.273\" x2=\"302.663\" y2=\"641.209\" stroke-linecap=\"round\" style=\"stroke:red;stroke-width:2\" /><line x1=\"302.663\" y1=\"641.209\" x2=\"284.727\" y2=\"548.936\" stroke-linecap=\"round\" style=\"stroke:red;stroke-width:2\" /><line x1=\"284.727\" y1=\"548.936\" x2=\"377.0\" y2=\"531.0\" stroke-linecap=\"round\" style=\"stroke:red;stroke-width:2\" /><line x1=\"432.0\" y1=\"460.0\" x2=\"430.432\" y2=\"445.082\" stroke-linecap=\"round\" style=\"stroke:blue;stroke-width:2\" /><line x1=\"430.432\" y1=\"445.082\" x2=\"444.135\" y2=\"451.183\" stroke-linecap=\"round\" style=\"stroke:blue;stroke-width:2\" /><line x1=\"444.135\" y1=\"451.183\" x2=\"432.0\" y2=\"460.0\" stroke-linecap=\"round\" style=\"stroke:blue;stroke-width:2\" /><line x1=\"449.0\" y1=\"273.0\" x2=\"443.678\" y2=\"294.347\" stroke-linecap=\"round\" style=\"stroke:yellow;stroke-width:2\" /><line x1=\"443.678\" y1=\"294.347\" x2=\"427.853\" y2=\"279.065\" stroke-linecap=\"round\" style=\"stroke:yellow;stroke-width:2\" /><line x1=\"427.853\" y1=\"279.065\" x2=\"449.001\" y2=\"273.001\" stroke-linecap=\"round\" style=\"stroke:yellow;stroke-width:2\" /><path fill-rule=\"evenodd\" fill-opacity=\"1\" d=\"M 330.0 490.0  L 312.51 482.576  L 331.023 478.302  L 318.558 492.641  L 320.214 473.713  L 330.0 489.999 \" stroke-linecap=\"round\" style=\"stroke:green;stroke-width:2\" fill=\"green\" /><path fill-rule=\"evenodd\" fill-opacity=\"1\" d=\"M 465.0 297.0  L 441.965 382.967  L 410.07 299.878  L 484.712 348.351  L 395.834 353.009  L 465.0 296.999 \" stroke-linecap=\"round\" style=\"stroke:orange;stroke-width:2\" fill=\"orange\" /><line x1=\"220.0\" y1=\"434.0\" x2=\"237.894\" y2=\"407.471\" stroke-linecap=\"round\" style=\"stroke:yellow;stroke-width:2\" /><line x1=\"237.894\" y1=\"407.471\" x2=\"251.922\" y2=\"436.232\" stroke-linecap=\"round\" style=\"stroke:yellow;stroke-width:2\" /><line x1=\"251.922\" y1=\"436.232\" x2=\"220.0\" y2=\"434.0\" stroke-linecap=\"round\" style=\"stroke:yellow;stroke-width:2\" /><line x1=\"236.0\" y1=\"350.0\" x2=\"222.326\" y2=\"389.712\" stroke-linecap=\"round\" style=\"stroke:green;stroke-width:2\" /><line x1=\"222.326\" y1=\"389.712\" x2=\"194.772\" y2=\"358.014\" stroke-linecap=\"round\" style=\"stroke:green;stroke-width:2\" /><line x1=\"194.772\" y1=\"358.014\" x2=\"236.0\" y2=\"350.0\" stroke-linecap=\"round\" style=\"stroke:green;stroke-width:2\" /><line x1=\"386.0\" y1=\"317.0\" x2=\"362.224\" y2=\"324.725\" stroke-linecap=\"round\" style=\"stroke:green;stroke-width:2\" /><line x1=\"362.224\" y1=\"324.725\" x2=\"354.499\" y2=\"300.949\" stroke-linecap=\"round\" style=\"stroke:green;stroke-width:2\" /><line x1=\"354.499\" y1=\"300.949\" x2=\"378.275\" y2=\"293.224\" stroke-linecap=\"round\" style=\"stroke:green;stroke-width:2\" /><line x1=\"378.275\" y1=\"293.224\" x2=\"386.0\" y2=\"317.0\" stroke-linecap=\"round\" style=\"stroke:green;stroke-width:2\" /><line x1=\"494.0\" y1=\"254.0\" x2=\"591.781\" y2=\"238.513\" stroke-linecap=\"round\" style=\"stroke:green;stroke-width:2\" /><line x1=\"591.781\" y1=\"238.513\" x2=\"556.303\" y2=\"330.937\" stroke-linecap=\"round\" style=\"stroke:green;stroke-width:2\" /><line x1=\"556.303\" y1=\"330.937\" x2=\"494.0\" y2=\"254.0\" stroke-linecap=\"round\" style=\"stroke:green;stroke-width:2\" /><line x1=\"471.0\" y1=\"220.0\" x2=\"538.169\" y2=\"161.611\" stroke-linecap=\"round\" style=\"stroke:purple;stroke-width:2\" /><line x1=\"538.169\" y1=\"161.611\" x2=\"596.558\" y2=\"228.78\" stroke-linecap=\"round\" style=\"stroke:purple;stroke-width:2\" /><line x1=\"596.558\" y1=\"228.78\" x2=\"529.389\" y2=\"287.169\" stroke-linecap=\"round\" style=\"stroke:purple;stroke-width:2\" /><line x1=\"529.389\" y1=\"287.169\" x2=\"471.0\" y2=\"220.0\" stroke-linecap=\"round\" style=\"stroke:purple;stroke-width:2\" /><path fill-rule=\"evenodd\" fill-opacity=\"1\" d=\"M 382.0 381.0  L 396.792 349.279  L 403.47 383.636  L 377.873 359.766  L 412.612 364.031  L 382.0 380.999 \" stroke-linecap=\"round\" style=\"stroke:green;stroke-width:2\" fill=\"green\" /><path fill-rule=\"evenodd\" fill-opacity=\"1\" d=\"M 394.0 420.0  L 309.978 387.747  L 396.911 364.453  L 340.272 434.396  L 344.982 344.519  L 394.0 419.999 \" stroke-linecap=\"round\" style=\"stroke:yellow;stroke-width:2\" fill=\"yellow\" /><path fill-rule=\"evenodd\" fill-opacity=\"1\" d=\"M 559.0 364.0  A 82 82 0 0 0 666.594 240.228  A 82 82 0 0 0 559.0 364.0 \" stroke-linecap=\"round\" style=\"stroke:orange;stroke-width:2\" fill=\"orange\" /><line x1=\"494.0\" y1=\"276.0\" x2=\"500.188\" y2=\"205.27\" stroke-linecap=\"round\" style=\"stroke:green;stroke-width:2\" /><line x1=\"500.188\" y1=\"205.27\" x2=\"570.918\" y2=\"211.458\" stroke-linecap=\"round\" style=\"stroke:green;stroke-width:2\" /><line x1=\"570.918\" y1=\"211.458\" x2=\"564.73\" y2=\"282.188\" stroke-linecap=\"round\" style=\"stroke:green;stroke-width:2\" /><line x1=\"564.73\" y1=\"282.188\" x2=\"494.0\" y2=\"276.0\" stroke-linecap=\"round\" style=\"stroke:green;stroke-width:2\" /><line x1=\"475.0\" y1=\"255.0\" x2=\"493.423\" y2=\"221.764\" stroke-linecap=\"round\" style=\"stroke:red;stroke-width:2\" /><line x1=\"493.423\" y1=\"221.764\" x2=\"526.659\" y2=\"240.187\" stroke-linecap=\"round\" style=\"stroke:red;stroke-width:2\" /><line x1=\"526.659\" y1=\"240.187\" x2=\"508.236\" y2=\"273.423\" stroke-linecap=\"round\" style=\"stroke:red;stroke-width:2\" /><line x1=\"508.236\" y1=\"273.423\" x2=\"475.0\" y2=\"255.0\" stroke-linecap=\"round\" style=\"stroke:red;stroke-width:2\" /><path fill-rule=\"evenodd\" fill-opacity=\"1\" d=\"M 509.0 563.0  A 12 12 0 0 0 496.639 542.428  A 12 12 0 0 0 509.0 563.0 \" stroke-linecap=\"round\" style=\"stroke:purple;stroke-width:2\" fill=\"purple\" /><line x1=\"214.0\" y1=\"288.0\" x2=\"224.489\" y2=\"313.961\" stroke-linecap=\"round\" style=\"stroke:orange;stroke-width:2\" /><line x1=\"224.489\" y1=\"313.961\" x2=\"198.528\" y2=\"324.45\" stroke-linecap=\"round\" style=\"stroke:orange;stroke-width:2\" /><line x1=\"198.528\" y1=\"324.45\" x2=\"188.039\" y2=\"298.489\" stroke-linecap=\"round\" style=\"stroke:orange;stroke-width:2\" /><line x1=\"188.039\" y1=\"298.489\" x2=\"214.0\" y2=\"288.0\" stroke-linecap=\"round\" style=\"stroke:orange;stroke-width:2\" /><path fill-rule=\"evenodd\" fill-opacity=\"1\" d=\"M 263.0 210.0  A 77 77 0 0 0 265.688 363.977  A 77 77 0 0 0 263.0 210.0 \" stroke-linecap=\"round\" style=\"stroke:red;stroke-width:2\" fill=\"red\" /><path fill-rule=\"evenodd\" fill-opacity=\"1\" d=\"M 331.0 366.0  A 39 39 0 0 0 278.808 423.965  A 39 39 0 0 0 331.0 366.0 \" stroke-linecap=\"round\" style=\"stroke:green;stroke-width:2\" fill=\"green\" /><path fill-rule=\"evenodd\" fill-opacity=\"1\" d=\"M 215.0 501.0  L 189.152 437.024  L 247.667 473.588  L 178.835 478.401  L 231.692 434.049  L 214.999 500.999 \" stroke-linecap=\"round\" style=\"stroke:green;stroke-width:2\" fill=\"green\" /><line x1=\"509.0\" y1=\"286.0\" x2=\"534.276\" y2=\"319.543\" stroke-linecap=\"round\" style=\"stroke:red;stroke-width:2\" /><line x1=\"534.276\" y1=\"319.543\" x2=\"500.733\" y2=\"344.819\" stroke-linecap=\"round\" style=\"stroke:red;stroke-width:2\" /><line x1=\"500.733\" y1=\"344.819\" x2=\"475.457\" y2=\"311.276\" stroke-linecap=\"round\" style=\"stroke:red;stroke-width:2\" /><line x1=\"475.457\" y1=\"311.276\" x2=\"509.0\" y2=\"286.0\" stroke-linecap=\"round\" style=\"stroke:red;stroke-width:2\" /><path fill-rule=\"evenodd\" fill-opacity=\"1\" d=\"M 298.0 406.0  L 324.897 408.353  L 301.753 422.259  L 312.303 397.405  L 318.377 423.713  L 298.0 405.999 \" stroke-linecap=\"round\" style=\"stroke:red;stroke-width:2\" fill=\"red\" /><path fill-rule=\"evenodd\" fill-opacity=\"1\" d=\"M 211.0 388.0  L 200.21 377.58  L 215.064 379.668  L 201.82 386.71  L 208.396 373.228  L 211.001 388.0 \" stroke-linecap=\"round\" style=\"stroke:green;stroke-width:2\" fill=\"green\" /><line x1=\"210.0\" y1=\"377.0\" x2=\"285.431\" y2=\"422.323\" stroke-linecap=\"round\" style=\"stroke:purple;stroke-width:2\" /><line x1=\"285.431\" y1=\"422.323\" x2=\"240.108\" y2=\"497.754\" stroke-linecap=\"round\" style=\"stroke:purple;stroke-width:2\" /><line x1=\"240.108\" y1=\"497.754\" x2=\"164.677\" y2=\"452.431\" stroke-linecap=\"round\" style=\"stroke:purple;stroke-width:2\" /><line x1=\"164.677\" y1=\"452.431\" x2=\"210.0\" y2=\"377.0\" stroke-linecap=\"round\" style=\"stroke:purple;stroke-width:2\" /><path fill-rule=\"evenodd\" fill-opacity=\"1\" d=\"M 204.0 422.0  A 79 79 0 0 0 359.6 449.436  A 79 79 0 0 0 204.0 422.0 \" stroke-linecap=\"round\" style=\"stroke:orange;stroke-width:2\" fill=\"orange\" /><path fill-rule=\"evenodd\" fill-opacity=\"1\" d=\"M 248.0 362.0  A 88 88 0 0 0 154.734 511.256  A 88 88 0 0 0 248.0 362.0 \" stroke-linecap=\"round\" style=\"stroke:orange;stroke-width:2\" fill=\"orange\" /><line x1=\"303.0\" y1=\"376.0\" x2=\"350.642\" y2=\"381.85\" stroke-linecap=\"round\" style=\"stroke:blue;stroke-width:2\" /><line x1=\"350.642\" y1=\"381.85\" x2=\"321.755\" y2=\"420.185\" stroke-linecap=\"round\" style=\"stroke:blue;stroke-width:2\" /><line x1=\"321.755\" y1=\"420.185\" x2=\"303.0\" y2=\"376.001\" stroke-linecap=\"round\" style=\"stroke:blue;stroke-width:2\" /><line x1=\"417.0\" y1=\"445.0\" x2=\"458.722\" y2=\"404.71\" stroke-linecap=\"round\" style=\"stroke:purple;stroke-width:2\" /><line x1=\"458.722\" y1=\"404.71\" x2=\"472.753\" y2=\"460.987\" stroke-linecap=\"round\" style=\"stroke:purple;stroke-width:2\" /><line x1=\"472.753\" y1=\"460.987\" x2=\"417.0\" y2=\"445.0\" stroke-linecap=\"round\" style=\"stroke:purple;stroke-width:2\" /><path fill-rule=\"evenodd\" fill-opacity=\"1\" d=\"M 392.0 222.0  A 81 81 0 0 0 277.449 336.551  A 81 81 0 0 0 392.0 222.0 \" stroke-linecap=\"round\" style=\"stroke:pink;stroke-width:2\" fill=\"pink\" /><line x1=\"350.0\" y1=\"290.0\" x2=\"339.032\" y2=\"379.329\" stroke-linecap=\"round\" style=\"stroke:orange;stroke-width:2\" /><line x1=\"339.032\" y1=\"379.329\" x2=\"267.155\" y2=\"325.166\" stroke-linecap=\"round\" style=\"stroke:orange;stroke-width:2\" /><line x1=\"267.155\" y1=\"325.166\" x2=\"350.0\" y2=\"290.0\" stroke-linecap=\"round\" style=\"stroke:orange;stroke-width:2\" /><path fill-rule=\"evenodd\" fill-opacity=\"1\" d=\"M 455.0 362.0  L 485.179 396.717  L 440.358 386.369  L 482.701 368.395  L 459.009 407.825  L 455.0 362.0 \" stroke-linecap=\"round\" style=\"stroke:red;stroke-width:2\" fill=\"red\" /><line x1=\"267.0\" y1=\"341.0\" x2=\"316.349\" y2=\"406.488\" stroke-linecap=\"round\" style=\"stroke:yellow;stroke-width:2\" /><line x1=\"316.349\" y1=\"406.488\" x2=\"234.96\" y2=\"416.481\" stroke-linecap=\"round\" style=\"stroke:yellow;stroke-width:2\" /><line x1=\"234.96\" y1=\"416.481\" x2=\"267.0\" y2=\"341.0\" stroke-linecap=\"round\" style=\"stroke:yellow;stroke-width:2\" /><line x1=\"510.0\" y1=\"483.0\" x2=\"579.499\" y2=\"447.589\" stroke-linecap=\"round\" style=\"stroke:purple;stroke-width:2\" /><line x1=\"579.499\" y1=\"447.589\" x2=\"575.417\" y2=\"525.482\" stroke-linecap=\"round\" style=\"stroke:purple;stroke-width:2\" /><line x1=\"575.417\" y1=\"525.482\" x2=\"510.001\" y2=\"483.0\" stroke-linecap=\"round\" style=\"stroke:purple;stroke-width:2\" /><line x1=\"452.0\" y1=\"518.0\" x2=\"547.627\" y2=\"543.623\" stroke-linecap=\"round\" style=\"stroke:red;stroke-width:2\" /><line x1=\"547.627\" y1=\"543.623\" x2=\"522.004\" y2=\"639.25\" stroke-linecap=\"round\" style=\"stroke:red;stroke-width:2\" /><line x1=\"522.004\" y1=\"639.25\" x2=\"426.377\" y2=\"613.627\" stroke-linecap=\"round\" style=\"stroke:red;stroke-width:2\" /><line x1=\"426.377\" y1=\"613.627\" x2=\"452.0\" y2=\"518.0\" stroke-linecap=\"round\" style=\"stroke:red;stroke-width:2\" /><path fill-rule=\"evenodd\" fill-opacity=\"1\" d=\"M 353.0 543.0  L 307.027 552.772  L 338.476 517.844  L 333.563 564.587  L 310.063 523.884  L 353.0 543.001 \" stroke-linecap=\"round\" style=\"stroke:green;stroke-width:2\" fill=\"green\" /><line x1=\"513.0\" y1=\"530.0\" x2=\"474.19\" y2=\"573.102\" stroke-linecap=\"round\" style=\"stroke:blue;stroke-width:2\" /><line x1=\"474.19\" y1=\"573.102\" x2=\"431.088\" y2=\"534.292\" stroke-linecap=\"round\" style=\"stroke:blue;stroke-width:2\" /><line x1=\"431.088\" y1=\"534.292\" x2=\"469.898\" y2=\"491.19\" stroke-linecap=\"round\" style=\"stroke:blue;stroke-width:2\" /><line x1=\"469.898\" y1=\"491.19\" x2=\"513.0\" y2=\"530.0\" stroke-linecap=\"round\" style=\"stroke:blue;stroke-width:2\" /><path fill-rule=\"evenodd\" fill-opacity=\"1\" d=\"M 368.0 554.0  A 34 34 0 0 0 313.693 594.923  A 34 34 0 0 0 368.0 554.0 \" stroke-linecap=\"round\" style=\"stroke:purple;stroke-width:2\" fill=\"purple\" /><line x1=\"499.0\" y1=\"471.0\" x2=\"432.724\" y2=\"442.867\" stroke-linecap=\"round\" style=\"stroke:red;stroke-width:2\" /><line x1=\"432.724\" y1=\"442.867\" x2=\"490.226\" y2=\"399.536\" stroke-linecap=\"round\" style=\"stroke:red;stroke-width:2\" /><line x1=\"490.226\" y1=\"399.536\" x2=\"499.001\" y2=\"470.999\" stroke-linecap=\"round\" style=\"stroke:red;stroke-width:2\" /><path fill-rule=\"evenodd\" fill-opacity=\"1\" d=\"M 291.0 350.0  L 305.721 366.349  L 284.202 361.775  L 304.3 352.827  L 293.3 371.88  L 291.0 350.001 \" stroke-linecap=\"round\" style=\"stroke:pink;stroke-width:2\" fill=\"pink\" /><path fill-rule=\"evenodd\" fill-opacity=\"1\" d=\"M 518.0 482.0  A 44 44 0 0 0 439.591 442.049  A 44 44 0 0 0 518.0 482.0 \" stroke-linecap=\"round\" style=\"stroke:pink;stroke-width:2\" fill=\"pink\" /><line x1=\"260.0\" y1=\"506.0\" x2=\"308.548\" y2=\"450.151\" stroke-linecap=\"round\" style=\"stroke:red;stroke-width:2\" /><line x1=\"308.548\" y1=\"450.151\" x2=\"332.64\" y2=\"520.119\" stroke-linecap=\"round\" style=\"stroke:red;stroke-width:2\" /><line x1=\"332.64\" y1=\"520.119\" x2=\"260.0\" y2=\"505.999\" stroke-linecap=\"round\" style=\"stroke:red;stroke-width:2\" /><line x1=\"204.0\" y1=\"341.0\" x2=\"174.998\" y2=\"327.476\" stroke-linecap=\"round\" style=\"stroke:green;stroke-width:2\" /><line x1=\"174.998\" y1=\"327.476\" x2=\"201.211\" y2=\"309.122\" stroke-linecap=\"round\" style=\"stroke:green;stroke-width:2\" /><line x1=\"201.211\" y1=\"309.122\" x2=\"204.0\" y2=\"341.0\" stroke-linecap=\"round\" style=\"stroke:green;stroke-width:2\" /><path fill-rule=\"evenodd\" fill-opacity=\"1\" d=\"M 490.0 539.0  L 542.462 622.957  L 450.671 585.871  L 546.73 561.921  L 483.094 637.759  L 490.0 539.0 \" stroke-linecap=\"round\" style=\"stroke:pink;stroke-width:2\" fill=\"pink\" /><path fill-rule=\"evenodd\" fill-opacity=\"1\" d=\"M 429.0 427.0  L 513.86 376.011  L 475.178 467.141  L 452.908 370.678  L 527.624 435.628  L 429.001 427.0 \" stroke-linecap=\"round\" style=\"stroke:purple;stroke-width:2\" fill=\"purple\" />\n",
              "        \n",
              "        \n",
              "        <g id=\"classic\" visibility=\"visible\" transform=\"rotate(239.0,429.001,427.0) translate(429.001, 427.0)\">\n",
              "<polygon points=\"-5,-4.5 0,-2.5 5,-4.5 0,4.5\" transform=\"skewX(0) scale(1,1)\" style=\"stroke:purple;fill:purple;stroke-width:1\" />\n",
              "</g>\n",
              "      </svg>\n",
              "    "
            ]
          },
          "metadata": {}
        },
        {
          "output_type": "stream",
          "name": "stdout",
          "text": [
            "Drawing 4: [{'Shape1': {'turn_angle': -38, 'move_distance': 19, 'position': (110, 142), 'color': 'yellow', 'size': 74, 'shape': 'triangle'}}, {'Shape2': {'turn_angle': -19, 'move_distance': 40, 'position': (124, 3), 'color': 'orange', 'size': 69, 'shape': 'star'}}, {'Shape3': {'turn_angle': -120, 'move_distance': 23, 'position': (30, -56), 'color': 'purple', 'size': 70, 'shape': 'star'}}, {'Shape4': {'turn_angle': -84, 'move_distance': 28, 'position': (45, -63), 'color': 'yellow', 'size': 32, 'shape': 'triangle'}}, {'Shape5': {'turn_angle': -84, 'move_distance': 24, 'position': (70, -184), 'color': 'red', 'size': 33, 'shape': 'circle'}}, {'Shape6': {'turn_angle': -73, 'move_distance': 20, 'position': (44, 149), 'color': 'orange', 'size': 78, 'shape': 'triangle'}}, {'Shape7': {'turn_angle': 73, 'move_distance': 20, 'position': (-23, -131), 'color': 'red', 'size': 94, 'shape': 'square'}}, {'Shape8': {'turn_angle': -175, 'move_distance': 21, 'position': (32, -60), 'color': 'blue', 'size': 15, 'shape': 'triangle'}}, {'Shape9': {'turn_angle': -160, 'move_distance': 30, 'position': (49, 127), 'color': 'yellow', 'size': 22, 'shape': 'triangle'}}, {'Shape10': {'turn_angle': 99, 'move_distance': 18, 'position': (-70, -90), 'color': 'green', 'size': 19, 'shape': 'star'}}, {'Shape11': {'turn_angle': -98, 'move_distance': 45, 'position': (65, 103), 'color': 'orange', 'size': 89, 'shape': 'star'}}, {'Shape12': {'turn_angle': -161, 'move_distance': 34, 'position': (-180, -34), 'color': 'yellow', 'size': 32, 'shape': 'triangle'}}, {'Shape13': {'turn_angle': 165, 'move_distance': 17, 'position': (-164, 50), 'color': 'green', 'size': 42, 'shape': 'triangle'}}, {'Shape14': {'turn_angle': 53, 'move_distance': 16, 'position': (-14, 83), 'color': 'green', 'size': 25, 'shape': 'square'}}, {'Shape15': {'turn_angle': -171, 'move_distance': 49, 'position': (94, 146), 'color': 'green', 'size': 99, 'shape': 'triangle'}}, {'Shape16': {'turn_angle': -32, 'move_distance': 21, 'position': (71, 180), 'color': 'purple', 'size': 89, 'shape': 'square'}}, {'Shape17': {'turn_angle': -24, 'move_distance': 30, 'position': (-18, 19), 'color': 'green', 'size': 35, 'shape': 'star'}}, {'Shape18': {'turn_angle': -94, 'move_distance': 37, 'position': (-6, -20), 'color': 'yellow', 'size': 90, 'shape': 'star'}}, {'Shape19': {'turn_angle': -160, 'move_distance': 41, 'position': (159, 36), 'color': 'orange', 'size': 82, 'shape': 'circle'}}, {'Shape20': {'turn_angle': -126, 'move_distance': 32, 'position': (94, 124), 'color': 'green', 'size': 71, 'shape': 'square'}}, {'Shape21': {'turn_angle': 24, 'move_distance': 16, 'position': (75, 145), 'color': 'red', 'size': 38, 'shape': 'square'}}, {'Shape22': {'turn_angle': 30, 'move_distance': 31, 'position': (109, -163), 'color': 'purple', 'size': 12, 'shape': 'circle'}}, {'Shape23': {'turn_angle': 99, 'move_distance': 30, 'position': (-186, 112), 'color': 'orange', 'size': 28, 'shape': 'square'}}, {'Shape24': {'turn_angle': 111, 'move_distance': 33, 'position': (-137, 190), 'color': 'red', 'size': 77, 'shape': 'circle'}}, {'Shape25': {'turn_angle': 43, 'move_distance': 39, 'position': (-69, 34), 'color': 'green', 'size': 39, 'shape': 'circle'}}, {'Shape26': {'turn_angle': 26, 'move_distance': 27, 'position': (-185, -101), 'color': 'green', 'size': 69, 'shape': 'star'}}, {'Shape27': {'turn_angle': 165, 'move_distance': 16, 'position': (109, 114), 'color': 'red', 'size': 42, 'shape': 'square'}}, {'Shape28': {'turn_angle': -48, 'move_distance': 42, 'position': (-102, -6), 'color': 'red', 'size': 27, 'shape': 'star'}}, {'Shape29': {'turn_angle': -141, 'move_distance': 39, 'position': (-189, 12), 'color': 'green', 'size': 15, 'shape': 'star'}}, {'Shape30': {'turn_angle': 167, 'move_distance': 48, 'position': (-190, 23), 'color': 'purple', 'size': 88, 'shape': 'square'}}, {'Shape31': {'turn_angle': 69, 'move_distance': 49, 'position': (-196, -22), 'color': 'orange', 'size': 79, 'shape': 'circle'}}, {'Shape32': {'turn_angle': 112, 'move_distance': 13, 'position': (-152, 38), 'color': 'orange', 'size': 88, 'shape': 'circle'}}, {'Shape33': {'turn_angle': 155, 'move_distance': 23, 'position': (-97, 24), 'color': 'blue', 'size': 48, 'shape': 'triangle'}}, {'Shape34': {'turn_angle': -51, 'move_distance': 24, 'position': (17, -45), 'color': 'purple', 'size': 58, 'shape': 'triangle'}}, {'Shape35': {'turn_angle': -91, 'move_distance': 30, 'position': (-8, 178), 'color': 'pink', 'size': 81, 'shape': 'circle'}}, {'Shape36': {'turn_angle': -128, 'move_distance': 13, 'position': (-50, 110), 'color': 'orange', 'size': 90, 'shape': 'triangle'}}, {'Shape37': {'turn_angle': -48, 'move_distance': 46, 'position': (55, 38), 'color': 'red', 'size': 46, 'shape': 'star'}}, {'Shape38': {'turn_angle': 4, 'move_distance': 33, 'position': (-133, 59), 'color': 'yellow', 'size': 82, 'shape': 'triangle'}}, {'Shape39': {'turn_angle': -80, 'move_distance': 27, 'position': (110, -83), 'color': 'purple', 'size': 78, 'shape': 'triangle'}}, {'Shape40': {'turn_angle': 42, 'move_distance': 39, 'position': (52, -118), 'color': 'red', 'size': 99, 'shape': 'square'}}, {'Shape41': {'turn_angle': 153, 'move_distance': 32, 'position': (-47, -143), 'color': 'green', 'size': 47, 'shape': 'star'}}, {'Shape42': {'turn_angle': -36, 'move_distance': 36, 'position': (113, -130), 'color': 'blue', 'size': 58, 'shape': 'square'}}, {'Shape43': {'turn_angle': 101, 'move_distance': 30, 'position': (-32, -154), 'color': 'purple', 'size': 34, 'shape': 'circle'}}, {'Shape44': {'turn_angle': -30, 'move_distance': 20, 'position': (99, -71), 'color': 'red', 'size': 72, 'shape': 'triangle'}}, {'Shape45': {'turn_angle': -155, 'move_distance': 26, 'position': (-109, 50), 'color': 'pink', 'size': 22, 'shape': 'star'}}, {'Shape46': {'turn_angle': -111, 'move_distance': 50, 'position': (118, -82), 'color': 'pink', 'size': 44, 'shape': 'circle'}}, {'Shape47': {'turn_angle': 14, 'move_distance': 46, 'position': (-140, -106), 'color': 'red', 'size': 74, 'shape': 'triangle'}}, {'Shape48': {'turn_angle': -106, 'move_distance': 19, 'position': (-196, 59), 'color': 'green', 'size': 32, 'shape': 'triangle'}}, {'Shape49': {'turn_angle': -147, 'move_distance': 41, 'position': (90, -139), 'color': 'pink', 'size': 99, 'shape': 'star'}}, {'Shape50': {'turn_angle': -89, 'move_distance': 49, 'position': (29, -27), 'color': 'purple', 'size': 99, 'shape': 'star'}}]\n"
          ]
        }
      ]
    },
    {
      "cell_type": "code",
      "source": [
        "import json\n",
        "with open('Drawing_4.json', 'w') as json_obj:\n",
        "  json.dump(records_list, json_obj, indent=2)\n",
        "print(\"file written\")"
      ],
      "metadata": {
        "colab": {
          "base_uri": "https://localhost:8080/"
        },
        "id": "B_EOJDB8dJMd",
        "outputId": "0c0bc67a-84da-4e3e-c29e-2cd94b2ccba2"
      },
      "execution_count": null,
      "outputs": [
        {
          "output_type": "stream",
          "name": "stdout",
          "text": [
            "file written\n"
          ]
        }
      ]
    },
    {
      "cell_type": "code",
      "source": [
        "#saving a drawing\n",
        "#first capture the data written to the screen\n",
        "screen_obj = Screen()\n",
        "#print(screen_obj)\n",
        "screen_obj.saveSVG('Elmer_drawing_4.svg', False) #False means don't show turtles"
      ],
      "metadata": {
        "id": "ajugGee5dhsS"
      },
      "execution_count": null,
      "outputs": []
    },
    {
      "cell_type": "markdown",
      "source": [
        "**Drawing 5**"
      ],
      "metadata": {
        "id": "1S_r9Grddisc"
      }
    },
    {
      "cell_type": "code",
      "source": [
        "pencil.clear()\n",
        "# test the function by calling it 30 times and storing the records into a list of dictionaries\n",
        "records_list = []\n",
        "for i in range(30):\n",
        "    record_name = f\"Shape{i+1}\"\n",
        "    record_dict = draw3()\n",
        "    records_list.append({record_name: record_dict})\n",
        "\n",
        "# print out the list of records\n",
        "print(f'Drawing 6: {records_list}')"
      ],
      "metadata": {
        "colab": {
          "base_uri": "https://localhost:8080/",
          "height": 856
        },
        "id": "Nj8NJbNYhs5G",
        "outputId": "faa800f4-29c2-4aca-d7b1-7d802f1772a2"
      },
      "execution_count": null,
      "outputs": [
        {
          "output_type": "display_data",
          "data": {
            "text/plain": [
              "<IPython.core.display.HTML object>"
            ],
            "text/html": [
              "\n",
              "      <svg width=\"800\" height=\"800\">  \n",
              "        <rect width=\"100%\" height=\"100%\" style=\"fill:white;stroke:;stroke-width:1\"/>\n",
              "        \n",
              "        \n",
              "        <path fill-rule=\"evenodd\" fill-opacity=\"1\" d=\"M 559.0 447.0  L 535.328 398.465  L 583.007 423.816  L 529.533 431.331  L 568.377 393.819  L 559.0 446.999 \" stroke-linecap=\"round\" style=\"stroke:red;stroke-width:2\" fill=\"red\" /><line x1=\"344.0\" y1=\"491.0\" x2=\"328.314\" y2=\"507.821\" stroke-linecap=\"round\" style=\"stroke:red;stroke-width:2\" /><line x1=\"328.314\" y1=\"507.821\" x2=\"321.589\" y2=\"485.826\" stroke-linecap=\"round\" style=\"stroke:red;stroke-width:2\" /><line x1=\"321.589\" y1=\"485.826\" x2=\"344.0\" y2=\"491.0\" stroke-linecap=\"round\" style=\"stroke:red;stroke-width:2\" /><line x1=\"559.0\" y1=\"201.0\" x2=\"648.877\" y2=\"205.71\" stroke-linecap=\"round\" style=\"stroke:red;stroke-width:2\" /><line x1=\"648.877\" y1=\"205.71\" x2=\"644.167\" y2=\"295.587\" stroke-linecap=\"round\" style=\"stroke:red;stroke-width:2\" /><line x1=\"644.167\" y1=\"295.587\" x2=\"554.29\" y2=\"290.877\" stroke-linecap=\"round\" style=\"stroke:red;stroke-width:2\" /><line x1=\"554.29\" y1=\"290.877\" x2=\"559.0\" y2=\"201.0\" stroke-linecap=\"round\" style=\"stroke:red;stroke-width:2\" /><path fill-rule=\"evenodd\" fill-opacity=\"1\" d=\"M 378.0 490.0  A 87 87 0 0 0 443.182 328.67  A 87 87 0 0 0 378.0 490.0 \" stroke-linecap=\"round\" style=\"stroke:green;stroke-width:2\" fill=\"green\" /><line x1=\"490.0\" y1=\"381.0\" x2=\"418.109\" y2=\"393.676\" stroke-linecap=\"round\" style=\"stroke:blue;stroke-width:2\" /><line x1=\"418.109\" y1=\"393.676\" x2=\"405.433\" y2=\"321.785\" stroke-linecap=\"round\" style=\"stroke:blue;stroke-width:2\" /><line x1=\"405.433\" y1=\"321.785\" x2=\"477.324\" y2=\"309.109\" stroke-linecap=\"round\" style=\"stroke:blue;stroke-width:2\" /><line x1=\"477.324\" y1=\"309.109\" x2=\"490.0\" y2=\"381.0\" stroke-linecap=\"round\" style=\"stroke:blue;stroke-width:2\" /><path fill-rule=\"evenodd\" fill-opacity=\"1\" d=\"M 377.0 585.0  A 21 21 0 0 0 339.578 565.932  A 21 21 0 0 0 377.0 585.0 \" stroke-linecap=\"round\" style=\"stroke:red;stroke-width:2\" fill=\"red\" /><path fill-rule=\"evenodd\" fill-opacity=\"1\" d=\"M 589.0 551.0  L 623.838 637.228  L 544.97 587.946  L 637.743 581.459  L 566.501 641.238  L 589.0 551.0 \" stroke-linecap=\"round\" style=\"stroke:orange;stroke-width:2\" fill=\"orange\" /><path fill-rule=\"evenodd\" fill-opacity=\"1\" d=\"M 323.0 404.0  A 91 91 0 0 0 282.059 581.335  A 91 91 0 0 0 323.0 404.0 \" stroke-linecap=\"round\" style=\"stroke:orange;stroke-width:2\" fill=\"orange\" /><path fill-rule=\"evenodd\" fill-opacity=\"1\" d=\"M 283.0 384.0  A 92 92 0 0 0 354.895 553.373  A 92 92 0 0 0 283.0 384.0 \" stroke-linecap=\"round\" style=\"stroke:blue;stroke-width:2\" fill=\"blue\" /><line x1=\"400.0\" y1=\"574.0\" x2=\"448.852\" y2=\"632.219\" stroke-linecap=\"round\" style=\"stroke:blue;stroke-width:2\" /><line x1=\"448.852\" y1=\"632.219\" x2=\"390.633\" y2=\"681.071\" stroke-linecap=\"round\" style=\"stroke:blue;stroke-width:2\" /><line x1=\"390.633\" y1=\"681.071\" x2=\"341.781\" y2=\"622.852\" stroke-linecap=\"round\" style=\"stroke:blue;stroke-width:2\" /><line x1=\"341.781\" y1=\"622.852\" x2=\"400.0\" y2=\"574.0\" stroke-linecap=\"round\" style=\"stroke:blue;stroke-width:2\" /><line x1=\"348.0\" y1=\"385.0\" x2=\"362.257\" y2=\"394.259\" stroke-linecap=\"round\" style=\"stroke:pink;stroke-width:2\" /><line x1=\"362.257\" y1=\"394.259\" x2=\"347.11\" y2=\"401.977\" stroke-linecap=\"round\" style=\"stroke:pink;stroke-width:2\" /><line x1=\"347.11\" y1=\"401.977\" x2=\"348.0\" y2=\"385.0\" stroke-linecap=\"round\" style=\"stroke:pink;stroke-width:2\" /><line x1=\"579.0\" y1=\"401.0\" x2=\"645.284\" y2=\"375.556\" stroke-linecap=\"round\" style=\"stroke:red;stroke-width:2\" /><line x1=\"645.284\" y1=\"375.556\" x2=\"670.728\" y2=\"441.84\" stroke-linecap=\"round\" style=\"stroke:red;stroke-width:2\" /><line x1=\"670.728\" y1=\"441.84\" x2=\"604.444\" y2=\"467.284\" stroke-linecap=\"round\" style=\"stroke:red;stroke-width:2\" /><line x1=\"604.444\" y1=\"467.284\" x2=\"579.0\" y2=\"401.0\" stroke-linecap=\"round\" style=\"stroke:red;stroke-width:2\" /><line x1=\"362.0\" y1=\"393.0\" x2=\"299.01\" y2=\"391.9\" stroke-linecap=\"round\" style=\"stroke:pink;stroke-width:2\" /><line x1=\"299.01\" y1=\"391.9\" x2=\"300.11\" y2=\"328.91\" stroke-linecap=\"round\" style=\"stroke:pink;stroke-width:2\" /><line x1=\"300.11\" y1=\"328.91\" x2=\"363.1\" y2=\"330.01\" stroke-linecap=\"round\" style=\"stroke:pink;stroke-width:2\" /><line x1=\"363.1\" y1=\"330.01\" x2=\"362.0\" y2=\"393.0\" stroke-linecap=\"round\" style=\"stroke:pink;stroke-width:2\" /><path fill-rule=\"evenodd\" fill-opacity=\"1\" d=\"M 570.0 211.0  L 563.582 119.224  L 622.718 189.7  L 533.451 167.443  L 618.752 132.979  L 569.999 210.999 \" stroke-linecap=\"round\" style=\"stroke:blue;stroke-width:2\" fill=\"blue\" /><path fill-rule=\"evenodd\" fill-opacity=\"1\" d=\"M 557.0 401.0  L 634.93 348.436  L 602.78 436.767  L 576.87 346.408  L 650.943 404.28  L 557.0 400.999 \" stroke-linecap=\"round\" style=\"stroke:orange;stroke-width:2\" fill=\"orange\" /><path fill-rule=\"evenodd\" fill-opacity=\"1\" d=\"M 463.0 530.0  A 42 42 0 0 0 381.495 550.321  A 42 42 0 0 0 463.0 530.0 \" stroke-linecap=\"round\" style=\"stroke:blue;stroke-width:2\" fill=\"blue\" /><line x1=\"556.0\" y1=\"272.0\" x2=\"583.777\" y2=\"314.772\" stroke-linecap=\"round\" style=\"stroke:purple;stroke-width:2\" /><line x1=\"583.777\" y1=\"314.772\" x2=\"541.005\" y2=\"342.549\" stroke-linecap=\"round\" style=\"stroke:purple;stroke-width:2\" /><line x1=\"541.005\" y1=\"342.549\" x2=\"513.228\" y2=\"299.777\" stroke-linecap=\"round\" style=\"stroke:purple;stroke-width:2\" /><line x1=\"513.228\" y1=\"299.777\" x2=\"556.0\" y2=\"272.0\" stroke-linecap=\"round\" style=\"stroke:purple;stroke-width:2\" /><path fill-rule=\"evenodd\" fill-opacity=\"1\" d=\"M 502.0 493.0  L 485.583 538.105  L 472.352 491.964  L 510.177 521.516  L 462.206 519.841  L 502.0 493.0 \" stroke-linecap=\"round\" style=\"stroke:pink;stroke-width:2\" fill=\"pink\" /><line x1=\"294.0\" y1=\"541.0\" x2=\"302.454\" y2=\"444.369\" stroke-linecap=\"round\" style=\"stroke:blue;stroke-width:2\" /><line x1=\"302.454\" y1=\"444.369\" x2=\"399.085\" y2=\"452.823\" stroke-linecap=\"round\" style=\"stroke:blue;stroke-width:2\" /><line x1=\"399.085\" y1=\"452.823\" x2=\"390.631\" y2=\"549.454\" stroke-linecap=\"round\" style=\"stroke:blue;stroke-width:2\" /><line x1=\"390.631\" y1=\"549.454\" x2=\"294.0\" y2=\"541.0\" stroke-linecap=\"round\" style=\"stroke:blue;stroke-width:2\" /><line x1=\"321.0\" y1=\"434.0\" x2=\"326.343\" y2=\"461.486\" stroke-linecap=\"round\" style=\"stroke:pink;stroke-width:2\" /><line x1=\"326.343\" y1=\"461.486\" x2=\"299.868\" y2=\"452.37\" stroke-linecap=\"round\" style=\"stroke:pink;stroke-width:2\" /><line x1=\"299.868\" y1=\"452.37\" x2=\"321.0\" y2=\"434.0\" stroke-linecap=\"round\" style=\"stroke:pink;stroke-width:2\" /><path fill-rule=\"evenodd\" fill-opacity=\"1\" d=\"M 289.0 264.0  A 89 89 0 0 0 338.063 435.105  A 89 89 0 0 0 289.0 264.0 \" stroke-linecap=\"round\" style=\"stroke:pink;stroke-width:2\" fill=\"pink\" /><line x1=\"486.0\" y1=\"576.0\" x2=\"526.0\" y2=\"541.229\" stroke-linecap=\"round\" style=\"stroke:pink;stroke-width:2\" /><line x1=\"526.0\" y1=\"541.229\" x2=\"536.113\" y2=\"593.255\" stroke-linecap=\"round\" style=\"stroke:pink;stroke-width:2\" /><line x1=\"536.113\" y1=\"593.255\" x2=\"486.001\" y2=\"576.0\" stroke-linecap=\"round\" style=\"stroke:pink;stroke-width:2\" /><path fill-rule=\"evenodd\" fill-opacity=\"1\" d=\"M 442.0 491.0  L 400.282 560.431  L 393.222 479.739  L 446.363 540.87  L 367.439 522.649  L 442.0 491.0 \" stroke-linecap=\"round\" style=\"stroke:pink;stroke-width:2\" fill=\"pink\" /><path fill-rule=\"evenodd\" fill-opacity=\"1\" d=\"M 336.0 580.0  L 256.985 592.515  L 313.554 535.946  L 301.039 614.961  L 264.72 543.68  L 336.001 579.999 \" stroke-linecap=\"round\" style=\"stroke:pink;stroke-width:2\" fill=\"pink\" /><line x1=\"565.0\" y1=\"546.0\" x2=\"586.997\" y2=\"546.384\" stroke-linecap=\"round\" style=\"stroke:green;stroke-width:2\" /><line x1=\"586.997\" y1=\"546.384\" x2=\"575.666\" y2=\"565.242\" stroke-linecap=\"round\" style=\"stroke:green;stroke-width:2\" /><line x1=\"575.666\" y1=\"565.242\" x2=\"565.0\" y2=\"546.0\" stroke-linecap=\"round\" style=\"stroke:green;stroke-width:2\" /><path fill-rule=\"evenodd\" fill-opacity=\"1\" d=\"M 240.0 559.0  L 234.923 655.867  L 182.093 574.516  L 272.65 609.278  L 178.955 634.383  L 239.999 559.0 \" stroke-linecap=\"round\" style=\"stroke:blue;stroke-width:2\" fill=\"blue\" /><line x1=\"233.0\" y1=\"214.0\" x2=\"197.733\" y2=\"262.541\" stroke-linecap=\"round\" style=\"stroke:blue;stroke-width:2\" /><line x1=\"197.733\" y1=\"262.541\" x2=\"149.192\" y2=\"227.274\" stroke-linecap=\"round\" style=\"stroke:blue;stroke-width:2\" /><line x1=\"149.192\" y1=\"227.274\" x2=\"184.459\" y2=\"178.733\" stroke-linecap=\"round\" style=\"stroke:blue;stroke-width:2\" /><line x1=\"184.459\" y1=\"178.733\" x2=\"233.0\" y2=\"214.0\" stroke-linecap=\"round\" style=\"stroke:blue;stroke-width:2\" /><path fill-rule=\"evenodd\" fill-opacity=\"1\" d=\"M 262.0 345.0  A 14 14 0 0 0 252.423 371.311  A 14 14 0 0 0 262.0 345.0 \" stroke-linecap=\"round\" style=\"stroke:green;stroke-width:2\" fill=\"green\" /><path fill-rule=\"evenodd\" fill-opacity=\"1\" d=\"M 551.0 497.0  A 70 70 0 0 0 440.678 410.807  A 70 70 0 0 0 551.0 497.0 \" stroke-linecap=\"round\" style=\"stroke:red;stroke-width:2\" fill=\"red\" /><path fill-rule=\"evenodd\" fill-opacity=\"1\" d=\"M 414.0 596.0  A 31 31 0 0 0 442.147 540.758  A 31 31 0 0 0 414.0 596.0 \" stroke-linecap=\"round\" style=\"stroke:purple;stroke-width:2\" fill=\"purple\" />\n",
              "        \n",
              "        \n",
              "        <g id=\"classic\" visibility=\"visible\" transform=\"rotate(-63.0,414.0,596.0) translate(414.0, 596.0)\">\n",
              "<polygon points=\"-5,-4.5 0,-2.5 5,-4.5 0,4.5\" transform=\"skewX(0) scale(1,1)\" style=\"stroke:purple;fill:purple;stroke-width:1\" />\n",
              "</g>\n",
              "      </svg>\n",
              "    "
            ]
          },
          "metadata": {}
        },
        {
          "output_type": "stream",
          "name": "stdout",
          "text": [
            "Drawing 6: [{'Shape1': {'turn_angle': -75, 'move_distance': 16, 'position': (159, -47), 'color': 'red', 'size': 54, 'shape': 'star'}}, {'Shape2': {'turn_angle': -111, 'move_distance': 18, 'position': (-56, -91), 'color': 'red', 'size': 23, 'shape': 'triangle'}}, {'Shape3': {'turn_angle': -130, 'move_distance': 32, 'position': (159, 199), 'color': 'red', 'size': 90, 'shape': 'square'}}, {'Shape4': {'turn_angle': 19, 'move_distance': 27, 'position': (-22, -90), 'color': 'green', 'size': 87, 'shape': 'circle'}}, {'Shape5': {'turn_angle': 148, 'move_distance': 45, 'position': (90, 19), 'color': 'blue', 'size': 73, 'shape': 'square'}}, {'Shape6': {'turn_angle': 127, 'move_distance': 49, 'position': (-23, -185), 'color': 'red', 'size': 21, 'shape': 'circle'}}, {'Shape7': {'turn_angle': 131, 'move_distance': 13, 'position': (189, -151), 'color': 'orange', 'size': 93, 'shape': 'star'}}, {'Shape8': {'turn_angle': 125, 'move_distance': 40, 'position': (-77, -4), 'color': 'orange', 'size': 91, 'shape': 'circle'}}, {'Shape9': {'turn_angle': -36, 'move_distance': 18, 'position': (-117, 16), 'color': 'blue', 'size': 92, 'shape': 'circle'}}, {'Shape10': {'turn_angle': -107, 'move_distance': 41, 'position': (0, -174), 'color': 'blue', 'size': 76, 'shape': 'square'}}, {'Shape11': {'turn_angle': -17, 'move_distance': 18, 'position': (-52, 15), 'color': 'pink', 'size': 17, 'shape': 'triangle'}}, {'Shape12': {'turn_angle': -54, 'move_distance': 24, 'position': (179, -1), 'color': 'red', 'size': 71, 'shape': 'square'}}, {'Shape13': {'turn_angle': -158, 'move_distance': 32, 'position': (-38, 7), 'color': 'pink', 'size': 63, 'shape': 'square'}}, {'Shape14': {'turn_angle': 85, 'move_distance': 14, 'position': (170, 189), 'color': 'blue', 'size': 92, 'shape': 'star'}}, {'Shape15': {'turn_angle': 60, 'move_distance': 44, 'position': (157, -1), 'color': 'orange', 'size': 94, 'shape': 'star'}}, {'Shape16': {'turn_angle': -70, 'move_distance': 26, 'position': (63, -130), 'color': 'blue', 'size': 42, 'shape': 'circle'}}, {'Shape17': {'turn_angle': 161, 'move_distance': 28, 'position': (156, 128), 'color': 'purple', 'size': 51, 'shape': 'square'}}, {'Shape18': {'turn_angle': 53, 'move_distance': 12, 'position': (102, -93), 'color': 'pink', 'size': 48, 'shape': 'star'}}, {'Shape19': {'turn_angle': 165, 'move_distance': 38, 'position': (-106, -141), 'color': 'blue', 'size': 97, 'shape': 'square'}}, {'Shape20': {'turn_angle': 164, 'move_distance': 24, 'position': (-79, -34), 'color': 'pink', 'size': 28, 'shape': 'triangle'}}, {'Shape21': {'turn_angle': 85, 'move_distance': 47, 'position': (-111, 136), 'color': 'pink', 'size': 89, 'shape': 'circle'}}, {'Shape22': {'turn_angle': 155, 'move_distance': 39, 'position': (86, -176), 'color': 'pink', 'size': 53, 'shape': 'triangle'}}, {'Shape23': {'turn_angle': 162, 'move_distance': 46, 'position': (42, -91), 'color': 'pink', 'size': 81, 'shape': 'star'}}, {'Shape24': {'turn_angle': 50, 'move_distance': 24, 'position': (-64, -180), 'color': 'pink', 'size': 80, 'shape': 'star'}}, {'Shape25': {'turn_angle': -170, 'move_distance': 38, 'position': (165, -146), 'color': 'green', 'size': 22, 'shape': 'triangle'}}, {'Shape26': {'turn_angle': 92, 'move_distance': 22, 'position': (-160, -159), 'color': 'blue', 'size': 97, 'shape': 'star'}}, {'Shape27': {'turn_angle': 33, 'move_distance': 16, 'position': (-167, 186), 'color': 'blue', 'size': 60, 'shape': 'square'}}, {'Shape28': {'turn_angle': 74, 'move_distance': 37, 'position': (-138, 55), 'color': 'green', 'size': 14, 'shape': 'circle'}}, {'Shape29': {'turn_angle': 108, 'move_distance': 33, 'position': (151, -97), 'color': 'red', 'size': 70, 'shape': 'circle'}}, {'Shape30': {'turn_angle': 79, 'move_distance': 13, 'position': (14, -196), 'color': 'purple', 'size': 31, 'shape': 'circle'}}]\n"
          ]
        }
      ]
    },
    {
      "cell_type": "code",
      "source": [
        "import json\n",
        "with open('Drawing_5.json', 'w') as json_obj:\n",
        "  json.dump(records_list, json_obj, indent=2)\n",
        "print(\"file written\")"
      ],
      "metadata": {
        "colab": {
          "base_uri": "https://localhost:8080/"
        },
        "id": "rrNbUuwhip_T",
        "outputId": "58774a30-863e-40ac-d863-f4abcb9c010b"
      },
      "execution_count": null,
      "outputs": [
        {
          "output_type": "stream",
          "name": "stdout",
          "text": [
            "file written\n"
          ]
        }
      ]
    },
    {
      "cell_type": "code",
      "source": [
        "#saving a drawing\n",
        "#first capture the data written to the screen\n",
        "screen_obj = Screen()\n",
        "#print(screen_obj)\n",
        "screen_obj.saveSVG('Elmer_drawing_5.svg', False) #False means don't show turtles"
      ],
      "metadata": {
        "id": "trCjVQUxipHG"
      },
      "execution_count": null,
      "outputs": []
    },
    {
      "cell_type": "markdown",
      "source": [
        "**Drawing 6**"
      ],
      "metadata": {
        "id": "IHNGnss2i0c9"
      }
    },
    {
      "cell_type": "code",
      "source": [
        "pencil.clear()\n",
        "# test the function by calling it 30 times and storing the records into a list of dictionaries\n",
        "records_list = []\n",
        "for i in range(30):\n",
        "    record_name = f\"Shape{i+1}\"\n",
        "    record_dict = draw3()\n",
        "    records_list.append({record_name: record_dict})\n",
        "\n",
        "# print out the list of records\n",
        "print(f'Drawing 6: {records_list}')"
      ],
      "metadata": {
        "colab": {
          "base_uri": "https://localhost:8080/",
          "height": 856
        },
        "id": "SeD5eM6Wiz5B",
        "outputId": "6d5676a9-f803-457a-eab6-0c0d72adc8a6"
      },
      "execution_count": null,
      "outputs": [
        {
          "output_type": "display_data",
          "data": {
            "text/plain": [
              "<IPython.core.display.HTML object>"
            ],
            "text/html": [
              "\n",
              "      <svg width=\"800\" height=\"800\">  \n",
              "        <rect width=\"100%\" height=\"100%\" style=\"fill:white;stroke:;stroke-width:1\"/>\n",
              "        \n",
              "        \n",
              "        <path fill-rule=\"evenodd\" fill-opacity=\"1\" d=\"M 457.0 330.0  A 91 91 0 0 0 276.357 307.82  A 91 91 0 0 0 457.0 330.0 \" stroke-linecap=\"round\" style=\"stroke:yellow;stroke-width:2\" fill=\"yellow\" /><path fill-rule=\"evenodd\" fill-opacity=\"1\" d=\"M 372.0 489.0  L 439.932 533.116  L 359.043 537.355  L 421.992 486.38  L 401.028 564.62  L 372.0 489.0 \" stroke-linecap=\"round\" style=\"stroke:green;stroke-width:2\" fill=\"green\" /><path fill-rule=\"evenodd\" fill-opacity=\"1\" d=\"M 576.0 554.0  A 96 96 0 0 0 393.397 613.331  A 96 96 0 0 0 576.0 554.0 \" stroke-linecap=\"round\" style=\"stroke:orange;stroke-width:2\" fill=\"orange\" /><path fill-rule=\"evenodd\" fill-opacity=\"1\" d=\"M 421.0 210.0  A 90 90 0 0 0 539.091 74.152  A 90 90 0 0 0 421.0 210.0 \" stroke-linecap=\"round\" style=\"stroke:orange;stroke-width:2\" fill=\"orange\" /><line x1=\"207.0\" y1=\"266.0\" x2=\"227.808\" y2=\"284.736\" stroke-linecap=\"round\" style=\"stroke:purple;stroke-width:2\" /><line x1=\"227.808\" y1=\"284.736\" x2=\"209.072\" y2=\"305.544\" stroke-linecap=\"round\" style=\"stroke:purple;stroke-width:2\" /><line x1=\"209.072\" y1=\"305.544\" x2=\"188.264\" y2=\"286.808\" stroke-linecap=\"round\" style=\"stroke:purple;stroke-width:2\" /><line x1=\"188.264\" y1=\"286.808\" x2=\"207.0\" y2=\"266.0\" stroke-linecap=\"round\" style=\"stroke:purple;stroke-width:2\" /><path fill-rule=\"evenodd\" fill-opacity=\"1\" d=\"M 301.0 426.0  A 39 39 0 0 0 276.897 500.182  A 39 39 0 0 0 301.0 426.0 \" stroke-linecap=\"round\" style=\"stroke:red;stroke-width:2\" fill=\"red\" /><path fill-rule=\"evenodd\" fill-opacity=\"1\" d=\"M 231.0 489.0  A 83 83 0 0 0 228.103 323.025  A 83 83 0 0 0 231.0 489.0 \" stroke-linecap=\"round\" style=\"stroke:purple;stroke-width:2\" fill=\"purple\" /><path fill-rule=\"evenodd\" fill-opacity=\"1\" d=\"M 410.0 256.0  A 100 100 0 0 0 521.839 421.808  A 100 100 0 0 0 410.0 256.0 \" stroke-linecap=\"round\" style=\"stroke:red;stroke-width:2\" fill=\"red\" /><line x1=\"250.0\" y1=\"583.0\" x2=\"185.048\" y2=\"545.5\" stroke-linecap=\"round\" style=\"stroke:pink;stroke-width:2\" /><line x1=\"185.048\" y1=\"545.5\" x2=\"250.0\" y2=\"508.0\" stroke-linecap=\"round\" style=\"stroke:pink;stroke-width:2\" /><line x1=\"250.0\" y1=\"508.0\" x2=\"250.0\" y2=\"583.0\" stroke-linecap=\"round\" style=\"stroke:pink;stroke-width:2\" /><path fill-rule=\"evenodd\" fill-opacity=\"1\" d=\"M 317.0 584.0  A 34 34 0 0 0 277.031 639.013  A 34 34 0 0 0 317.0 584.0 \" stroke-linecap=\"round\" style=\"stroke:purple;stroke-width:2\" fill=\"purple\" /><path fill-rule=\"evenodd\" fill-opacity=\"1\" d=\"M 557.0 204.0  L 605.269 158.988  L 592.676 223.775  L 564.783 163.959  L 622.508 195.956  L 557.0 203.999 \" stroke-linecap=\"round\" style=\"stroke:green;stroke-width:2\" fill=\"green\" /><line x1=\"399.0\" y1=\"341.0\" x2=\"458.397\" y2=\"281.603\" stroke-linecap=\"round\" style=\"stroke:green;stroke-width:2\" /><line x1=\"458.397\" y1=\"281.603\" x2=\"517.794\" y2=\"341.0\" stroke-linecap=\"round\" style=\"stroke:green;stroke-width:2\" /><line x1=\"517.794\" y1=\"341.0\" x2=\"458.397\" y2=\"400.397\" stroke-linecap=\"round\" style=\"stroke:green;stroke-width:2\" /><line x1=\"458.397\" y1=\"400.397\" x2=\"399.0\" y2=\"341.0\" stroke-linecap=\"round\" style=\"stroke:green;stroke-width:2\" /><path fill-rule=\"evenodd\" fill-opacity=\"1\" d=\"M 358.0 367.0  L 367.271 382.429  L 350.702 375.396  L 368.241 371.347  L 356.432 384.932  L 358.001 367.0 \" stroke-linecap=\"round\" style=\"stroke:yellow;stroke-width:2\" fill=\"yellow\" /><line x1=\"595.0\" y1=\"234.0\" x2=\"656.915\" y2=\"230.755\" stroke-linecap=\"round\" style=\"stroke:blue;stroke-width:2\" /><line x1=\"656.915\" y1=\"230.755\" x2=\"660.16\" y2=\"292.67\" stroke-linecap=\"round\" style=\"stroke:blue;stroke-width:2\" /><line x1=\"660.16\" y1=\"292.67\" x2=\"598.245\" y2=\"295.915\" stroke-linecap=\"round\" style=\"stroke:blue;stroke-width:2\" /><line x1=\"598.245\" y1=\"295.915\" x2=\"595.0\" y2=\"234.0\" stroke-linecap=\"round\" style=\"stroke:blue;stroke-width:2\" /><path fill-rule=\"evenodd\" fill-opacity=\"1\" d=\"M 251.0 570.0  L 278.406 557.798  L 263.406 583.779  L 260.27 553.943  L 280.344 576.237  L 251.0 570.0 \" stroke-linecap=\"round\" style=\"stroke:pink;stroke-width:2\" fill=\"pink\" /><path fill-rule=\"evenodd\" fill-opacity=\"1\" d=\"M 477.0 334.0  A 53 53 0 0 0 469.606 439.742  A 53 53 0 0 0 477.0 334.0 \" stroke-linecap=\"round\" style=\"stroke:blue;stroke-width:2\" fill=\"blue\" /><line x1=\"382.0\" y1=\"201.0\" x2=\"355.188\" y2=\"223.498\" stroke-linecap=\"round\" style=\"stroke:pink;stroke-width:2\" /><line x1=\"355.188\" y1=\"223.498\" x2=\"332.69\" y2=\"196.686\" stroke-linecap=\"round\" style=\"stroke:pink;stroke-width:2\" /><line x1=\"332.69\" y1=\"196.686\" x2=\"359.502\" y2=\"174.188\" stroke-linecap=\"round\" style=\"stroke:pink;stroke-width:2\" /><line x1=\"359.502\" y1=\"174.188\" x2=\"382.0\" y2=\"201.0\" stroke-linecap=\"round\" style=\"stroke:pink;stroke-width:2\" /><path fill-rule=\"evenodd\" fill-opacity=\"1\" d=\"M 511.0 522.0  L 461.147 494.366  L 517.722 487.419  L 476.035 526.293  L 486.911 470.34  L 511.0 522.0 \" stroke-linecap=\"round\" style=\"stroke:pink;stroke-width:2\" fill=\"pink\" /><path fill-rule=\"evenodd\" fill-opacity=\"1\" d=\"M 389.0 555.0  L 319.571 585.912  L 357.571 520.094  L 365.515 595.678  L 314.661 539.199  L 389.0 555.0 \" stroke-linecap=\"round\" style=\"stroke:red;stroke-width:2\" fill=\"red\" /><line x1=\"258.0\" y1=\"448.0\" x2=\"243.583\" y2=\"438.991\" stroke-linecap=\"round\" style=\"stroke:blue;stroke-width:2\" /><line x1=\"243.583\" y1=\"438.991\" x2=\"252.592\" y2=\"424.574\" stroke-linecap=\"round\" style=\"stroke:blue;stroke-width:2\" /><line x1=\"252.592\" y1=\"424.574\" x2=\"267.009\" y2=\"433.583\" stroke-linecap=\"round\" style=\"stroke:blue;stroke-width:2\" /><line x1=\"267.009\" y1=\"433.583\" x2=\"258.0\" y2=\"448.0\" stroke-linecap=\"round\" style=\"stroke:blue;stroke-width:2\" /><line x1=\"215.0\" y1=\"590.0\" x2=\"241.397\" y2=\"562.665\" stroke-linecap=\"round\" style=\"stroke:blue;stroke-width:2\" /><line x1=\"241.397\" y1=\"562.665\" x2=\"251.871\" y2=\"599.193\" stroke-linecap=\"round\" style=\"stroke:blue;stroke-width:2\" /><line x1=\"251.871\" y1=\"599.193\" x2=\"215.0\" y2=\"590.0\" stroke-linecap=\"round\" style=\"stroke:blue;stroke-width:2\" /><line x1=\"213.0\" y1=\"414.0\" x2=\"191.429\" y2=\"403.479\" stroke-linecap=\"round\" style=\"stroke:yellow;stroke-width:2\" /><line x1=\"191.429\" y1=\"403.479\" x2=\"201.95\" y2=\"381.908\" stroke-linecap=\"round\" style=\"stroke:yellow;stroke-width:2\" /><line x1=\"201.95\" y1=\"381.908\" x2=\"223.521\" y2=\"392.429\" stroke-linecap=\"round\" style=\"stroke:yellow;stroke-width:2\" /><line x1=\"223.521\" y1=\"392.429\" x2=\"213.0\" y2=\"414.0\" stroke-linecap=\"round\" style=\"stroke:yellow;stroke-width:2\" /><path fill-rule=\"evenodd\" fill-opacity=\"1\" d=\"M 524.0 273.0  L 488.977 331.287  L 483.05 263.546  L 527.662 314.866  L 461.405 299.569  L 523.999 272.999 \" stroke-linecap=\"round\" style=\"stroke:yellow;stroke-width:2\" fill=\"yellow\" /><path fill-rule=\"evenodd\" fill-opacity=\"1\" d=\"M 344.0 302.0  L 333.351 294.544  L 346.349 294.317  L 335.967 302.141  L 339.768 289.709  L 344.0 302.001 \" stroke-linecap=\"round\" style=\"stroke:purple;stroke-width:2\" fill=\"purple\" /><line x1=\"596.0\" y1=\"390.0\" x2=\"561.18\" y2=\"413.486\" stroke-linecap=\"round\" style=\"stroke:orange;stroke-width:2\" /><line x1=\"561.18\" y1=\"413.486\" x2=\"558.25\" y2=\"371.588\" stroke-linecap=\"round\" style=\"stroke:orange;stroke-width:2\" /><line x1=\"558.25\" y1=\"371.588\" x2=\"595.999\" y2=\"390.0\" stroke-linecap=\"round\" style=\"stroke:orange;stroke-width:2\" /><path fill-rule=\"evenodd\" fill-opacity=\"1\" d=\"M 235.0 299.0  A 89 89 0 0 0 412.892 292.788  A 89 89 0 0 0 235.0 299.0 \" stroke-linecap=\"round\" style=\"stroke:green;stroke-width:2\" fill=\"green\" /><line x1=\"390.0\" y1=\"500.0\" x2=\"324.231\" y2=\"487.216\" stroke-linecap=\"round\" style=\"stroke:yellow;stroke-width:2\" /><line x1=\"324.231\" y1=\"487.216\" x2=\"337.015\" y2=\"421.447\" stroke-linecap=\"round\" style=\"stroke:yellow;stroke-width:2\" /><line x1=\"337.015\" y1=\"421.447\" x2=\"402.784\" y2=\"434.231\" stroke-linecap=\"round\" style=\"stroke:yellow;stroke-width:2\" /><line x1=\"402.784\" y1=\"434.231\" x2=\"390.0\" y2=\"500.0\" stroke-linecap=\"round\" style=\"stroke:yellow;stroke-width:2\" /><line x1=\"354.0\" y1=\"200.0\" x2=\"340.319\" y2=\"162.412\" stroke-linecap=\"round\" style=\"stroke:green;stroke-width:2\" /><line x1=\"340.319\" y1=\"162.412\" x2=\"379.711\" y2=\"169.358\" stroke-linecap=\"round\" style=\"stroke:green;stroke-width:2\" /><line x1=\"379.711\" y1=\"169.358\" x2=\"353.999\" y2=\"200.0\" stroke-linecap=\"round\" style=\"stroke:green;stroke-width:2\" /><line x1=\"402.0\" y1=\"223.0\" x2=\"361.152\" y2=\"160.1\" stroke-linecap=\"round\" style=\"stroke:green;stroke-width:2\" /><line x1=\"361.152\" y1=\"160.1\" x2=\"424.052\" y2=\"119.252\" stroke-linecap=\"round\" style=\"stroke:green;stroke-width:2\" /><line x1=\"424.052\" y1=\"119.252\" x2=\"464.9\" y2=\"182.152\" stroke-linecap=\"round\" style=\"stroke:green;stroke-width:2\" /><line x1=\"464.9\" y1=\"182.152\" x2=\"402.0\" y2=\"223.0\" stroke-linecap=\"round\" style=\"stroke:green;stroke-width:2\" /><path fill-rule=\"evenodd\" fill-opacity=\"1\" d=\"M 206.0 339.0  A 83 83 0 0 0 66.781 248.59  A 83 83 0 0 0 206.0 339.0 \" stroke-linecap=\"round\" style=\"stroke:orange;stroke-width:2\" fill=\"orange\" />\n",
              "        \n",
              "        \n",
              "        <g id=\"classic\" visibility=\"visible\" transform=\"rotate(213.0,206.0,339.0) translate(206.0, 339.0)\">\n",
              "<polygon points=\"-5,-4.5 0,-2.5 5,-4.5 0,4.5\" transform=\"skewX(0) scale(1,1)\" style=\"stroke:orange;fill:orange;stroke-width:1\" />\n",
              "</g>\n",
              "      </svg>\n",
              "    "
            ]
          },
          "metadata": {}
        },
        {
          "output_type": "stream",
          "name": "stdout",
          "text": [
            "Drawing 6: [{'Shape1': {'turn_angle': -110, 'move_distance': 19, 'position': (57, 70), 'color': 'yellow', 'size': 91, 'shape': 'circle'}}, {'Shape2': {'turn_angle': 116, 'move_distance': 40, 'position': (-28, -89), 'color': 'green', 'size': 81, 'shape': 'star'}}, {'Shape3': {'turn_angle': -141, 'move_distance': 46, 'position': (176, -154), 'color': 'orange', 'size': 96, 'shape': 'circle'}}, {'Shape4': {'turn_angle': 149, 'move_distance': 35, 'position': (21, 190), 'color': 'orange', 'size': 90, 'shape': 'circle'}}, {'Shape5': {'turn_angle': 1, 'move_distance': 43, 'position': (-193, 134), 'color': 'purple', 'size': 28, 'shape': 'square'}}, {'Shape6': {'turn_angle': 156, 'move_distance': 15, 'position': (-99, -26), 'color': 'red', 'size': 39, 'shape': 'circle'}}, {'Shape7': {'turn_angle': 161, 'move_distance': 39, 'position': (-169, -89), 'color': 'purple', 'size': 83, 'shape': 'circle'}}, {'Shape8': {'turn_angle': 147, 'move_distance': 35, 'position': (10, 144), 'color': 'red', 'size': 100, 'shape': 'circle'}}, {'Shape9': {'turn_angle': 64, 'move_distance': 22, 'position': (-150, -183), 'color': 'pink', 'size': 75, 'shape': 'triangle'}}, {'Shape10': {'turn_angle': 6, 'move_distance': 15, 'position': (-83, -184), 'color': 'purple', 'size': 34, 'shape': 'circle'}}, {'Shape11': {'turn_angle': 101, 'move_distance': 15, 'position': (157, 196), 'color': 'green', 'size': 66, 'shape': 'star'}}, {'Shape12': {'turn_angle': -2, 'move_distance': 31, 'position': (-1, 59), 'color': 'green', 'size': 84, 'shape': 'square'}}, {'Shape13': {'turn_angle': 104, 'move_distance': 37, 'position': (-42, 33), 'color': 'yellow', 'size': 18, 'shape': 'star'}}, {'Shape14': {'turn_angle': -62, 'move_distance': 21, 'position': (195, 166), 'color': 'blue', 'size': 62, 'shape': 'square'}}, {'Shape15': {'turn_angle': -21, 'move_distance': 16, 'position': (-149, -170), 'color': 'pink', 'size': 30, 'shape': 'star'}}, {'Shape16': {'turn_angle': -152, 'move_distance': 40, 'position': (77, 66), 'color': 'blue', 'size': 53, 'shape': 'circle'}}, {'Shape17': {'turn_angle': -44, 'move_distance': 26, 'position': (-18, 199), 'color': 'pink', 'size': 35, 'shape': 'square'}}, {'Shape18': {'turn_angle': 69, 'move_distance': 28, 'position': (111, -122), 'color': 'pink', 'size': 57, 'shape': 'star'}}, {'Shape19': {'turn_angle': -53, 'move_distance': 26, 'position': (-11, -155), 'color': 'red', 'size': 76, 'shape': 'star'}}, {'Shape20': {'turn_angle': 56, 'move_distance': 34, 'position': (-142, -48), 'color': 'blue', 'size': 17, 'shape': 'square'}}, {'Shape21': {'turn_angle': 102, 'move_distance': 23, 'position': (-185, -190), 'color': 'blue', 'size': 38, 'shape': 'triangle'}}, {'Shape22': {'turn_angle': -108, 'move_distance': 13, 'position': (-187, -14), 'color': 'yellow', 'size': 24, 'shape': 'square'}}, {'Shape23': {'turn_angle': -85, 'move_distance': 37, 'position': (124, 127), 'color': 'yellow', 'size': 68, 'shape': 'star'}}, {'Shape24': {'turn_angle': 94, 'move_distance': 15, 'position': (-56, 98), 'color': 'purple', 'size': 13, 'shape': 'star'}}, {'Shape25': {'turn_angle': -69, 'move_distance': 38, 'position': (196, 10), 'color': 'orange', 'size': 42, 'shape': 'triangle'}}, {'Shape26': {'turn_angle': -58, 'move_distance': 18, 'position': (-165, 101), 'color': 'green', 'size': 89, 'shape': 'circle'}}, {'Shape27': {'turn_angle': 103, 'move_distance': 34, 'position': (-10, -100), 'color': 'yellow', 'size': 67, 'shape': 'square'}}, {'Shape28': {'turn_angle': 59, 'move_distance': 19, 'position': (-46, 200), 'color': 'green', 'size': 40, 'shape': 'triangle'}}, {'Shape29': {'turn_angle': -13, 'move_distance': 28, 'position': (2, 177), 'color': 'green', 'size': 75, 'shape': 'square'}}, {'Shape30': {'turn_angle': 66, 'move_distance': 15, 'position': (-194, 61), 'color': 'orange', 'size': 83, 'shape': 'circle'}}]\n"
          ]
        }
      ]
    },
    {
      "cell_type": "code",
      "source": [
        "import json\n",
        "with open('Drawing_6.json', 'w') as json_obj:\n",
        "  json.dump(records_list, json_obj, indent=2)\n",
        "print(\"file written\")\n",
        "\n",
        "#saving a drawing\n",
        "screen_obj = Screen()\n",
        "screen_obj.saveSVG('Elmer_drawing_6.svg', False)"
      ],
      "metadata": {
        "colab": {
          "base_uri": "https://localhost:8080/"
        },
        "id": "mhT3qSIlj223",
        "outputId": "290c98dd-da83-4a70-a92b-4dfb8f92c128"
      },
      "execution_count": null,
      "outputs": [
        {
          "output_type": "stream",
          "name": "stdout",
          "text": [
            "file written\n"
          ]
        }
      ]
    },
    {
      "cell_type": "markdown",
      "source": [],
      "metadata": {
        "id": "rH7D42trkDHu"
      }
    },
    {
      "cell_type": "code",
      "source": [
        "pencil.clear()\n",
        "# test the function by calling it 10 times and storing the records into a list of dictionaries\n",
        "records_list = []\n",
        "for i in range(30):\n",
        "    record_name = f\"Shape{i+1}\"\n",
        "    record_dict = draw3()\n",
        "    records_list.append({record_name: record_dict})\n",
        "\n",
        "# print out the list of records\n",
        "print(f'Drawing 7: {records_list}')\n",
        "\n",
        "import json\n",
        "with open('Drawing_7.json', 'w') as json_obj:\n",
        "  json.dump(records_list, json_obj, indent=2)\n",
        "print(\"file written\")\n",
        "\n",
        "#saving a drawing\n",
        "screen_obj = Screen()\n",
        "screen_obj.saveSVG('Elmer_drawing_7.svg', False)"
      ],
      "metadata": {
        "colab": {
          "base_uri": "https://localhost:8080/",
          "height": 872
        },
        "id": "HkzdmhUakDiy",
        "outputId": "a9363287-ec55-4c37-e4ad-4de28755f53c"
      },
      "execution_count": null,
      "outputs": [
        {
          "output_type": "display_data",
          "data": {
            "text/plain": [
              "<IPython.core.display.HTML object>"
            ],
            "text/html": [
              "\n",
              "      <svg width=\"800\" height=\"800\">  \n",
              "        <rect width=\"100%\" height=\"100%\" style=\"fill:white;stroke:;stroke-width:1\"/>\n",
              "        \n",
              "        \n",
              "        <line x1=\"307.0\" y1=\"540.0\" x2=\"394.899\" y2=\"563.553\" stroke-linecap=\"round\" style=\"stroke:pink;stroke-width:2\" /><line x1=\"394.899\" y1=\"563.553\" x2=\"330.552\" y2=\"627.9\" stroke-linecap=\"round\" style=\"stroke:pink;stroke-width:2\" /><line x1=\"330.552\" y1=\"627.9\" x2=\"306.999\" y2=\"540.001\" stroke-linecap=\"round\" style=\"stroke:pink;stroke-width:2\" /><path fill-rule=\"evenodd\" fill-opacity=\"1\" d=\"M 390.0 506.0  L 409.105 553.286  L 365.855 526.26  L 416.731 522.702  L 377.663 555.484  L 390.001 505.999 \" stroke-linecap=\"round\" style=\"stroke:pink;stroke-width:2\" fill=\"pink\" /><path fill-rule=\"evenodd\" fill-opacity=\"1\" d=\"M 278.0 584.0  L 268.42 613.483  L 258.84 584.0  L 283.92 602.221  L 252.92 602.221  L 278.0 584.0 \" stroke-linecap=\"round\" style=\"stroke:red;stroke-width:2\" fill=\"red\" /><path fill-rule=\"evenodd\" fill-opacity=\"1\" d=\"M 525.0 408.0  L 509.289 353.208  L 554.206 388.301  L 497.241 386.312  L 544.496 354.438  L 525.001 408.0 \" stroke-linecap=\"round\" style=\"stroke:blue;stroke-width:2\" fill=\"blue\" /><line x1=\"484.0\" y1=\"273.0\" x2=\"554.343\" y2=\"241.681\" stroke-linecap=\"round\" style=\"stroke:purple;stroke-width:2\" /><line x1=\"554.343\" y1=\"241.681\" x2=\"585.662\" y2=\"312.024\" stroke-linecap=\"round\" style=\"stroke:purple;stroke-width:2\" /><line x1=\"585.662\" y1=\"312.024\" x2=\"515.319\" y2=\"343.343\" stroke-linecap=\"round\" style=\"stroke:purple;stroke-width:2\" /><line x1=\"515.319\" y1=\"343.343\" x2=\"484.0\" y2=\"273.0\" stroke-linecap=\"round\" style=\"stroke:purple;stroke-width:2\" /><path fill-rule=\"evenodd\" fill-opacity=\"1\" d=\"M 568.0 549.0  A 60 60 0 0 0 469.702 480.171  A 60 60 0 0 0 568.0 549.0 \" stroke-linecap=\"round\" style=\"stroke:purple;stroke-width:2\" fill=\"purple\" /><path fill-rule=\"evenodd\" fill-opacity=\"1\" d=\"M 279.0 486.0  L 257.072 557.723  L 232.654 486.809  L 294.09 529.827  L 219.101 531.136  L 278.999 486.0 \" stroke-linecap=\"round\" style=\"stroke:purple;stroke-width:2\" fill=\"purple\" /><line x1=\"434.0\" y1=\"333.0\" x2=\"434.0\" y2=\"245.0\" stroke-linecap=\"round\" style=\"stroke:yellow;stroke-width:2\" /><line x1=\"434.0\" y1=\"245.0\" x2=\"522.0\" y2=\"245.0\" stroke-linecap=\"round\" style=\"stroke:yellow;stroke-width:2\" /><line x1=\"522.0\" y1=\"245.0\" x2=\"522.0\" y2=\"333.0\" stroke-linecap=\"round\" style=\"stroke:yellow;stroke-width:2\" /><line x1=\"522.0\" y1=\"333.0\" x2=\"434.0\" y2=\"333.0\" stroke-linecap=\"round\" style=\"stroke:yellow;stroke-width:2\" /><path fill-rule=\"evenodd\" fill-opacity=\"1\" d=\"M 246.0 396.0  L 299.919 312.972  L 305.1 411.836  L 242.797 334.899  L 338.424 360.522  L 246.0 396.0 \" stroke-linecap=\"round\" style=\"stroke:pink;stroke-width:2\" fill=\"pink\" /><path fill-rule=\"evenodd\" fill-opacity=\"1\" d=\"M 280.0 418.0  A 53 53 0 0 0 385.419 429.08  A 53 53 0 0 0 280.0 418.0 \" stroke-linecap=\"round\" style=\"stroke:red;stroke-width:2\" fill=\"red\" /><line x1=\"309.0\" y1=\"352.0\" x2=\"350.535\" y2=\"363.129\" stroke-linecap=\"round\" style=\"stroke:pink;stroke-width:2\" /><line x1=\"350.535\" y1=\"363.129\" x2=\"339.406\" y2=\"404.664\" stroke-linecap=\"round\" style=\"stroke:pink;stroke-width:2\" /><line x1=\"339.406\" y1=\"404.664\" x2=\"297.871\" y2=\"393.535\" stroke-linecap=\"round\" style=\"stroke:pink;stroke-width:2\" /><line x1=\"297.871\" y1=\"393.535\" x2=\"309.0\" y2=\"352.0\" stroke-linecap=\"round\" style=\"stroke:pink;stroke-width:2\" /><path fill-rule=\"evenodd\" fill-opacity=\"1\" d=\"M 420.0 308.0  A 70 70 0 0 0 555.841 341.869  A 70 70 0 0 0 420.0 308.0 \" stroke-linecap=\"round\" style=\"stroke:purple;stroke-width:2\" fill=\"purple\" /><path fill-rule=\"evenodd\" fill-opacity=\"1\" d=\"M 208.0 426.0  L 288.902 484.779  L 188.902 484.779  L 269.804 426.0  L 238.902 521.106  L 208.0 426.0 \" stroke-linecap=\"round\" style=\"stroke:purple;stroke-width:2\" fill=\"purple\" /><line x1=\"473.0\" y1=\"230.0\" x2=\"439.129\" y2=\"227.037\" stroke-linecap=\"round\" style=\"stroke:pink;stroke-width:2\" /><line x1=\"439.129\" y1=\"227.037\" x2=\"458.631\" y2=\"199.186\" stroke-linecap=\"round\" style=\"stroke:pink;stroke-width:2\" /><line x1=\"458.631\" y1=\"199.186\" x2=\"473.0\" y2=\"230.0\" stroke-linecap=\"round\" style=\"stroke:pink;stroke-width:2\" /><line x1=\"545.0\" y1=\"277.0\" x2=\"536.65\" y2=\"336.416\" stroke-linecap=\"round\" style=\"stroke:yellow;stroke-width:2\" /><line x1=\"536.65\" y1=\"336.416\" x2=\"477.234\" y2=\"328.066\" stroke-linecap=\"round\" style=\"stroke:yellow;stroke-width:2\" /><line x1=\"477.234\" y1=\"328.066\" x2=\"485.584\" y2=\"268.65\" stroke-linecap=\"round\" style=\"stroke:yellow;stroke-width:2\" /><line x1=\"485.584\" y1=\"268.65\" x2=\"545.0\" y2=\"277.0\" stroke-linecap=\"round\" style=\"stroke:yellow;stroke-width:2\" /><line x1=\"233.0\" y1=\"556.0\" x2=\"233.0\" y2=\"603.0\" stroke-linecap=\"round\" style=\"stroke:orange;stroke-width:2\" /><line x1=\"233.0\" y1=\"603.0\" x2=\"186.0\" y2=\"603.0\" stroke-linecap=\"round\" style=\"stroke:orange;stroke-width:2\" /><line x1=\"186.0\" y1=\"603.0\" x2=\"186.0\" y2=\"556.0\" stroke-linecap=\"round\" style=\"stroke:orange;stroke-width:2\" /><line x1=\"186.0\" y1=\"556.0\" x2=\"233.0\" y2=\"556.0\" stroke-linecap=\"round\" style=\"stroke:orange;stroke-width:2\" /><line x1=\"359.0\" y1=\"574.0\" x2=\"368.969\" y2=\"578.649\" stroke-linecap=\"round\" style=\"stroke:orange;stroke-width:2\" /><line x1=\"368.969\" y1=\"578.649\" x2=\"364.32\" y2=\"588.618\" stroke-linecap=\"round\" style=\"stroke:orange;stroke-width:2\" /><line x1=\"364.32\" y1=\"588.618\" x2=\"354.351\" y2=\"583.969\" stroke-linecap=\"round\" style=\"stroke:orange;stroke-width:2\" /><line x1=\"354.351\" y1=\"583.969\" x2=\"359.0\" y2=\"574.0\" stroke-linecap=\"round\" style=\"stroke:orange;stroke-width:2\" /><path fill-rule=\"evenodd\" fill-opacity=\"1\" d=\"M 457.0 575.0  A 67 67 0 0 0 582.1 623.021  A 67 67 0 0 0 457.0 575.0 \" stroke-linecap=\"round\" style=\"stroke:green;stroke-width:2\" fill=\"green\" /><line x1=\"467.0\" y1=\"320.0\" x2=\"384.096\" y2=\"264.081\" stroke-linecap=\"round\" style=\"stroke:purple;stroke-width:2\" /><line x1=\"384.096\" y1=\"264.081\" x2=\"440.015\" y2=\"181.177\" stroke-linecap=\"round\" style=\"stroke:purple;stroke-width:2\" /><line x1=\"440.015\" y1=\"181.177\" x2=\"522.919\" y2=\"237.096\" stroke-linecap=\"round\" style=\"stroke:purple;stroke-width:2\" /><line x1=\"522.919\" y1=\"237.096\" x2=\"467.0\" y2=\"320.0\" stroke-linecap=\"round\" style=\"stroke:purple;stroke-width:2\" /><line x1=\"533.0\" y1=\"547.0\" x2=\"576.99\" y2=\"533.551\" stroke-linecap=\"round\" style=\"stroke:green;stroke-width:2\" /><line x1=\"576.99\" y1=\"533.551\" x2=\"566.642\" y2=\"578.372\" stroke-linecap=\"round\" style=\"stroke:green;stroke-width:2\" /><line x1=\"566.642\" y1=\"578.372\" x2=\"533.0\" y2=\"547.0\" stroke-linecap=\"round\" style=\"stroke:green;stroke-width:2\" /><line x1=\"423.0\" y1=\"576.0\" x2=\"440.365\" y2=\"674.481\" stroke-linecap=\"round\" style=\"stroke:purple;stroke-width:2\" /><line x1=\"440.365\" y1=\"674.481\" x2=\"341.884\" y2=\"691.846\" stroke-linecap=\"round\" style=\"stroke:purple;stroke-width:2\" /><line x1=\"341.884\" y1=\"691.846\" x2=\"324.519\" y2=\"593.365\" stroke-linecap=\"round\" style=\"stroke:purple;stroke-width:2\" /><line x1=\"324.519\" y1=\"593.365\" x2=\"423.0\" y2=\"576.0\" stroke-linecap=\"round\" style=\"stroke:purple;stroke-width:2\" /><line x1=\"387.0\" y1=\"449.0\" x2=\"382.674\" y2=\"435.685\" stroke-linecap=\"round\" style=\"stroke:red;stroke-width:2\" /><line x1=\"382.674\" y1=\"435.685\" x2=\"395.989\" y2=\"431.359\" stroke-linecap=\"round\" style=\"stroke:red;stroke-width:2\" /><line x1=\"395.989\" y1=\"431.359\" x2=\"400.315\" y2=\"444.674\" stroke-linecap=\"round\" style=\"stroke:red;stroke-width:2\" /><line x1=\"400.315\" y1=\"444.674\" x2=\"387.0\" y2=\"449.0\" stroke-linecap=\"round\" style=\"stroke:red;stroke-width:2\" /><path fill-rule=\"evenodd\" fill-opacity=\"1\" d=\"M 465.0 214.0  A 15 15 0 0 0 440.425 231.207  A 15 15 0 0 0 465.0 214.0 \" stroke-linecap=\"round\" style=\"stroke:blue;stroke-width:2\" fill=\"blue\" /><path fill-rule=\"evenodd\" fill-opacity=\"1\" d=\"M 218.0 283.0  A 91 91 0 0 0 127.0 125.383  A 91 91 0 0 0 218.0 283.0 \" stroke-linecap=\"round\" style=\"stroke:blue;stroke-width:2\" fill=\"blue\" /><path fill-rule=\"evenodd\" fill-opacity=\"1\" d=\"M 374.0 311.0  A 11 11 0 0 0 390.09 295.996  A 11 11 0 0 0 374.0 311.0 \" stroke-linecap=\"round\" style=\"stroke:orange;stroke-width:2\" fill=\"orange\" /><line x1=\"545.0\" y1=\"485.0\" x2=\"544.093\" y2=\"510.984\" stroke-linecap=\"round\" style=\"stroke:blue;stroke-width:2\" /><line x1=\"544.093\" y1=\"510.984\" x2=\"518.109\" y2=\"510.077\" stroke-linecap=\"round\" style=\"stroke:blue;stroke-width:2\" /><line x1=\"518.109\" y1=\"510.077\" x2=\"519.016\" y2=\"484.093\" stroke-linecap=\"round\" style=\"stroke:blue;stroke-width:2\" /><line x1=\"519.016\" y1=\"484.093\" x2=\"545.0\" y2=\"485.0\" stroke-linecap=\"round\" style=\"stroke:blue;stroke-width:2\" /><line x1=\"406.0\" y1=\"303.0\" x2=\"480.441\" y2=\"293.86\" stroke-linecap=\"round\" style=\"stroke:orange;stroke-width:2\" /><line x1=\"480.441\" y1=\"293.86\" x2=\"451.136\" y2=\"362.898\" stroke-linecap=\"round\" style=\"stroke:orange;stroke-width:2\" /><line x1=\"451.136\" y1=\"362.898\" x2=\"406.0\" y2=\"303.0\" stroke-linecap=\"round\" style=\"stroke:orange;stroke-width:2\" /><path fill-rule=\"evenodd\" fill-opacity=\"1\" d=\"M 357.0 313.0  L 414.288 374.434  L 331.831 358.406  L 407.961 322.906  L 367.237 396.374  L 357.0 313.0 \" stroke-linecap=\"round\" style=\"stroke:orange;stroke-width:2\" fill=\"orange\" /><line x1=\"280.0\" y1=\"399.0\" x2=\"305.91\" y2=\"489.359\" stroke-linecap=\"round\" style=\"stroke:blue;stroke-width:2\" /><line x1=\"305.91\" y1=\"489.359\" x2=\"215.551\" y2=\"515.269\" stroke-linecap=\"round\" style=\"stroke:blue;stroke-width:2\" /><line x1=\"215.551\" y1=\"515.269\" x2=\"189.641\" y2=\"424.91\" stroke-linecap=\"round\" style=\"stroke:blue;stroke-width:2\" /><line x1=\"189.641\" y1=\"424.91\" x2=\"280.0\" y2=\"399.0\" stroke-linecap=\"round\" style=\"stroke:blue;stroke-width:2\" /><line x1=\"440.0\" y1=\"202.0\" x2=\"432.818\" y2=\"182.266\" stroke-linecap=\"round\" style=\"stroke:pink;stroke-width:2\" /><line x1=\"432.818\" y1=\"182.266\" x2=\"453.499\" y2=\"185.913\" stroke-linecap=\"round\" style=\"stroke:pink;stroke-width:2\" /><line x1=\"453.499\" y1=\"185.913\" x2=\"440.0\" y2=\"202.0\" stroke-linecap=\"round\" style=\"stroke:pink;stroke-width:2\" />\n",
              "        \n",
              "        \n",
              "        <g id=\"classic\" visibility=\"visible\" transform=\"rotate(40.0,440.0,202.0) translate(440.0, 202.0)\">\n",
              "<polygon points=\"-5,-4.5 0,-2.5 5,-4.5 0,4.5\" transform=\"skewX(0) scale(1,1)\" style=\"stroke:pink;fill:pink;stroke-width:1\" />\n",
              "<animateTransform id = \"one\" attributeName=\"transform\" \n",
              "                      type=\"scale\"\n",
              "                      from=\"1 1\" to=\"1 1\"\n",
              "                      begin=\"0s\" dur=\"0.01s\"\n",
              "                      repeatCount=\"1\"\n",
              "                      additive=\"sum\"\n",
              "                      fill=\"freeze\"\n",
              "                /><animateTransform attributeName=\"transform\"\n",
              "                    type=\"rotate\"\n",
              "                    from=\"0 0 0\" to =\"120 0 0\"\n",
              "                    begin=\"one.end\" dur=\"0.3333333333333333s\"\n",
              "                    repeatCount=\"1\"\n",
              "                    additive=\"sum\"\n",
              "                    fill=\"freeze\"\n",
              "                /></g>\n",
              "      </svg>\n",
              "    "
            ]
          },
          "metadata": {}
        },
        {
          "output_type": "stream",
          "name": "stdout",
          "text": [
            "Drawing 7: [{'Shape1': {'turn_angle': 72, 'move_distance': 31, 'position': (-93, -140), 'color': 'pink', 'size': 91, 'shape': 'triangle'}}, {'Shape2': {'turn_angle': 53, 'move_distance': 27, 'position': (-10, -106), 'color': 'pink', 'size': 51, 'shape': 'star'}}, {'Shape3': {'turn_angle': 40, 'move_distance': 23, 'position': (-122, -184), 'color': 'red', 'size': 31, 'shape': 'star'}}, {'Shape4': {'turn_angle': 146, 'move_distance': 50, 'position': (125, -8), 'color': 'blue', 'size': 57, 'shape': 'star'}}, {'Shape5': {'turn_angle': 82, 'move_distance': 46, 'position': (84, 127), 'color': 'purple', 'size': 77, 'shape': 'square'}}, {'Shape6': {'turn_angle': -31, 'move_distance': 42, 'position': (168, -149), 'color': 'purple', 'size': 60, 'shape': 'circle'}}, {'Shape7': {'turn_angle': 162, 'move_distance': 49, 'position': (-121, -86), 'color': 'purple', 'size': 75, 'shape': 'star'}}, {'Shape8': {'turn_angle': 163, 'move_distance': 37, 'position': (34, 67), 'color': 'yellow', 'size': 88, 'shape': 'square'}}, {'Shape9': {'turn_angle': 33, 'move_distance': 30, 'position': (-154, 4), 'color': 'pink', 'size': 99, 'shape': 'star'}}, {'Shape10': {'turn_angle': 153, 'move_distance': 37, 'position': (-120, -18), 'color': 'red', 'size': 53, 'shape': 'circle'}}, {'Shape11': {'turn_angle': -81, 'move_distance': 43, 'position': (-91, 48), 'color': 'pink', 'size': 43, 'shape': 'square'}}, {'Shape12': {'turn_angle': 89, 'move_distance': 30, 'position': (20, 92), 'color': 'purple', 'size': 70, 'shape': 'circle'}}, {'Shape13': {'turn_angle': -68, 'move_distance': 21, 'position': (-192, -26), 'color': 'purple', 'size': 100, 'shape': 'star'}}, {'Shape14': {'turn_angle': 149, 'move_distance': 29, 'position': (73, 170), 'color': 'pink', 'size': 34, 'shape': 'triangle'}}, {'Shape15': {'turn_angle': -87, 'move_distance': 14, 'position': (145, 123), 'color': 'yellow', 'size': 60, 'shape': 'square'}}, {'Shape16': {'turn_angle': -8, 'move_distance': 42, 'position': (-167, -156), 'color': 'orange', 'size': 47, 'shape': 'square'}}, {'Shape17': {'turn_angle': -65, 'move_distance': 41, 'position': (-41, -174), 'color': 'orange', 'size': 11, 'shape': 'square'}}, {'Shape18': {'turn_angle': 86, 'move_distance': 30, 'position': (57, -175), 'color': 'green', 'size': 67, 'shape': 'circle'}}, {'Shape19': {'turn_angle': 103, 'move_distance': 31, 'position': (67, 80), 'color': 'purple', 'size': 100, 'shape': 'square'}}, {'Shape20': {'turn_angle': 129, 'move_distance': 49, 'position': (133, -147), 'color': 'green', 'size': 46, 'shape': 'triangle'}}, {'Shape21': {'turn_angle': 97, 'move_distance': 23, 'position': (23, -176), 'color': 'purple', 'size': 100, 'shape': 'square'}}, {'Shape22': {'turn_angle': 172, 'move_distance': 44, 'position': (-13, -49), 'color': 'red', 'size': 14, 'shape': 'square'}}, {'Shape23': {'turn_angle': -17, 'move_distance': 29, 'position': (65, 186), 'color': 'blue', 'size': 15, 'shape': 'circle'}}, {'Shape24': {'turn_angle': 95, 'move_distance': 20, 'position': (-182, 117), 'color': 'blue', 'size': 91, 'shape': 'circle'}}, {'Shape25': {'turn_angle': 77, 'move_distance': 34, 'position': (-26, 89), 'color': 'orange', 'size': 11, 'shape': 'circle'}}, {'Shape26': {'turn_angle': 45, 'move_distance': 39, 'position': (145, -85), 'color': 'blue', 'size': 26, 'shape': 'square'}}, {'Shape27': {'turn_angle': -99, 'move_distance': 17, 'position': (6, 97), 'color': 'orange', 'size': 75, 'shape': 'triangle'}}, {'Shape28': {'turn_angle': 54, 'move_distance': 16, 'position': (-43, 87), 'color': 'orange', 'size': 84, 'shape': 'star'}}, {'Shape29': {'turn_angle': 27, 'move_distance': 48, 'position': (-120, 1), 'color': 'blue', 'size': 94, 'shape': 'square'}}, {'Shape30': {'turn_angle': 176, 'move_distance': 34, 'position': (40, 198), 'color': 'pink', 'size': 21, 'shape': 'triangle'}}]\n",
            "file written\n"
          ]
        }
      ]
    },
    {
      "cell_type": "markdown",
      "source": [],
      "metadata": {
        "id": "R6zeNRBjky4g"
      }
    },
    {
      "cell_type": "code",
      "source": [
        "pencil.clear()\n",
        "# test the function by calling it 10 times and storing the records into a list of dictionaries\n",
        "records_list = []\n",
        "for i in range(10):\n",
        "    record_name = f\"Shape{i+1}\"\n",
        "    record_dict = draw3()\n",
        "    records_list.append({record_name: record_dict})\n",
        "\n",
        "# print out the list of records\n",
        "print(f'Drawing 8: {records_list}')\n",
        "\n",
        "import json\n",
        "with open('Drawing_8.json', 'w') as json_obj:\n",
        "  json.dump(records_list, json_obj, indent=2)\n",
        "print(\"file written\")\n",
        "\n",
        "#saving a drawing\n",
        "screen_obj = Screen()\n",
        "screen_obj.saveSVG('Elmer_drawing_8.svg', False)"
      ],
      "metadata": {
        "colab": {
          "base_uri": "https://localhost:8080/",
          "height": 872
        },
        "id": "Nmz1ScAmkzYA",
        "outputId": "9e7bfc45-ebdc-4bec-c720-019a27fb971b"
      },
      "execution_count": null,
      "outputs": [
        {
          "output_type": "display_data",
          "data": {
            "text/plain": [
              "<IPython.core.display.HTML object>"
            ],
            "text/html": [
              "\n",
              "      <svg width=\"800\" height=\"800\">  \n",
              "        <rect width=\"100%\" height=\"100%\" style=\"fill:white;stroke:;stroke-width:1\"/>\n",
              "        \n",
              "        \n",
              "        <line x1=\"500.0\" y1=\"501.0\" x2=\"494.301\" y2=\"489.316\" stroke-linecap=\"round\" style=\"stroke:purple;stroke-width:2\" /><line x1=\"494.301\" y1=\"489.316\" x2=\"505.985\" y2=\"483.617\" stroke-linecap=\"round\" style=\"stroke:purple;stroke-width:2\" /><line x1=\"505.985\" y1=\"483.617\" x2=\"511.684\" y2=\"495.301\" stroke-linecap=\"round\" style=\"stroke:purple;stroke-width:2\" /><line x1=\"511.684\" y1=\"495.301\" x2=\"500.0\" y2=\"501.0\" stroke-linecap=\"round\" style=\"stroke:purple;stroke-width:2\" /><line x1=\"477.0\" y1=\"563.0\" x2=\"379.97\" y2=\"587.192\" stroke-linecap=\"round\" style=\"stroke:orange;stroke-width:2\" /><line x1=\"379.97\" y1=\"587.192\" x2=\"355.778\" y2=\"490.162\" stroke-linecap=\"round\" style=\"stroke:orange;stroke-width:2\" /><line x1=\"355.778\" y1=\"490.162\" x2=\"452.808\" y2=\"465.97\" stroke-linecap=\"round\" style=\"stroke:orange;stroke-width:2\" /><line x1=\"452.808\" y1=\"465.97\" x2=\"477.0\" y2=\"563.0\" stroke-linecap=\"round\" style=\"stroke:orange;stroke-width:2\" /><line x1=\"423.0\" y1=\"530.0\" x2=\"453.147\" y2=\"516.578\" stroke-linecap=\"round\" style=\"stroke:orange;stroke-width:2\" /><line x1=\"453.147\" y1=\"516.578\" x2=\"466.569\" y2=\"546.725\" stroke-linecap=\"round\" style=\"stroke:orange;stroke-width:2\" /><line x1=\"466.569\" y1=\"546.725\" x2=\"436.422\" y2=\"560.147\" stroke-linecap=\"round\" style=\"stroke:orange;stroke-width:2\" /><line x1=\"436.422\" y1=\"560.147\" x2=\"423.0\" y2=\"530.0\" stroke-linecap=\"round\" style=\"stroke:orange;stroke-width:2\" /><line x1=\"581.0\" y1=\"219.0\" x2=\"593.527\" y2=\"199.711\" stroke-linecap=\"round\" style=\"stroke:orange;stroke-width:2\" /><line x1=\"593.527\" y1=\"199.711\" x2=\"603.969\" y2=\"220.204\" stroke-linecap=\"round\" style=\"stroke:orange;stroke-width:2\" /><line x1=\"603.969\" y1=\"220.204\" x2=\"581.001\" y2=\"219.0\" stroke-linecap=\"round\" style=\"stroke:orange;stroke-width:2\" /><line x1=\"288.0\" y1=\"361.0\" x2=\"295.071\" y2=\"352.574\" stroke-linecap=\"round\" style=\"stroke:purple;stroke-width:2\" /><line x1=\"295.071\" y1=\"352.574\" x2=\"303.497\" y2=\"359.645\" stroke-linecap=\"round\" style=\"stroke:purple;stroke-width:2\" /><line x1=\"303.497\" y1=\"359.645\" x2=\"296.426\" y2=\"368.071\" stroke-linecap=\"round\" style=\"stroke:purple;stroke-width:2\" /><line x1=\"296.426\" y1=\"368.071\" x2=\"288.0\" y2=\"361.0\" stroke-linecap=\"round\" style=\"stroke:purple;stroke-width:2\" /><line x1=\"324.0\" y1=\"477.0\" x2=\"308.906\" y2=\"490.121\" stroke-linecap=\"round\" style=\"stroke:yellow;stroke-width:2\" /><line x1=\"308.906\" y1=\"490.121\" x2=\"305.09\" y2=\"470.488\" stroke-linecap=\"round\" style=\"stroke:yellow;stroke-width:2\" /><line x1=\"305.09\" y1=\"470.488\" x2=\"324.0\" y2=\"476.999\" stroke-linecap=\"round\" style=\"stroke:yellow;stroke-width:2\" /><line x1=\"322.0\" y1=\"531.0\" x2=\"381.261\" y2=\"540.386\" stroke-linecap=\"round\" style=\"stroke:yellow;stroke-width:2\" /><line x1=\"381.261\" y1=\"540.386\" x2=\"371.875\" y2=\"599.647\" stroke-linecap=\"round\" style=\"stroke:yellow;stroke-width:2\" /><line x1=\"371.875\" y1=\"599.647\" x2=\"312.614\" y2=\"590.261\" stroke-linecap=\"round\" style=\"stroke:yellow;stroke-width:2\" /><line x1=\"312.614\" y1=\"590.261\" x2=\"322.0\" y2=\"531.0\" stroke-linecap=\"round\" style=\"stroke:yellow;stroke-width:2\" /><line x1=\"360.0\" y1=\"525.0\" x2=\"372.433\" y2=\"513.406\" stroke-linecap=\"round\" style=\"stroke:orange;stroke-width:2\" /><line x1=\"372.433\" y1=\"513.406\" x2=\"384.027\" y2=\"525.839\" stroke-linecap=\"round\" style=\"stroke:orange;stroke-width:2\" /><line x1=\"384.027\" y1=\"525.839\" x2=\"371.594\" y2=\"537.433\" stroke-linecap=\"round\" style=\"stroke:orange;stroke-width:2\" /><line x1=\"371.594\" y1=\"537.433\" x2=\"360.0\" y2=\"525.0\" stroke-linecap=\"round\" style=\"stroke:orange;stroke-width:2\" /><path fill-rule=\"evenodd\" fill-opacity=\"1\" d=\"M 596.0 382.0  L 567.055 287.326  L 646.12 346.906  L 547.135 345.178  L 628.231 288.394  L 596.0 382.0 \" stroke-linecap=\"round\" style=\"stroke:purple;stroke-width:2\" fill=\"purple\" /><line x1=\"371.0\" y1=\"433.0\" x2=\"373.581\" y2=\"396.09\" stroke-linecap=\"round\" style=\"stroke:pink;stroke-width:2\" /><line x1=\"373.581\" y1=\"396.09\" x2=\"410.491\" y2=\"398.671\" stroke-linecap=\"round\" style=\"stroke:pink;stroke-width:2\" /><line x1=\"410.491\" y1=\"398.671\" x2=\"407.91\" y2=\"435.581\" stroke-linecap=\"round\" style=\"stroke:pink;stroke-width:2\" /><line x1=\"407.91\" y1=\"435.581\" x2=\"371.0\" y2=\"433.0\" stroke-linecap=\"round\" style=\"stroke:pink;stroke-width:2\" />\n",
              "        \n",
              "        \n",
              "        <g id=\"classic\" visibility=\"visible\" transform=\"rotate(94.0,371.0,433.0) translate(371.0, 433.0)\">\n",
              "<polygon points=\"-5,-4.5 0,-2.5 5,-4.5 0,4.5\" transform=\"skewX(0) scale(1,1)\" style=\"stroke:pink;fill:pink;stroke-width:1\" />\n",
              "<animateTransform id = \"one\" attributeName=\"transform\" \n",
              "                      type=\"scale\"\n",
              "                      from=\"1 1\" to=\"1 1\"\n",
              "                      begin=\"0s\" dur=\"0.01s\"\n",
              "                      repeatCount=\"1\"\n",
              "                      additive=\"sum\"\n",
              "                      fill=\"freeze\"\n",
              "                /><animateTransform attributeName=\"transform\"\n",
              "                    type=\"rotate\"\n",
              "                    from=\"0 0 0\" to =\"90 0 0\"\n",
              "                    begin=\"one.end\" dur=\"0.25s\"\n",
              "                    repeatCount=\"1\"\n",
              "                    additive=\"sum\"\n",
              "                    fill=\"freeze\"\n",
              "                /></g>\n",
              "      </svg>\n",
              "    "
            ]
          },
          "metadata": {}
        },
        {
          "output_type": "stream",
          "name": "stdout",
          "text": [
            "Drawing 8: [{'Shape1': {'turn_angle': -6, 'move_distance': 33, 'position': (100, -101), 'color': 'purple', 'size': 13, 'shape': 'square'}}, {'Shape2': {'turn_angle': -78, 'move_distance': 23, 'position': (77, -163), 'color': 'orange', 'size': 100, 'shape': 'square'}}, {'Shape3': {'turn_angle': 170, 'move_distance': 18, 'position': (23, -130), 'color': 'orange', 'size': 33, 'shape': 'square'}}, {'Shape4': {'turn_angle': -33, 'move_distance': 41, 'position': (181, 181), 'color': 'orange', 'size': 23, 'shape': 'triangle'}}, {'Shape5': {'turn_angle': 7, 'move_distance': 40, 'position': (-112, 39), 'color': 'purple', 'size': 11, 'shape': 'square'}}, {'Shape6': {'turn_angle': -171, 'move_distance': 17, 'position': (-76, -77), 'color': 'yellow', 'size': 20, 'shape': 'triangle'}}, {'Shape7': {'turn_angle': -130, 'move_distance': 19, 'position': (-78, -131), 'color': 'yellow', 'size': 60, 'shape': 'square'}}, {'Shape8': {'turn_angle': -52, 'move_distance': 42, 'position': (-40, -125), 'color': 'orange', 'size': 17, 'shape': 'square'}}, {'Shape9': {'turn_angle': -64, 'move_distance': 25, 'position': (196, 18), 'color': 'purple', 'size': 99, 'shape': 'star'}}, {'Shape10': {'turn_angle': 21, 'move_distance': 50, 'position': (-29, -33), 'color': 'pink', 'size': 37, 'shape': 'square'}}]\n",
            "file written\n"
          ]
        }
      ]
    },
    {
      "cell_type": "code",
      "source": [
        "pencil.clear()\n",
        "# test the function by calling it 10 times and storing the records into a list of dictionaries\n",
        "records_list = []\n",
        "for i in range(50):\n",
        "    record_name = f\"Shape{i+1}\"\n",
        "    record_dict = draw3()\n",
        "    records_list.append({record_name: record_dict})\n",
        "\n",
        "# print out the list of records\n",
        "print(f'Drawing 9: {records_list}')\n",
        "\n",
        "import json\n",
        "with open('Drawing_9.json', 'w') as json_obj:\n",
        "  json.dump(records_list, json_obj, indent=2)\n",
        "print(\"file written\")\n",
        "\n",
        "#saving a drawing\n",
        "screen_obj = Screen()\n",
        "screen_obj.saveSVG('Elmer_drawing_9.svg', False)"
      ],
      "metadata": {
        "colab": {
          "base_uri": "https://localhost:8080/",
          "height": 872
        },
        "id": "d67gooCWlH3K",
        "outputId": "dab3a0d1-faef-4cac-c1e6-9623c7e10a0d"
      },
      "execution_count": null,
      "outputs": [
        {
          "output_type": "display_data",
          "data": {
            "text/plain": [
              "<IPython.core.display.HTML object>"
            ],
            "text/html": [
              "\n",
              "      <svg width=\"800\" height=\"800\">  \n",
              "        <rect width=\"100%\" height=\"100%\" style=\"fill:white;stroke:;stroke-width:1\"/>\n",
              "        \n",
              "        \n",
              "        <line x1=\"254.0\" y1=\"555.0\" x2=\"271.083\" y2=\"516.631\" stroke-linecap=\"round\" style=\"stroke:green;stroke-width:2\" /><line x1=\"271.083\" y1=\"516.631\" x2=\"295.77\" y2=\"550.61\" stroke-linecap=\"round\" style=\"stroke:green;stroke-width:2\" /><line x1=\"295.77\" y1=\"550.61\" x2=\"254.0\" y2=\"555.0\" stroke-linecap=\"round\" style=\"stroke:green;stroke-width:2\" /><path fill-rule=\"evenodd\" fill-opacity=\"1\" d=\"M 465.0 524.0  A 36 36 0 0 0 453.737 452.886  A 36 36 0 0 0 465.0 524.0 \" stroke-linecap=\"round\" style=\"stroke:green;stroke-width:2\" fill=\"green\" /><line x1=\"317.0\" y1=\"525.0\" x2=\"327.88\" y2=\"516.19\" stroke-linecap=\"round\" style=\"stroke:blue;stroke-width:2\" /><line x1=\"327.88\" y1=\"516.19\" x2=\"336.69\" y2=\"527.07\" stroke-linecap=\"round\" style=\"stroke:blue;stroke-width:2\" /><line x1=\"336.69\" y1=\"527.07\" x2=\"325.81\" y2=\"535.88\" stroke-linecap=\"round\" style=\"stroke:blue;stroke-width:2\" /><line x1=\"325.81\" y1=\"535.88\" x2=\"317.0\" y2=\"525.0\" stroke-linecap=\"round\" style=\"stroke:blue;stroke-width:2\" /><line x1=\"287.0\" y1=\"533.0\" x2=\"287.0\" y2=\"441.0\" stroke-linecap=\"round\" style=\"stroke:pink;stroke-width:2\" /><line x1=\"287.0\" y1=\"441.0\" x2=\"379.0\" y2=\"441.0\" stroke-linecap=\"round\" style=\"stroke:pink;stroke-width:2\" /><line x1=\"379.0\" y1=\"441.0\" x2=\"379.0\" y2=\"533.0\" stroke-linecap=\"round\" style=\"stroke:pink;stroke-width:2\" /><line x1=\"379.0\" y1=\"533.0\" x2=\"287.0\" y2=\"533.0\" stroke-linecap=\"round\" style=\"stroke:pink;stroke-width:2\" /><line x1=\"269.0\" y1=\"408.0\" x2=\"341.6\" y2=\"415.631\" stroke-linecap=\"round\" style=\"stroke:pink;stroke-width:2\" /><line x1=\"341.6\" y1=\"415.631\" x2=\"298.692\" y2=\"474.689\" stroke-linecap=\"round\" style=\"stroke:pink;stroke-width:2\" /><line x1=\"298.692\" y1=\"474.689\" x2=\"269.0\" y2=\"408.0\" stroke-linecap=\"round\" style=\"stroke:pink;stroke-width:2\" /><path fill-rule=\"evenodd\" fill-opacity=\"1\" d=\"M 474.0 300.0  L 550.402 332.431  L 469.529 351.102  L 523.982 288.461  L 516.748 371.145  L 474.0 300.0 \" stroke-linecap=\"round\" style=\"stroke:green;stroke-width:2\" fill=\"green\" /><line x1=\"384.0\" y1=\"258.0\" x2=\"363.512\" y2=\"241.993\" stroke-linecap=\"round\" style=\"stroke:red;stroke-width:2\" /><line x1=\"363.512\" y1=\"241.993\" x2=\"379.519\" y2=\"221.505\" stroke-linecap=\"round\" style=\"stroke:red;stroke-width:2\" /><line x1=\"379.519\" y1=\"221.505\" x2=\"400.007\" y2=\"237.512\" stroke-linecap=\"round\" style=\"stroke:red;stroke-width:2\" /><line x1=\"400.007\" y1=\"237.512\" x2=\"384.0\" y2=\"258.0\" stroke-linecap=\"round\" style=\"stroke:red;stroke-width:2\" /><path fill-rule=\"evenodd\" fill-opacity=\"1\" d=\"M 592.0 277.0  L 580.205 250.507  L 605.32 265.007  L 576.479 268.038  L 598.03 248.633  L 592.001 276.999 \" stroke-linecap=\"round\" style=\"stroke:orange;stroke-width:2\" fill=\"orange\" /><path fill-rule=\"evenodd\" fill-opacity=\"1\" d=\"M 474.0 230.0  L 478.918 211.647  L 485.727 229.385  L 469.792 219.037  L 488.766 218.043  L 474.0 230.0 \" stroke-linecap=\"round\" style=\"stroke:yellow;stroke-width:2\" fill=\"yellow\" /><line x1=\"560.0\" y1=\"530.0\" x2=\"533.235\" y2=\"559.726\" stroke-linecap=\"round\" style=\"stroke:red;stroke-width:2\" /><line x1=\"533.235\" y1=\"559.726\" x2=\"520.874\" y2=\"521.684\" stroke-linecap=\"round\" style=\"stroke:red;stroke-width:2\" /><line x1=\"520.874\" y1=\"521.684\" x2=\"560.0\" y2=\"530.0\" stroke-linecap=\"round\" style=\"stroke:red;stroke-width:2\" /><line x1=\"537.0\" y1=\"541.0\" x2=\"448.386\" y2=\"501.547\" stroke-linecap=\"round\" style=\"stroke:blue;stroke-width:2\" /><line x1=\"448.386\" y1=\"501.547\" x2=\"526.861\" y2=\"444.532\" stroke-linecap=\"round\" style=\"stroke:blue;stroke-width:2\" /><line x1=\"526.861\" y1=\"444.532\" x2=\"537.0\" y2=\"541.001\" stroke-linecap=\"round\" style=\"stroke:blue;stroke-width:2\" /><line x1=\"351.0\" y1=\"526.0\" x2=\"442.291\" y2=\"543.745\" stroke-linecap=\"round\" style=\"stroke:purple;stroke-width:2\" /><line x1=\"442.291\" y1=\"543.745\" x2=\"381.278\" y2=\"613.933\" stroke-linecap=\"round\" style=\"stroke:purple;stroke-width:2\" /><line x1=\"381.278\" y1=\"613.933\" x2=\"351.0\" y2=\"526.0\" stroke-linecap=\"round\" style=\"stroke:purple;stroke-width:2\" /><path fill-rule=\"evenodd\" fill-opacity=\"1\" d=\"M 589.0 259.0  A 66 66 0 0 0 457.181 265.908  A 66 66 0 0 0 589.0 259.0 \" stroke-linecap=\"round\" style=\"stroke:purple;stroke-width:2\" fill=\"purple\" /><path fill-rule=\"evenodd\" fill-opacity=\"1\" d=\"M 549.0 440.0  A 16 16 0 0 0 527.588 463.781  A 16 16 0 0 0 549.0 440.0 \" stroke-linecap=\"round\" style=\"stroke:red;stroke-width:2\" fill=\"red\" /><line x1=\"419.0\" y1=\"363.0\" x2=\"375.774\" y2=\"378.733\" stroke-linecap=\"round\" style=\"stroke:red;stroke-width:2\" /><line x1=\"375.774\" y1=\"378.733\" x2=\"360.041\" y2=\"335.507\" stroke-linecap=\"round\" style=\"stroke:red;stroke-width:2\" /><line x1=\"360.041\" y1=\"335.507\" x2=\"403.267\" y2=\"319.774\" stroke-linecap=\"round\" style=\"stroke:red;stroke-width:2\" /><line x1=\"403.267\" y1=\"319.774\" x2=\"419.0\" y2=\"363.0\" stroke-linecap=\"round\" style=\"stroke:red;stroke-width:2\" /><path fill-rule=\"evenodd\" fill-opacity=\"1\" d=\"M 350.0 233.0  A 62 62 0 0 0 471.722 256.66  A 62 62 0 0 0 350.0 233.0 \" stroke-linecap=\"round\" style=\"stroke:yellow;stroke-width:2\" fill=\"yellow\" /><path fill-rule=\"evenodd\" fill-opacity=\"1\" d=\"M 309.0 542.0  A 61 61 0 0 0 424.353 502.281  A 61 61 0 0 0 309.0 542.0 \" stroke-linecap=\"round\" style=\"stroke:orange;stroke-width:2\" fill=\"orange\" /><path fill-rule=\"evenodd\" fill-opacity=\"1\" d=\"M 568.0 294.0  L 536.394 299.006  L 559.021 276.379  L 554.015 307.985  L 539.487 279.473  L 567.999 294.001 \" stroke-linecap=\"round\" style=\"stroke:pink;stroke-width:2\" fill=\"pink\" /><path fill-rule=\"evenodd\" fill-opacity=\"1\" d=\"M 253.0 375.0  L 243.437 372.076  L 252.892 368.82  L 247.156 377.012  L 246.981 367.014  L 252.999 375.0 \" stroke-linecap=\"round\" style=\"stroke:green;stroke-width:2\" fill=\"green\" /><path fill-rule=\"evenodd\" fill-opacity=\"1\" d=\"M 298.0 288.0  L 293.613 252.268  L 318.165 278.597  L 282.826 271.728  L 315.453 256.514  L 298.0 288.0 \" stroke-linecap=\"round\" style=\"stroke:purple;stroke-width:2\" fill=\"purple\" /><line x1=\"270.0\" y1=\"265.0\" x2=\"292.3\" y2=\"243.466\" stroke-linecap=\"round\" style=\"stroke:pink;stroke-width:2\" /><line x1=\"292.3\" y1=\"243.466\" x2=\"313.834\" y2=\"265.766\" stroke-linecap=\"round\" style=\"stroke:pink;stroke-width:2\" /><line x1=\"313.834\" y1=\"265.766\" x2=\"291.534\" y2=\"287.3\" stroke-linecap=\"round\" style=\"stroke:pink;stroke-width:2\" /><line x1=\"291.534\" y1=\"287.3\" x2=\"270.0\" y2=\"265.0\" stroke-linecap=\"round\" style=\"stroke:pink;stroke-width:2\" /><path fill-rule=\"evenodd\" fill-opacity=\"1\" d=\"M 576.0 305.0  A 63 63 0 0 0 526.768 420.984  A 63 63 0 0 0 576.0 305.0 \" stroke-linecap=\"round\" style=\"stroke:pink;stroke-width:2\" fill=\"pink\" /><path fill-rule=\"evenodd\" fill-opacity=\"1\" d=\"M 374.0 247.0  A 53 53 0 0 0 439.26 330.529  A 53 53 0 0 0 374.0 247.0 \" stroke-linecap=\"round\" style=\"stroke:red;stroke-width:2\" fill=\"red\" /><path fill-rule=\"evenodd\" fill-opacity=\"1\" d=\"M 321.0 522.0  L 334.497 580.462  L 289.214 541.098  L 348.986 546.327  L 297.556 577.229  L 321.0 521.999 \" stroke-linecap=\"round\" style=\"stroke:yellow;stroke-width:2\" fill=\"yellow\" /><line x1=\"292.0\" y1=\"336.0\" x2=\"331.577\" y2=\"392.521\" stroke-linecap=\"round\" style=\"stroke:purple;stroke-width:2\" /><line x1=\"331.577\" y1=\"392.521\" x2=\"262.84\" y2=\"398.535\" stroke-linecap=\"round\" style=\"stroke:purple;stroke-width:2\" /><line x1=\"262.84\" y1=\"398.535\" x2=\"292.001\" y2=\"336.0\" stroke-linecap=\"round\" style=\"stroke:purple;stroke-width:2\" /><line x1=\"407.0\" y1=\"290.0\" x2=\"376.403\" y2=\"277.638\" stroke-linecap=\"round\" style=\"stroke:pink;stroke-width:2\" /><line x1=\"376.403\" y1=\"277.638\" x2=\"388.765\" y2=\"247.041\" stroke-linecap=\"round\" style=\"stroke:pink;stroke-width:2\" /><line x1=\"388.765\" y1=\"247.041\" x2=\"419.362\" y2=\"259.403\" stroke-linecap=\"round\" style=\"stroke:pink;stroke-width:2\" /><line x1=\"419.362\" y1=\"259.403\" x2=\"407.0\" y2=\"290.0\" stroke-linecap=\"round\" style=\"stroke:pink;stroke-width:2\" /><path fill-rule=\"evenodd\" fill-opacity=\"1\" d=\"M 460.0 340.0  L 453.041 290.487  L 487.774 326.454  L 438.534 317.772  L 483.474 295.853  L 460.0 340.0 \" stroke-linecap=\"round\" style=\"stroke:purple;stroke-width:2\" fill=\"purple\" /><line x1=\"364.0\" y1=\"457.0\" x2=\"293.401\" y2=\"393.433\" stroke-linecap=\"round\" style=\"stroke:blue;stroke-width:2\" /><line x1=\"293.401\" y1=\"393.433\" x2=\"383.751\" y2=\"364.076\" stroke-linecap=\"round\" style=\"stroke:blue;stroke-width:2\" /><line x1=\"383.751\" y1=\"364.076\" x2=\"363.999\" y2=\"457.0\" stroke-linecap=\"round\" style=\"stroke:blue;stroke-width:2\" /><line x1=\"316.0\" y1=\"409.0\" x2=\"273.142\" y2=\"383.248\" stroke-linecap=\"round\" style=\"stroke:blue;stroke-width:2\" /><line x1=\"273.142\" y1=\"383.248\" x2=\"316.873\" y2=\"359.008\" stroke-linecap=\"round\" style=\"stroke:blue;stroke-width:2\" /><line x1=\"316.873\" y1=\"359.008\" x2=\"316.0\" y2=\"409.0\" stroke-linecap=\"round\" style=\"stroke:blue;stroke-width:2\" /><line x1=\"592.0\" y1=\"579.0\" x2=\"586.355\" y2=\"525.296\" stroke-linecap=\"round\" style=\"stroke:pink;stroke-width:2\" /><line x1=\"586.355\" y1=\"525.296\" x2=\"635.686\" y2=\"547.26\" stroke-linecap=\"round\" style=\"stroke:pink;stroke-width:2\" /><line x1=\"635.686\" y1=\"547.26\" x2=\"591.999\" y2=\"579.0\" stroke-linecap=\"round\" style=\"stroke:pink;stroke-width:2\" /><path fill-rule=\"evenodd\" fill-opacity=\"1\" d=\"M 446.0 307.0  A 30 30 0 0 0 503.676 323.538  A 30 30 0 0 0 446.0 307.0 \" stroke-linecap=\"round\" style=\"stroke:blue;stroke-width:2\" fill=\"blue\" /><line x1=\"301.0\" y1=\"589.0\" x2=\"348.495\" y2=\"549.147\" stroke-linecap=\"round\" style=\"stroke:orange;stroke-width:2\" /><line x1=\"348.495\" y1=\"549.147\" x2=\"359.261\" y2=\"610.205\" stroke-linecap=\"round\" style=\"stroke:orange;stroke-width:2\" /><line x1=\"359.261\" y1=\"610.205\" x2=\"301.0\" y2=\"589.0\" stroke-linecap=\"round\" style=\"stroke:orange;stroke-width:2\" /><line x1=\"384.0\" y1=\"357.0\" x2=\"369.228\" y2=\"359.605\" stroke-linecap=\"round\" style=\"stroke:purple;stroke-width:2\" /><line x1=\"369.228\" y1=\"359.605\" x2=\"366.623\" y2=\"344.833\" stroke-linecap=\"round\" style=\"stroke:purple;stroke-width:2\" /><line x1=\"366.623\" y1=\"344.833\" x2=\"381.395\" y2=\"342.228\" stroke-linecap=\"round\" style=\"stroke:purple;stroke-width:2\" /><line x1=\"381.395\" y1=\"342.228\" x2=\"384.0\" y2=\"357.0\" stroke-linecap=\"round\" style=\"stroke:purple;stroke-width:2\" /><line x1=\"227.0\" y1=\"552.0\" x2=\"224.417\" y2=\"478.045\" stroke-linecap=\"round\" style=\"stroke:pink;stroke-width:2\" /><line x1=\"224.417\" y1=\"478.045\" x2=\"289.755\" y2=\"512.786\" stroke-linecap=\"round\" style=\"stroke:pink;stroke-width:2\" /><line x1=\"289.755\" y1=\"512.786\" x2=\"226.999\" y2=\"552.0\" stroke-linecap=\"round\" style=\"stroke:pink;stroke-width:2\" /><line x1=\"455.0\" y1=\"310.0\" x2=\"509.226\" y2=\"340.058\" stroke-linecap=\"round\" style=\"stroke:yellow;stroke-width:2\" /><line x1=\"509.226\" y1=\"340.058\" x2=\"479.168\" y2=\"394.284\" stroke-linecap=\"round\" style=\"stroke:yellow;stroke-width:2\" /><line x1=\"479.168\" y1=\"394.284\" x2=\"424.942\" y2=\"364.226\" stroke-linecap=\"round\" style=\"stroke:yellow;stroke-width:2\" /><line x1=\"424.942\" y1=\"364.226\" x2=\"455.0\" y2=\"310.0\" stroke-linecap=\"round\" style=\"stroke:yellow;stroke-width:2\" /><line x1=\"459.0\" y1=\"347.0\" x2=\"556.437\" y2=\"324.505\" stroke-linecap=\"round\" style=\"stroke:yellow;stroke-width:2\" /><line x1=\"556.437\" y1=\"324.505\" x2=\"578.932\" y2=\"421.942\" stroke-linecap=\"round\" style=\"stroke:yellow;stroke-width:2\" /><line x1=\"578.932\" y1=\"421.942\" x2=\"481.495\" y2=\"444.437\" stroke-linecap=\"round\" style=\"stroke:yellow;stroke-width:2\" /><line x1=\"481.495\" y1=\"444.437\" x2=\"459.0\" y2=\"347.0\" stroke-linecap=\"round\" style=\"stroke:yellow;stroke-width:2\" /><line x1=\"231.0\" y1=\"466.0\" x2=\"168.902\" y2=\"431.579\" stroke-linecap=\"round\" style=\"stroke:orange;stroke-width:2\" /><line x1=\"168.902\" y1=\"431.579\" x2=\"203.323\" y2=\"369.481\" stroke-linecap=\"round\" style=\"stroke:orange;stroke-width:2\" /><line x1=\"203.323\" y1=\"369.481\" x2=\"265.421\" y2=\"403.902\" stroke-linecap=\"round\" style=\"stroke:orange;stroke-width:2\" /><line x1=\"265.421\" y1=\"403.902\" x2=\"231.0\" y2=\"466.0\" stroke-linecap=\"round\" style=\"stroke:orange;stroke-width:2\" /><line x1=\"265.0\" y1=\"207.0\" x2=\"236.0\" y2=\"156.771\" stroke-linecap=\"round\" style=\"stroke:orange;stroke-width:2\" /><line x1=\"236.0\" y1=\"156.771\" x2=\"286.229\" y2=\"127.771\" stroke-linecap=\"round\" style=\"stroke:orange;stroke-width:2\" /><line x1=\"286.229\" y1=\"127.771\" x2=\"315.229\" y2=\"178.0\" stroke-linecap=\"round\" style=\"stroke:orange;stroke-width:2\" /><line x1=\"315.229\" y1=\"178.0\" x2=\"265.0\" y2=\"207.0\" stroke-linecap=\"round\" style=\"stroke:orange;stroke-width:2\" /><line x1=\"418.0\" y1=\"269.0\" x2=\"381.639\" y2=\"334.596\" stroke-linecap=\"round\" style=\"stroke:purple;stroke-width:2\" /><line x1=\"381.639\" y1=\"334.596\" x2=\"343.011\" y2=\"270.308\" stroke-linecap=\"round\" style=\"stroke:purple;stroke-width:2\" /><line x1=\"343.011\" y1=\"270.308\" x2=\"418.0\" y2=\"268.999\" stroke-linecap=\"round\" style=\"stroke:purple;stroke-width:2\" /><line x1=\"460.0\" y1=\"205.0\" x2=\"449.302\" y2=\"191.789\" stroke-linecap=\"round\" style=\"stroke:pink;stroke-width:2\" /><line x1=\"449.302\" y1=\"191.789\" x2=\"462.513\" y2=\"181.091\" stroke-linecap=\"round\" style=\"stroke:pink;stroke-width:2\" /><line x1=\"462.513\" y1=\"181.091\" x2=\"473.211\" y2=\"194.302\" stroke-linecap=\"round\" style=\"stroke:pink;stroke-width:2\" /><line x1=\"473.211\" y1=\"194.302\" x2=\"460.0\" y2=\"205.0\" stroke-linecap=\"round\" style=\"stroke:pink;stroke-width:2\" /><path fill-rule=\"evenodd\" fill-opacity=\"1\" d=\"M 272.0 584.0  A 16 16 0 0 0 300.254 599.023  A 16 16 0 0 0 272.0 584.0 \" stroke-linecap=\"round\" style=\"stroke:yellow;stroke-width:2\" fill=\"yellow\" /><path fill-rule=\"evenodd\" fill-opacity=\"1\" d=\"M 430.0 334.0  A 38 38 0 0 0 415.499 259.396  A 38 38 0 0 0 430.0 334.0 \" stroke-linecap=\"round\" style=\"stroke:yellow;stroke-width:2\" fill=\"yellow\" /><path fill-rule=\"evenodd\" fill-opacity=\"1\" d=\"M 364.0 596.0  L 394.309 571.457  L 384.215 609.128  L 370.239 572.718  L 402.947 593.959  L 364.0 596.0 \" stroke-linecap=\"round\" style=\"stroke:orange;stroke-width:2\" fill=\"orange\" /><path fill-rule=\"evenodd\" fill-opacity=\"1\" d=\"M 357.0 209.0  A 78 78 0 0 0 506.184 163.39  A 78 78 0 0 0 357.0 209.0 \" stroke-linecap=\"round\" style=\"stroke:blue;stroke-width:2\" fill=\"blue\" /><path fill-rule=\"evenodd\" fill-opacity=\"1\" d=\"M 413.0 538.0  A 45 45 0 0 0 433.246 625.693  A 45 45 0 0 0 413.0 538.0 \" stroke-linecap=\"round\" style=\"stroke:green;stroke-width:2\" fill=\"green\" /><path fill-rule=\"evenodd\" fill-opacity=\"1\" d=\"M 277.0 578.0  A 89 89 0 0 0 136.734 468.412  A 89 89 0 0 0 277.0 578.0 \" stroke-linecap=\"round\" style=\"stroke:orange;stroke-width:2\" fill=\"orange\" /><path fill-rule=\"evenodd\" fill-opacity=\"1\" d=\"M 302.0 265.0  A 81 81 0 0 0 169.297 172.081  A 81 81 0 0 0 302.0 265.0 \" stroke-linecap=\"round\" style=\"stroke:yellow;stroke-width:2\" fill=\"yellow\" /><line x1=\"422.0\" y1=\"463.0\" x2=\"431.44\" y2=\"451.343\" stroke-linecap=\"round\" style=\"stroke:green;stroke-width:2\" /><line x1=\"431.44\" y1=\"451.343\" x2=\"436.816\" y2=\"465.347\" stroke-linecap=\"round\" style=\"stroke:green;stroke-width:2\" /><line x1=\"436.816\" y1=\"465.347\" x2=\"422.001\" y2=\"463.0\" stroke-linecap=\"round\" style=\"stroke:green;stroke-width:2\" /><line x1=\"432.0\" y1=\"233.0\" x2=\"370.44\" y2=\"301.369\" stroke-linecap=\"round\" style=\"stroke:purple;stroke-width:2\" /><line x1=\"370.44\" y1=\"301.369\" x2=\"342.01\" y2=\"213.872\" stroke-linecap=\"round\" style=\"stroke:purple;stroke-width:2\" /><line x1=\"342.01\" y1=\"213.872\" x2=\"432.0\" y2=\"233.0\" stroke-linecap=\"round\" style=\"stroke:purple;stroke-width:2\" /><path fill-rule=\"evenodd\" fill-opacity=\"1\" d=\"M 484.0 435.0  A 58 58 0 0 0 525.571 326.705  A 58 58 0 0 0 484.0 435.0 \" stroke-linecap=\"round\" style=\"stroke:purple;stroke-width:2\" fill=\"purple\" />\n",
              "        \n",
              "        \n",
              "        <g id=\"classic\" visibility=\"visible\" transform=\"rotate(-69.0,484.0,435.0) translate(484.0, 435.0)\">\n",
              "<polygon points=\"-5,-4.5 0,-2.5 5,-4.5 0,4.5\" transform=\"skewX(0) scale(1,1)\" style=\"stroke:purple;fill:purple;stroke-width:1\" />\n",
              "</g>\n",
              "      </svg>\n",
              "    "
            ]
          },
          "metadata": {}
        },
        {
          "output_type": "stream",
          "name": "stdout",
          "text": [
            "Drawing 9: [{'Shape1': {'turn_angle': 20, 'move_distance': 22, 'position': (-146, -155), 'color': 'green', 'size': 42, 'shape': 'triangle'}}, {'Shape2': {'turn_angle': 57, 'move_distance': 45, 'position': (65, -124), 'color': 'green', 'size': 36, 'shape': 'circle'}}, {'Shape3': {'turn_angle': -30, 'move_distance': 40, 'position': (-83, -125), 'color': 'blue', 'size': 14, 'shape': 'square'}}, {'Shape4': {'turn_angle': -51, 'move_distance': 18, 'position': (-113, -133), 'color': 'pink', 'size': 92, 'shape': 'square'}}, {'Shape5': {'turn_angle': 96, 'move_distance': 37, 'position': (-131, -8), 'color': 'pink', 'size': 73, 'shape': 'triangle'}}, {'Shape6': {'turn_angle': 17, 'move_distance': 48, 'position': (74, 100), 'color': 'green', 'size': 83, 'shape': 'star'}}, {'Shape7': {'turn_angle': -165, 'move_distance': 39, 'position': (-16, 142), 'color': 'red', 'size': 26, 'shape': 'square'}}, {'Shape8': {'turn_angle': 28, 'move_distance': 19, 'position': (192, 123), 'color': 'orange', 'size': 29, 'shape': 'star'}}, {'Shape9': {'turn_angle': 39, 'move_distance': 36, 'position': (74, 170), 'color': 'yellow', 'size': 19, 'shape': 'star'}}, {'Shape10': {'turn_angle': -153, 'move_distance': 29, 'position': (160, -130), 'color': 'red', 'size': 40, 'shape': 'triangle'}}, {'Shape11': {'turn_angle': 72, 'move_distance': 38, 'position': (137, -141), 'color': 'blue', 'size': 97, 'shape': 'triangle'}}, {'Shape12': {'turn_angle': 167, 'move_distance': 11, 'position': (-49, -126), 'color': 'purple', 'size': 93, 'shape': 'triangle'}}, {'Shape13': {'turn_angle': -104, 'move_distance': 10, 'position': (189, 141), 'color': 'purple', 'size': 66, 'shape': 'circle'}}, {'Shape14': {'turn_angle': -45, 'move_distance': 45, 'position': (149, -40), 'color': 'red', 'size': 16, 'shape': 'circle'}}, {'Shape15': {'turn_angle': -62, 'move_distance': 12, 'position': (19, 37), 'color': 'red', 'size': 46, 'shape': 'square'}}, {'Shape16': {'turn_angle': -59, 'move_distance': 36, 'position': (-50, 167), 'color': 'yellow', 'size': 62, 'shape': 'circle'}}, {'Shape17': {'turn_angle': -30, 'move_distance': 46, 'position': (-91, -142), 'color': 'orange', 'size': 61, 'shape': 'circle'}}, {'Shape18': {'turn_angle': 100, 'move_distance': 41, 'position': (168, 106), 'color': 'pink', 'size': 32, 'shape': 'star'}}, {'Shape19': {'turn_angle': 26, 'move_distance': 40, 'position': (-147, 25), 'color': 'green', 'size': 10, 'shape': 'star'}}, {'Shape20': {'turn_angle': 66, 'move_distance': 13, 'position': (-102, 112), 'color': 'purple', 'size': 36, 'shape': 'star'}}, {'Shape21': {'turn_angle': 53, 'move_distance': 20, 'position': (-130, 135), 'color': 'pink', 'size': 31, 'shape': 'square'}}, {'Shape22': {'turn_angle': -113, 'move_distance': 46, 'position': (176, 95), 'color': 'pink', 'size': 63, 'shape': 'circle'}}, {'Shape23': {'turn_angle': -61, 'move_distance': 10, 'position': (-26, 153), 'color': 'red', 'size': 53, 'shape': 'circle'}}, {'Shape24': {'turn_angle': -65, 'move_distance': 11, 'position': (-79, -122), 'color': 'yellow', 'size': 60, 'shape': 'star'}}, {'Shape25': {'turn_angle': -22, 'move_distance': 50, 'position': (-108, 64), 'color': 'purple', 'size': 69, 'shape': 'triangle'}}, {'Shape26': {'turn_angle': 147, 'move_distance': 22, 'position': (7, 110), 'color': 'pink', 'size': 33, 'shape': 'square'}}, {'Shape27': {'turn_angle': 60, 'move_distance': 35, 'position': (60, 60), 'color': 'purple', 'size': 50, 'shape': 'star'}}, {'Shape28': {'turn_angle': -40, 'move_distance': 18, 'position': (-36, -57), 'color': 'blue', 'size': 95, 'shape': 'triangle'}}, {'Shape29': {'turn_angle': -11, 'move_distance': 47, 'position': (-84, -9), 'color': 'blue', 'size': 50, 'shape': 'triangle'}}, {'Shape30': {'turn_angle': 53, 'move_distance': 23, 'position': (192, -179), 'color': 'pink', 'size': 54, 'shape': 'triangle'}}, {'Shape31': {'turn_angle': -158, 'move_distance': 23, 'position': (46, 93), 'color': 'blue', 'size': 30, 'shape': 'circle'}}, {'Shape32': {'turn_angle': -146, 'move_distance': 11, 'position': (-99, -189), 'color': 'orange', 'size': 62, 'shape': 'triangle'}}, {'Shape33': {'turn_angle': -150, 'move_distance': 45, 'position': (-16, 43), 'color': 'purple', 'size': 15, 'shape': 'square'}}, {'Shape34': {'turn_angle': 98, 'move_distance': 38, 'position': (-173, -152), 'color': 'pink', 'size': 74, 'shape': 'triangle'}}, {'Shape35': {'turn_angle': 121, 'move_distance': 17, 'position': (55, 90), 'color': 'yellow', 'size': 62, 'shape': 'square'}}, {'Shape36': {'turn_angle': -42, 'move_distance': 42, 'position': (59, 53), 'color': 'yellow', 'size': 100, 'shape': 'square'}}, {'Shape37': {'turn_angle': -138, 'move_distance': 10, 'position': (-169, -66), 'color': 'orange', 'size': 71, 'shape': 'square'}}, {'Shape38': {'turn_angle': 31, 'move_distance': 32, 'position': (-135, 193), 'color': 'orange', 'size': 58, 'shape': 'square'}}, {'Shape39': {'turn_angle': -121, 'move_distance': 32, 'position': (18, 131), 'color': 'purple', 'size': 75, 'shape': 'triangle'}}, {'Shape40': {'turn_angle': 112, 'move_distance': 17, 'position': (60, 195), 'color': 'pink', 'size': 17, 'shape': 'square'}}, {'Shape41': {'turn_angle': -113, 'move_distance': 32, 'position': (-128, -184), 'color': 'yellow', 'size': 16, 'shape': 'circle'}}, {'Shape42': {'turn_angle': -129, 'move_distance': 43, 'position': (30, 66), 'color': 'yellow', 'size': 38, 'shape': 'circle'}}, {'Shape43': {'turn_angle': -28, 'move_distance': 44, 'position': (-36, -196), 'color': 'orange', 'size': 39, 'shape': 'star'}}, {'Shape44': {'turn_angle': 112, 'move_distance': 25, 'position': (-43, 191), 'color': 'blue', 'size': 78, 'shape': 'circle'}}, {'Shape45': {'turn_angle': 94, 'move_distance': 30, 'position': (13, -138), 'color': 'green', 'size': 45, 'shape': 'circle'}}, {'Shape46': {'turn_angle': 141, 'move_distance': 42, 'position': (-123, -178), 'color': 'orange', 'size': 89, 'shape': 'circle'}}, {'Shape47': {'turn_angle': -3, 'move_distance': 42, 'position': (-98, 135), 'color': 'yellow', 'size': 81, 'shape': 'circle'}}, {'Shape48': {'turn_angle': 4, 'move_distance': 25, 'position': (22, -63), 'color': 'green', 'size': 15, 'shape': 'triangle'}}, {'Shape49': {'turn_angle': -177, 'move_distance': 13, 'position': (32, 167), 'color': 'purple', 'size': 92, 'shape': 'triangle'}}, {'Shape50': {'turn_angle': -111, 'move_distance': 17, 'position': (84, -35), 'color': 'purple', 'size': 58, 'shape': 'circle'}}]\n",
            "file written\n"
          ]
        }
      ]
    },
    {
      "cell_type": "code",
      "source": [
        "pencil.clear()\n",
        "# test the function by calling it 10 times and storing the records into a list of dictionaries\n",
        "records_list = []\n",
        "for i in range(50):\n",
        "    record_name = f\"Shape{i+1}\"\n",
        "    record_dict = draw3()\n",
        "    records_list.append({record_name: record_dict})\n",
        "\n",
        "# print out the list of records\n",
        "print(f'Drawing 10: {records_list}')\n",
        "\n",
        "import json\n",
        "with open('Drawing_10.json', 'w') as json_obj:\n",
        "  json.dump(records_list, json_obj, indent=2)\n",
        "print(\"file written\")\n",
        "\n",
        "#saving a drawing\n",
        "screen_obj = Screen()\n",
        "screen_obj.saveSVG('Elmer_drawing_10.svg', False)"
      ],
      "metadata": {
        "colab": {
          "base_uri": "https://localhost:8080/",
          "height": 872
        },
        "id": "5vnONFdrl5Qr",
        "outputId": "830c5da4-1ab2-4b31-a522-8461e07ef584"
      },
      "execution_count": null,
      "outputs": [
        {
          "output_type": "display_data",
          "data": {
            "text/plain": [
              "<IPython.core.display.HTML object>"
            ],
            "text/html": [
              "\n",
              "      <svg width=\"800\" height=\"800\">  \n",
              "        <rect width=\"100%\" height=\"100%\" style=\"fill:white;stroke:;stroke-width:1\"/>\n",
              "        \n",
              "        \n",
              "        <path fill-rule=\"evenodd\" fill-opacity=\"1\" d=\"M 581.0 387.0  A 88 88 0 0 0 599.397 562.036  A 88 88 0 0 0 581.0 387.0 \" stroke-linecap=\"round\" style=\"stroke:red;stroke-width:2\" fill=\"red\" /><line x1=\"321.0\" y1=\"561.0\" x2=\"332.434\" y2=\"576.174\" stroke-linecap=\"round\" style=\"stroke:red;stroke-width:2\" /><line x1=\"332.434\" y1=\"576.174\" x2=\"317.26\" y2=\"587.608\" stroke-linecap=\"round\" style=\"stroke:red;stroke-width:2\" /><line x1=\"317.26\" y1=\"587.608\" x2=\"305.826\" y2=\"572.434\" stroke-linecap=\"round\" style=\"stroke:red;stroke-width:2\" /><line x1=\"305.826\" y1=\"572.434\" x2=\"321.0\" y2=\"561.0\" stroke-linecap=\"round\" style=\"stroke:red;stroke-width:2\" /><line x1=\"369.0\" y1=\"287.0\" x2=\"379.245\" y2=\"345.104\" stroke-linecap=\"round\" style=\"stroke:red;stroke-width:2\" /><line x1=\"379.245\" y1=\"345.104\" x2=\"321.141\" y2=\"355.349\" stroke-linecap=\"round\" style=\"stroke:red;stroke-width:2\" /><line x1=\"321.141\" y1=\"355.349\" x2=\"310.896\" y2=\"297.245\" stroke-linecap=\"round\" style=\"stroke:red;stroke-width:2\" /><line x1=\"310.896\" y1=\"297.245\" x2=\"369.0\" y2=\"287.0\" stroke-linecap=\"round\" style=\"stroke:red;stroke-width:2\" /><line x1=\"248.0\" y1=\"292.0\" x2=\"166.261\" y2=\"306.413\" stroke-linecap=\"round\" style=\"stroke:red;stroke-width:2\" /><line x1=\"166.261\" y1=\"306.413\" x2=\"194.649\" y2=\"228.419\" stroke-linecap=\"round\" style=\"stroke:red;stroke-width:2\" /><line x1=\"194.649\" y1=\"228.419\" x2=\"248.0\" y2=\"292.001\" stroke-linecap=\"round\" style=\"stroke:red;stroke-width:2\" /><line x1=\"554.0\" y1=\"449.0\" x2=\"598.808\" y2=\"374.426\" stroke-linecap=\"round\" style=\"stroke:purple;stroke-width:2\" /><line x1=\"598.808\" y1=\"374.426\" x2=\"673.382\" y2=\"419.234\" stroke-linecap=\"round\" style=\"stroke:purple;stroke-width:2\" /><line x1=\"673.382\" y1=\"419.234\" x2=\"628.574\" y2=\"493.808\" stroke-linecap=\"round\" style=\"stroke:purple;stroke-width:2\" /><line x1=\"628.574\" y1=\"493.808\" x2=\"554.0\" y2=\"449.0\" stroke-linecap=\"round\" style=\"stroke:purple;stroke-width:2\" /><line x1=\"208.0\" y1=\"541.0\" x2=\"241.457\" y2=\"578.157\" stroke-linecap=\"round\" style=\"stroke:red;stroke-width:2\" /><line x1=\"241.457\" y1=\"578.157\" x2=\"192.55\" y2=\"588.553\" stroke-linecap=\"round\" style=\"stroke:red;stroke-width:2\" /><line x1=\"192.55\" y1=\"588.553\" x2=\"208.001\" y2=\"541.0\" stroke-linecap=\"round\" style=\"stroke:red;stroke-width:2\" /><path fill-rule=\"evenodd\" fill-opacity=\"1\" d=\"M 460.0 419.0  A 33 33 0 0 0 394.01 417.848  A 33 33 0 0 0 460.0 419.0 \" stroke-linecap=\"round\" style=\"stroke:pink;stroke-width:2\" fill=\"pink\" /><path fill-rule=\"evenodd\" fill-opacity=\"1\" d=\"M 408.0 385.0  A 11 11 0 0 0 389.343 373.342  A 11 11 0 0 0 408.0 385.0 \" stroke-linecap=\"round\" style=\"stroke:green;stroke-width:2\" fill=\"green\" /><path fill-rule=\"evenodd\" fill-opacity=\"1\" d=\"M 386.0 536.0  L 401.265 614.53  L 342.757 559.97  L 422.161 569.72  L 352.191 608.505  L 386.0 536.0 \" stroke-linecap=\"round\" style=\"stroke:orange;stroke-width:2\" fill=\"orange\" /><path fill-rule=\"evenodd\" fill-opacity=\"1\" d=\"M 328.0 361.0  L 273.122 304.172  L 350.922 317.89  L 279.917 352.521  L 317.005 282.768  L 328.0 360.999 \" stroke-linecap=\"round\" style=\"stroke:orange;stroke-width:2\" fill=\"orange\" /><line x1=\"364.0\" y1=\"381.0\" x2=\"428.237\" y2=\"452.342\" stroke-linecap=\"round\" style=\"stroke:orange;stroke-width:2\" /><line x1=\"428.237\" y1=\"452.342\" x2=\"356.895\" y2=\"516.579\" stroke-linecap=\"round\" style=\"stroke:orange;stroke-width:2\" /><line x1=\"356.895\" y1=\"516.579\" x2=\"292.658\" y2=\"445.237\" stroke-linecap=\"round\" style=\"stroke:orange;stroke-width:2\" /><line x1=\"292.658\" y1=\"445.237\" x2=\"364.0\" y2=\"381.0\" stroke-linecap=\"round\" style=\"stroke:orange;stroke-width:2\" /><line x1=\"315.0\" y1=\"460.0\" x2=\"330.27\" y2=\"516.99\" stroke-linecap=\"round\" style=\"stroke:red;stroke-width:2\" /><line x1=\"330.27\" y1=\"516.99\" x2=\"273.28\" y2=\"501.72\" stroke-linecap=\"round\" style=\"stroke:red;stroke-width:2\" /><line x1=\"273.28\" y1=\"501.72\" x2=\"314.999\" y2=\"460.001\" stroke-linecap=\"round\" style=\"stroke:red;stroke-width:2\" /><line x1=\"351.0\" y1=\"294.0\" x2=\"367.09\" y2=\"278.996\" stroke-linecap=\"round\" style=\"stroke:pink;stroke-width:2\" /><line x1=\"367.09\" y1=\"278.996\" x2=\"372.039\" y2=\"300.432\" stroke-linecap=\"round\" style=\"stroke:pink;stroke-width:2\" /><line x1=\"372.039\" y1=\"300.432\" x2=\"351.0\" y2=\"294.0\" stroke-linecap=\"round\" style=\"stroke:pink;stroke-width:2\" /><line x1=\"224.0\" y1=\"328.0\" x2=\"230.299\" y2=\"355.282\" stroke-linecap=\"round\" style=\"stroke:red;stroke-width:2\" /><line x1=\"230.299\" y1=\"355.282\" x2=\"203.017\" y2=\"361.581\" stroke-linecap=\"round\" style=\"stroke:red;stroke-width:2\" /><line x1=\"203.017\" y1=\"361.581\" x2=\"196.718\" y2=\"334.299\" stroke-linecap=\"round\" style=\"stroke:red;stroke-width:2\" /><line x1=\"196.718\" y1=\"334.299\" x2=\"224.0\" y2=\"328.0\" stroke-linecap=\"round\" style=\"stroke:red;stroke-width:2\" /><line x1=\"530.0\" y1=\"548.0\" x2=\"566.851\" y2=\"565.973\" stroke-linecap=\"round\" style=\"stroke:green;stroke-width:2\" /><line x1=\"566.851\" y1=\"565.973\" x2=\"532.86\" y2=\"588.9\" stroke-linecap=\"round\" style=\"stroke:green;stroke-width:2\" /><line x1=\"532.86\" y1=\"588.9\" x2=\"530.0\" y2=\"548.0\" stroke-linecap=\"round\" style=\"stroke:green;stroke-width:2\" /><line x1=\"554.0\" y1=\"569.0\" x2=\"546.512\" y2=\"547.253\" stroke-linecap=\"round\" style=\"stroke:blue;stroke-width:2\" /><line x1=\"546.512\" y1=\"547.253\" x2=\"569.089\" y2=\"551.642\" stroke-linecap=\"round\" style=\"stroke:blue;stroke-width:2\" /><line x1=\"569.089\" y1=\"551.642\" x2=\"554.0\" y2=\"569.0\" stroke-linecap=\"round\" style=\"stroke:blue;stroke-width:2\" /><line x1=\"342.0\" y1=\"346.0\" x2=\"391.562\" y2=\"422.319\" stroke-linecap=\"round\" style=\"stroke:red;stroke-width:2\" /><line x1=\"391.562\" y1=\"422.319\" x2=\"300.687\" y2=\"427.082\" stroke-linecap=\"round\" style=\"stroke:red;stroke-width:2\" /><line x1=\"300.687\" y1=\"427.082\" x2=\"342.0\" y2=\"346.0\" stroke-linecap=\"round\" style=\"stroke:red;stroke-width:2\" /><line x1=\"322.0\" y1=\"207.0\" x2=\"345.943\" y2=\"161.97\" stroke-linecap=\"round\" style=\"stroke:yellow;stroke-width:2\" /><line x1=\"345.943\" y1=\"161.97\" x2=\"390.973\" y2=\"185.913\" stroke-linecap=\"round\" style=\"stroke:yellow;stroke-width:2\" /><line x1=\"390.973\" y1=\"185.913\" x2=\"367.03\" y2=\"230.943\" stroke-linecap=\"round\" style=\"stroke:yellow;stroke-width:2\" /><line x1=\"367.03\" y1=\"230.943\" x2=\"322.0\" y2=\"207.0\" stroke-linecap=\"round\" style=\"stroke:yellow;stroke-width:2\" /><path fill-rule=\"evenodd\" fill-opacity=\"1\" d=\"M 464.0 561.0  A 89 89 0 0 0 442.307 384.327  A 89 89 0 0 0 464.0 561.0 \" stroke-linecap=\"round\" style=\"stroke:green;stroke-width:2\" fill=\"green\" /><line x1=\"205.0\" y1=\"216.0\" x2=\"176.895\" y2=\"256.138\" stroke-linecap=\"round\" style=\"stroke:purple;stroke-width:2\" /><line x1=\"176.895\" y1=\"256.138\" x2=\"136.757\" y2=\"228.033\" stroke-linecap=\"round\" style=\"stroke:purple;stroke-width:2\" /><line x1=\"136.757\" y1=\"228.033\" x2=\"164.862\" y2=\"187.895\" stroke-linecap=\"round\" style=\"stroke:purple;stroke-width:2\" /><line x1=\"164.862\" y1=\"187.895\" x2=\"205.0\" y2=\"216.0\" stroke-linecap=\"round\" style=\"stroke:purple;stroke-width:2\" /><path fill-rule=\"evenodd\" fill-opacity=\"1\" d=\"M 564.0 213.0  L 545.83 207.445  L 563.795 201.259  L 552.897 216.823  L 552.565 197.826  L 563.999 213.0 \" stroke-linecap=\"round\" style=\"stroke:purple;stroke-width:2\" fill=\"purple\" /><line x1=\"464.0\" y1=\"502.0\" x2=\"420.119\" y2=\"461.08\" stroke-linecap=\"round\" style=\"stroke:orange;stroke-width:2\" /><line x1=\"420.119\" y1=\"461.08\" x2=\"477.497\" y2=\"443.538\" stroke-linecap=\"round\" style=\"stroke:orange;stroke-width:2\" /><line x1=\"477.497\" y1=\"443.538\" x2=\"464.0\" y2=\"502.0\" stroke-linecap=\"round\" style=\"stroke:orange;stroke-width:2\" /><line x1=\"467.0\" y1=\"414.0\" x2=\"534.898\" y2=\"393.242\" stroke-linecap=\"round\" style=\"stroke:orange;stroke-width:2\" /><line x1=\"534.898\" y1=\"393.242\" x2=\"518.926\" y2=\"462.422\" stroke-linecap=\"round\" style=\"stroke:orange;stroke-width:2\" /><line x1=\"518.926\" y1=\"462.422\" x2=\"467.0\" y2=\"414.0\" stroke-linecap=\"round\" style=\"stroke:orange;stroke-width:2\" /><line x1=\"566.0\" y1=\"235.0\" x2=\"569.138\" y2=\"270.863\" stroke-linecap=\"round\" style=\"stroke:purple;stroke-width:2\" /><line x1=\"569.138\" y1=\"270.863\" x2=\"536.511\" y2=\"255.649\" stroke-linecap=\"round\" style=\"stroke:purple;stroke-width:2\" /><line x1=\"536.511\" y1=\"255.649\" x2=\"566.0\" y2=\"235.0\" stroke-linecap=\"round\" style=\"stroke:purple;stroke-width:2\" /><path fill-rule=\"evenodd\" fill-opacity=\"1\" d=\"M 320.0 358.0  L 347.28 387.254  L 308.015 379.622  L 344.267 362.717  L 324.875 397.702  L 320.0 358.0 \" stroke-linecap=\"round\" style=\"stroke:yellow;stroke-width:2\" fill=\"yellow\" /><path fill-rule=\"evenodd\" fill-opacity=\"1\" d=\"M 254.0 265.0  A 21 21 0 0 0 230.514 230.18  A 21 21 0 0 0 254.0 265.0 \" stroke-linecap=\"round\" style=\"stroke:pink;stroke-width:2\" fill=\"pink\" /><line x1=\"578.0\" y1=\"313.0\" x2=\"528.0\" y2=\"313.0\" stroke-linecap=\"round\" style=\"stroke:purple;stroke-width:2\" /><line x1=\"528.0\" y1=\"313.0\" x2=\"528.0\" y2=\"263.0\" stroke-linecap=\"round\" style=\"stroke:purple;stroke-width:2\" /><line x1=\"528.0\" y1=\"263.0\" x2=\"578.0\" y2=\"263.0\" stroke-linecap=\"round\" style=\"stroke:purple;stroke-width:2\" /><line x1=\"578.0\" y1=\"263.0\" x2=\"578.0\" y2=\"313.0\" stroke-linecap=\"round\" style=\"stroke:purple;stroke-width:2\" /><path fill-rule=\"evenodd\" fill-opacity=\"1\" d=\"M 585.0 520.0  L 576.093 583.377  L 546.047 526.868  L 603.57 554.924  L 540.542 566.037  L 585.0 519.999 \" stroke-linecap=\"round\" style=\"stroke:blue;stroke-width:2\" fill=\"blue\" /><line x1=\"293.0\" y1=\"310.0\" x2=\"245.321\" y2=\"335.351\" stroke-linecap=\"round\" style=\"stroke:pink;stroke-width:2\" /><line x1=\"245.321\" y1=\"335.351\" x2=\"219.97\" y2=\"287.672\" stroke-linecap=\"round\" style=\"stroke:pink;stroke-width:2\" /><line x1=\"219.97\" y1=\"287.672\" x2=\"267.649\" y2=\"262.321\" stroke-linecap=\"round\" style=\"stroke:pink;stroke-width:2\" /><line x1=\"267.649\" y1=\"262.321\" x2=\"293.0\" y2=\"310.0\" stroke-linecap=\"round\" style=\"stroke:pink;stroke-width:2\" /><line x1=\"261.0\" y1=\"320.0\" x2=\"245.75\" y2=\"343.483\" stroke-linecap=\"round\" style=\"stroke:orange;stroke-width:2\" /><line x1=\"245.75\" y1=\"343.483\" x2=\"222.267\" y2=\"328.233\" stroke-linecap=\"round\" style=\"stroke:orange;stroke-width:2\" /><line x1=\"222.267\" y1=\"328.233\" x2=\"237.517\" y2=\"304.75\" stroke-linecap=\"round\" style=\"stroke:orange;stroke-width:2\" /><line x1=\"237.517\" y1=\"304.75\" x2=\"261.0\" y2=\"320.0\" stroke-linecap=\"round\" style=\"stroke:orange;stroke-width:2\" /><path fill-rule=\"evenodd\" fill-opacity=\"1\" d=\"M 243.0 337.0  A 19 19 0 0 0 205.37 331.711  A 19 19 0 0 0 243.0 337.0 \" stroke-linecap=\"round\" style=\"stroke:pink;stroke-width:2\" fill=\"pink\" /><line x1=\"435.0\" y1=\"439.0\" x2=\"455.447\" y2=\"515.308\" stroke-linecap=\"round\" style=\"stroke:pink;stroke-width:2\" /><line x1=\"455.447\" y1=\"515.308\" x2=\"379.139\" y2=\"535.755\" stroke-linecap=\"round\" style=\"stroke:pink;stroke-width:2\" /><line x1=\"379.139\" y1=\"535.755\" x2=\"358.692\" y2=\"459.447\" stroke-linecap=\"round\" style=\"stroke:pink;stroke-width:2\" /><line x1=\"358.692\" y1=\"459.447\" x2=\"435.0\" y2=\"439.0\" stroke-linecap=\"round\" style=\"stroke:pink;stroke-width:2\" /><line x1=\"426.0\" y1=\"498.0\" x2=\"413.662\" y2=\"448.515\" stroke-linecap=\"round\" style=\"stroke:blue;stroke-width:2\" /><line x1=\"413.662\" y1=\"448.515\" x2=\"463.147\" y2=\"436.177\" stroke-linecap=\"round\" style=\"stroke:blue;stroke-width:2\" /><line x1=\"463.147\" y1=\"436.177\" x2=\"475.485\" y2=\"485.662\" stroke-linecap=\"round\" style=\"stroke:blue;stroke-width:2\" /><line x1=\"475.485\" y1=\"485.662\" x2=\"426.0\" y2=\"498.0\" stroke-linecap=\"round\" style=\"stroke:blue;stroke-width:2\" /><path fill-rule=\"evenodd\" fill-opacity=\"1\" d=\"M 363.0 264.0  A 55 55 0 0 0 308.0 359.263  A 55 55 0 0 0 363.0 264.0 \" stroke-linecap=\"round\" style=\"stroke:red;stroke-width:2\" fill=\"red\" /><line x1=\"576.0\" y1=\"568.0\" x2=\"588.434\" y2=\"578.069\" stroke-linecap=\"round\" style=\"stroke:blue;stroke-width:2\" /><line x1=\"588.434\" y1=\"578.069\" x2=\"573.497\" y2=\"583.803\" stroke-linecap=\"round\" style=\"stroke:blue;stroke-width:2\" /><line x1=\"573.497\" y1=\"583.803\" x2=\"576.0\" y2=\"568.0\" stroke-linecap=\"round\" style=\"stroke:blue;stroke-width:2\" /><path fill-rule=\"evenodd\" fill-opacity=\"1\" d=\"M 526.0 350.0  A 30 30 0 0 0 541.529 407.956  A 30 30 0 0 0 526.0 350.0 \" stroke-linecap=\"round\" style=\"stroke:orange;stroke-width:2\" fill=\"orange\" /><line x1=\"507.0\" y1=\"454.0\" x2=\"485.271\" y2=\"450.558\" stroke-linecap=\"round\" style=\"stroke:green;stroke-width:2\" /><line x1=\"485.271\" y1=\"450.558\" x2=\"488.713\" y2=\"428.829\" stroke-linecap=\"round\" style=\"stroke:green;stroke-width:2\" /><line x1=\"488.713\" y1=\"428.829\" x2=\"510.442\" y2=\"432.271\" stroke-linecap=\"round\" style=\"stroke:green;stroke-width:2\" /><line x1=\"510.442\" y1=\"432.271\" x2=\"507.0\" y2=\"454.0\" stroke-linecap=\"round\" style=\"stroke:green;stroke-width:2\" /><path fill-rule=\"evenodd\" fill-opacity=\"1\" d=\"M 420.0 521.0  A 33 33 0 0 0 484.787 508.407  A 33 33 0 0 0 420.0 521.0 \" stroke-linecap=\"round\" style=\"stroke:orange;stroke-width:2\" fill=\"orange\" /><path fill-rule=\"evenodd\" fill-opacity=\"1\" d=\"M 324.0 216.0  L 298.123 165.213  L 348.91 191.09  L 292.612 200.007  L 332.917 159.702  L 324.0 216.0 \" stroke-linecap=\"round\" style=\"stroke:green;stroke-width:2\" fill=\"green\" /><path fill-rule=\"evenodd\" fill-opacity=\"1\" d=\"M 556.0 373.0  A 32 32 0 0 0 599.648 419.807  A 32 32 0 0 0 556.0 373.0 \" stroke-linecap=\"round\" style=\"stroke:pink;stroke-width:2\" fill=\"pink\" /><line x1=\"319.0\" y1=\"208.0\" x2=\"336.581\" y2=\"259.058\" stroke-linecap=\"round\" style=\"stroke:red;stroke-width:2\" /><line x1=\"336.581\" y1=\"259.058\" x2=\"285.523\" y2=\"276.639\" stroke-linecap=\"round\" style=\"stroke:red;stroke-width:2\" /><line x1=\"285.523\" y1=\"276.639\" x2=\"267.942\" y2=\"225.581\" stroke-linecap=\"round\" style=\"stroke:red;stroke-width:2\" /><line x1=\"267.942\" y1=\"225.581\" x2=\"319.0\" y2=\"208.0\" stroke-linecap=\"round\" style=\"stroke:red;stroke-width:2\" /><path fill-rule=\"evenodd\" fill-opacity=\"1\" d=\"M 503.0 344.0  A 95 95 0 0 0 416.742 513.291  A 95 95 0 0 0 503.0 344.0 \" stroke-linecap=\"round\" style=\"stroke:pink;stroke-width:2\" fill=\"pink\" /><line x1=\"421.0\" y1=\"308.0\" x2=\"440.734\" y2=\"315.182\" stroke-linecap=\"round\" style=\"stroke:blue;stroke-width:2\" /><line x1=\"440.734\" y1=\"315.182\" x2=\"433.552\" y2=\"334.916\" stroke-linecap=\"round\" style=\"stroke:blue;stroke-width:2\" /><line x1=\"433.552\" y1=\"334.916\" x2=\"413.818\" y2=\"327.734\" stroke-linecap=\"round\" style=\"stroke:blue;stroke-width:2\" /><line x1=\"413.818\" y1=\"327.734\" x2=\"421.0\" y2=\"308.0\" stroke-linecap=\"round\" style=\"stroke:blue;stroke-width:2\" /><path fill-rule=\"evenodd\" fill-opacity=\"1\" d=\"M 586.0 465.0  A 39 39 0 0 0 583.278 387.048  A 39 39 0 0 0 586.0 465.0 \" stroke-linecap=\"round\" style=\"stroke:blue;stroke-width:2\" fill=\"blue\" /><path fill-rule=\"evenodd\" fill-opacity=\"1\" d=\"M 555.0 529.0  L 530.066 475.528  L 581.669 504.132  L 523.109 511.322  L 566.259 471.084  L 555.001 529.0 \" stroke-linecap=\"round\" style=\"stroke:blue;stroke-width:2\" fill=\"blue\" /><line x1=\"546.0\" y1=\"321.0\" x2=\"507.188\" y2=\"330.677\" stroke-linecap=\"round\" style=\"stroke:green;stroke-width:2\" /><line x1=\"507.188\" y1=\"330.677\" x2=\"497.511\" y2=\"291.865\" stroke-linecap=\"round\" style=\"stroke:green;stroke-width:2\" /><line x1=\"497.511\" y1=\"291.865\" x2=\"536.323\" y2=\"282.188\" stroke-linecap=\"round\" style=\"stroke:green;stroke-width:2\" /><line x1=\"536.323\" y1=\"282.188\" x2=\"546.0\" y2=\"321.0\" stroke-linecap=\"round\" style=\"stroke:green;stroke-width:2\" /><path fill-rule=\"evenodd\" fill-opacity=\"1\" d=\"M 290.0 322.0  L 283.463 247.285  L 332.667 303.888  L 259.589 287.017  L 328.627 257.712  L 289.999 322.0 \" stroke-linecap=\"round\" style=\"stroke:green;stroke-width:2\" fill=\"green\" /><path fill-rule=\"evenodd\" fill-opacity=\"1\" d=\"M 200.0 554.0  L 248.548 498.151  L 242.098 571.869  L 203.985 508.439  L 272.102 537.353  L 199.999 553.999 \" stroke-linecap=\"round\" style=\"stroke:yellow;stroke-width:2\" fill=\"yellow\" /><path fill-rule=\"evenodd\" fill-opacity=\"1\" d=\"M 532.0 264.0  L 475.555 271.933  L 516.557 232.337  L 506.659 288.471  L 481.672 237.24  L 532.0 264.0 \" stroke-linecap=\"round\" style=\"stroke:blue;stroke-width:2\" fill=\"blue\" /><path fill-rule=\"evenodd\" fill-opacity=\"1\" d=\"M 229.0 483.0  A 54 54 0 0 0 312.932 415.033  A 54 54 0 0 0 229.0 483.0 \" stroke-linecap=\"round\" style=\"stroke:purple;stroke-width:2\" fill=\"purple\" />\n",
              "        \n",
              "        \n",
              "        <g id=\"classic\" visibility=\"visible\" transform=\"rotate(-39.0,229.0,483.0) translate(229.0, 483.0)\">\n",
              "<polygon points=\"-5,-4.5 0,-2.5 5,-4.5 0,4.5\" transform=\"skewX(0) scale(1,1)\" style=\"stroke:purple;fill:purple;stroke-width:1\" />\n",
              "</g>\n",
              "      </svg>\n",
              "    "
            ]
          },
          "metadata": {}
        },
        {
          "output_type": "stream",
          "name": "stdout",
          "text": [
            "Drawing 10: [{'Shape1': {'turn_angle': 153, 'move_distance': 23, 'position': (181, 13), 'color': 'red', 'size': 88, 'shape': 'circle'}}, {'Shape2': {'turn_angle': -121, 'move_distance': 24, 'position': (-79, -161), 'color': 'red', 'size': 19, 'shape': 'square'}}, {'Shape3': {'turn_angle': 27, 'move_distance': 49, 'position': (-31, 113), 'color': 'red', 'size': 59, 'shape': 'square'}}, {'Shape4': {'turn_angle': 90, 'move_distance': 17, 'position': (-152, 108), 'color': 'red', 'size': 83, 'shape': 'triangle'}}, {'Shape5': {'turn_angle': 131, 'move_distance': 32, 'position': (154, -49), 'color': 'purple', 'size': 87, 'shape': 'square'}}, {'Shape6': {'turn_angle': 107, 'move_distance': 42, 'position': (-192, -141), 'color': 'red', 'size': 50, 'shape': 'triangle'}}, {'Shape7': {'turn_angle': -137, 'move_distance': 11, 'position': (60, -19), 'color': 'pink', 'size': 33, 'shape': 'circle'}}, {'Shape8': {'turn_angle': 31, 'move_distance': 50, 'position': (8, 15), 'color': 'green', 'size': 11, 'shape': 'circle'}}, {'Shape9': {'turn_angle': 137, 'move_distance': 34, 'position': (-14, -136), 'color': 'orange', 'size': 80, 'shape': 'star'}}, {'Shape10': {'turn_angle': 147, 'move_distance': 32, 'position': (-72, 39), 'color': 'orange', 'size': 79, 'shape': 'star'}}, {'Shape11': {'turn_angle': -178, 'move_distance': 21, 'position': (-36, 19), 'color': 'orange', 'size': 96, 'shape': 'square'}}, {'Shape12': {'turn_angle': 27, 'move_distance': 25, 'position': (-85, -60), 'color': 'red', 'size': 59, 'shape': 'triangle'}}, {'Shape13': {'turn_angle': -118, 'move_distance': 32, 'position': (-49, 106), 'color': 'pink', 'size': 22, 'shape': 'triangle'}}, {'Shape14': {'turn_angle': 120, 'move_distance': 17, 'position': (-176, 72), 'color': 'red', 'size': 28, 'shape': 'square'}}, {'Shape15': {'turn_angle': -51, 'move_distance': 17, 'position': (130, -148), 'color': 'green', 'size': 41, 'shape': 'triangle'}}, {'Shape16': {'turn_angle': -135, 'move_distance': 38, 'position': (154, -169), 'color': 'blue', 'size': 23, 'shape': 'triangle'}}, {'Shape17': {'turn_angle': 166, 'move_distance': 40, 'position': (-58, 54), 'color': 'red', 'size': 91, 'shape': 'triangle'}}, {'Shape18': {'turn_angle': -119, 'move_distance': 16, 'position': (-78, 193), 'color': 'yellow', 'size': 51, 'shape': 'square'}}, {'Shape19': {'turn_angle': 55, 'move_distance': 40, 'position': (64, -161), 'color': 'green', 'size': 89, 'shape': 'circle'}}, {'Shape20': {'turn_angle': 132, 'move_distance': 49, 'position': (-195, 184), 'color': 'purple', 'size': 49, 'shape': 'square'}}, {'Shape21': {'turn_angle': 72, 'move_distance': 39, 'position': (164, 187), 'color': 'purple', 'size': 19, 'shape': 'star'}}, {'Shape22': {'turn_angle': 26, 'move_distance': 41, 'position': (64, -102), 'color': 'orange', 'size': 60, 'shape': 'triangle'}}, {'Shape23': {'turn_angle': 120, 'move_distance': 15, 'position': (67, -14), 'color': 'orange', 'size': 71, 'shape': 'triangle'}}, {'Shape24': {'turn_angle': 102, 'move_distance': 18, 'position': (166, 165), 'color': 'purple', 'size': 36, 'shape': 'triangle'}}, {'Shape25': {'turn_angle': -38, 'move_distance': 42, 'position': (-80, 42), 'color': 'yellow', 'size': 40, 'shape': 'star'}}, {'Shape26': {'turn_angle': -81, 'move_distance': 13, 'position': (-146, 135), 'color': 'pink', 'size': 21, 'shape': 'circle'}}, {'Shape27': {'turn_angle': -146, 'move_distance': 41, 'position': (178, 87), 'color': 'purple', 'size': 50, 'shape': 'square'}}, {'Shape28': {'turn_angle': -82, 'move_distance': 28, 'position': (185, -120), 'color': 'blue', 'size': 64, 'shape': 'star'}}, {'Shape29': {'turn_angle': 54, 'move_distance': 31, 'position': (-107, 90), 'color': 'pink', 'size': 54, 'shape': 'square'}}, {'Shape30': {'turn_angle': -29, 'move_distance': 17, 'position': (-139, 80), 'color': 'orange', 'size': 28, 'shape': 'square'}}, {'Shape31': {'turn_angle': 155, 'move_distance': 17, 'position': (-157, 63), 'color': 'pink', 'size': 19, 'shape': 'circle'}}, {'Shape32': {'turn_angle': 157, 'move_distance': 41, 'position': (35, -39), 'color': 'pink', 'size': 79, 'shape': 'square'}}, {'Shape33': {'turn_angle': -179, 'move_distance': 16, 'position': (26, -98), 'color': 'blue', 'size': 51, 'shape': 'square'}}, {'Shape34': {'turn_angle': -46, 'move_distance': 16, 'position': (-37, 136), 'color': 'red', 'size': 55, 'shape': 'circle'}}, {'Shape35': {'turn_angle': -171, 'move_distance': 45, 'position': (176, -168), 'color': 'blue', 'size': 16, 'shape': 'triangle'}}, {'Shape36': {'turn_angle': 126, 'move_distance': 44, 'position': (126, 50), 'color': 'orange', 'size': 30, 'shape': 'circle'}}, {'Shape37': {'turn_angle': 24, 'move_distance': 34, 'position': (107, -54), 'color': 'green', 'size': 22, 'shape': 'square'}}, {'Shape38': {'turn_angle': -110, 'move_distance': 19, 'position': (20, -121), 'color': 'orange', 'size': 33, 'shape': 'circle'}}, {'Shape39': {'turn_angle': 164, 'move_distance': 49, 'position': (-76, 184), 'color': 'green', 'size': 57, 'shape': 'star'}}, {'Shape40': {'turn_angle': -106, 'move_distance': 43, 'position': (156, 27), 'color': 'pink', 'size': 32, 'shape': 'circle'}}, {'Shape41': {'turn_angle': -66, 'move_distance': 22, 'position': (-81, 192), 'color': 'red', 'size': 54, 'shape': 'square'}}, {'Shape42': {'turn_angle': 136, 'move_distance': 19, 'position': (103, 56), 'color': 'pink', 'size': 95, 'shape': 'circle'}}, {'Shape43': {'turn_angle': 173, 'move_distance': 13, 'position': (21, 92), 'color': 'blue', 'size': 21, 'shape': 'square'}}, {'Shape44': {'turn_angle': -22, 'move_distance': 31, 'position': (186, -65), 'color': 'blue', 'size': 39, 'shape': 'circle'}}, {'Shape45': {'turn_angle': -113, 'move_distance': 23, 'position': (155, -129), 'color': 'blue', 'size': 59, 'shape': 'star'}}, {'Shape46': {'turn_angle': -79, 'move_distance': 22, 'position': (146, 79), 'color': 'green', 'size': 40, 'shape': 'square'}}, {'Shape47': {'turn_angle': 99, 'move_distance': 24, 'position': (-110, 78), 'color': 'green', 'size': 75, 'shape': 'star'}}, {'Shape48': {'turn_angle': 46, 'move_distance': 39, 'position': (-200, -154), 'color': 'yellow', 'size': 74, 'shape': 'star'}}, {'Shape49': {'turn_angle': -139, 'move_distance': 15, 'position': (132, 136), 'color': 'blue', 'size': 57, 'shape': 'star'}}, {'Shape50': {'turn_angle': -121, 'move_distance': 22, 'position': (-171, -83), 'color': 'purple', 'size': 54, 'shape': 'circle'}}]\n",
            "file written\n"
          ]
        }
      ]
    },
    {
      "cell_type": "code",
      "source": [
        "pencil.clear()\n",
        "# test the function by calling it 10 times and storing the records into a list of dictionaries\n",
        "records_list = []\n",
        "for i in range(20):\n",
        "    record_name = f\"Shape{i+1}\"\n",
        "    record_dict = draw3()\n",
        "    records_list.append({record_name: record_dict})\n",
        "\n",
        "# print out the list of records\n",
        "print(f'Drawing 11: {records_list}')\n",
        "\n",
        "import json\n",
        "with open('Drawing_11.json', 'w') as json_obj:\n",
        "  json.dump(records_list, json_obj, indent=2)\n",
        "print(\"file written\")\n",
        "\n",
        "#saving a drawing\n",
        "screen_obj = Screen()\n",
        "screen_obj.saveSVG('Elmer_drawing_11.svg', False)"
      ],
      "metadata": {
        "colab": {
          "base_uri": "https://localhost:8080/",
          "height": 872
        },
        "id": "LBrReY1z0i6E",
        "outputId": "51183999-4fb5-419e-fcb0-1b3b52f9c068"
      },
      "execution_count": null,
      "outputs": [
        {
          "output_type": "display_data",
          "data": {
            "text/plain": [
              "<IPython.core.display.HTML object>"
            ],
            "text/html": [
              "\n",
              "      <svg width=\"800\" height=\"800\">  \n",
              "        <rect width=\"100%\" height=\"100%\" style=\"fill:white;stroke:;stroke-width:1\"/>\n",
              "        \n",
              "        \n",
              "        <line x1=\"476.0\" y1=\"433.0\" x2=\"459.224\" y2=\"441.92\" stroke-linecap=\"round\" style=\"stroke:pink;stroke-width:2\" /><line x1=\"459.224\" y1=\"441.92\" x2=\"459.887\" y2=\"422.932\" stroke-linecap=\"round\" style=\"stroke:pink;stroke-width:2\" /><line x1=\"459.887\" y1=\"422.932\" x2=\"476.0\" y2=\"433.0\" stroke-linecap=\"round\" style=\"stroke:pink;stroke-width:2\" /><path fill-rule=\"evenodd\" fill-opacity=\"1\" d=\"M 478.0 351.0  A 91 91 0 0 0 621.418 238.95  A 91 91 0 0 0 478.0 351.0 \" stroke-linecap=\"round\" style=\"stroke:blue;stroke-width:2\" fill=\"blue\" /><path fill-rule=\"evenodd\" fill-opacity=\"1\" d=\"M 356.0 395.0  L 351.776 368.332  L 370.868 387.424  L 344.2 383.2  L 368.257 370.942  L 355.999 394.999 \" stroke-linecap=\"round\" style=\"stroke:red;stroke-width:2\" fill=\"red\" /><line x1=\"200.0\" y1=\"301.0\" x2=\"205.226\" y2=\"350.726\" stroke-linecap=\"round\" style=\"stroke:pink;stroke-width:2\" /><line x1=\"205.226\" y1=\"350.726\" x2=\"155.5\" y2=\"355.952\" stroke-linecap=\"round\" style=\"stroke:pink;stroke-width:2\" /><line x1=\"155.5\" y1=\"355.952\" x2=\"150.274\" y2=\"306.226\" stroke-linecap=\"round\" style=\"stroke:pink;stroke-width:2\" /><line x1=\"150.274\" y1=\"306.226\" x2=\"200.0\" y2=\"301.0\" stroke-linecap=\"round\" style=\"stroke:pink;stroke-width:2\" /><line x1=\"231.0\" y1=\"286.0\" x2=\"261.618\" y2=\"281.151\" stroke-linecap=\"round\" style=\"stroke:pink;stroke-width:2\" /><line x1=\"261.618\" y1=\"281.151\" x2=\"250.509\" y2=\"310.092\" stroke-linecap=\"round\" style=\"stroke:pink;stroke-width:2\" /><line x1=\"250.509\" y1=\"310.092\" x2=\"231.0\" y2=\"286.0\" stroke-linecap=\"round\" style=\"stroke:pink;stroke-width:2\" /><line x1=\"284.0\" y1=\"361.0\" x2=\"374.35\" y2=\"331.643\" stroke-linecap=\"round\" style=\"stroke:pink;stroke-width:2\" /><line x1=\"374.35\" y1=\"331.643\" x2=\"354.598\" y2=\"424.567\" stroke-linecap=\"round\" style=\"stroke:pink;stroke-width:2\" /><line x1=\"354.598\" y1=\"424.567\" x2=\"283.999\" y2=\"361.0\" stroke-linecap=\"round\" style=\"stroke:pink;stroke-width:2\" /><line x1=\"373.0\" y1=\"431.0\" x2=\"380.718\" y2=\"404.085\" stroke-linecap=\"round\" style=\"stroke:green;stroke-width:2\" /><line x1=\"380.718\" y1=\"404.085\" x2=\"407.633\" y2=\"411.803\" stroke-linecap=\"round\" style=\"stroke:green;stroke-width:2\" /><line x1=\"407.633\" y1=\"411.803\" x2=\"399.915\" y2=\"438.718\" stroke-linecap=\"round\" style=\"stroke:green;stroke-width:2\" /><line x1=\"399.915\" y1=\"438.718\" x2=\"373.0\" y2=\"431.0\" stroke-linecap=\"round\" style=\"stroke:green;stroke-width:2\" /><line x1=\"371.0\" y1=\"590.0\" x2=\"396.605\" y2=\"594.515\" stroke-linecap=\"round\" style=\"stroke:yellow;stroke-width:2\" /><line x1=\"396.605\" y1=\"594.515\" x2=\"392.09\" y2=\"620.12\" stroke-linecap=\"round\" style=\"stroke:yellow;stroke-width:2\" /><line x1=\"392.09\" y1=\"620.12\" x2=\"366.485\" y2=\"615.605\" stroke-linecap=\"round\" style=\"stroke:yellow;stroke-width:2\" /><line x1=\"366.485\" y1=\"615.605\" x2=\"371.0\" y2=\"590.0\" stroke-linecap=\"round\" style=\"stroke:yellow;stroke-width:2\" /><line x1=\"555.0\" y1=\"220.0\" x2=\"622.987\" y2=\"183.851\" stroke-linecap=\"round\" style=\"stroke:pink;stroke-width:2\" /><line x1=\"622.987\" y1=\"183.851\" x2=\"659.136\" y2=\"251.838\" stroke-linecap=\"round\" style=\"stroke:pink;stroke-width:2\" /><line x1=\"659.136\" y1=\"251.838\" x2=\"591.149\" y2=\"287.987\" stroke-linecap=\"round\" style=\"stroke:pink;stroke-width:2\" /><line x1=\"591.149\" y1=\"287.987\" x2=\"555.0\" y2=\"220.0\" stroke-linecap=\"round\" style=\"stroke:pink;stroke-width:2\" /><path fill-rule=\"evenodd\" fill-opacity=\"1\" d=\"M 589.0 239.0  A 64 64 0 0 0 478.149 303.0  A 64 64 0 0 0 589.0 239.0 \" stroke-linecap=\"round\" style=\"stroke:pink;stroke-width:2\" fill=\"pink\" /><line x1=\"270.0\" y1=\"391.0\" x2=\"253.627\" y2=\"337.447\" stroke-linecap=\"round\" style=\"stroke:pink;stroke-width:2\" /><line x1=\"253.627\" y1=\"337.447\" x2=\"308.192\" y2=\"350.044\" stroke-linecap=\"round\" style=\"stroke:pink;stroke-width:2\" /><line x1=\"308.192\" y1=\"350.044\" x2=\"270.0\" y2=\"391.0\" stroke-linecap=\"round\" style=\"stroke:pink;stroke-width:2\" /><line x1=\"330.0\" y1=\"357.0\" x2=\"299.495\" y2=\"288.484\" stroke-linecap=\"round\" style=\"stroke:green;stroke-width:2\" /><line x1=\"299.495\" y1=\"288.484\" x2=\"368.011\" y2=\"257.979\" stroke-linecap=\"round\" style=\"stroke:green;stroke-width:2\" /><line x1=\"368.011\" y1=\"257.979\" x2=\"398.516\" y2=\"326.495\" stroke-linecap=\"round\" style=\"stroke:green;stroke-width:2\" /><line x1=\"398.516\" y1=\"326.495\" x2=\"330.0\" y2=\"357.0\" stroke-linecap=\"round\" style=\"stroke:green;stroke-width:2\" /><path fill-rule=\"evenodd\" fill-opacity=\"1\" d=\"M 585.0 309.0  L 555.699 394.097  L 529.386 308.03  L 601.263 362.193  L 511.277 360.622  L 585.001 309.0 \" stroke-linecap=\"round\" style=\"stroke:red;stroke-width:2\" fill=\"red\" /><path fill-rule=\"evenodd\" fill-opacity=\"1\" d=\"M 439.0 388.0  L 463.725 432.606  L 417.503 411.052  L 467.566 401.321  L 432.784 438.62  L 438.999 388.0 \" stroke-linecap=\"round\" style=\"stroke:red;stroke-width:2\" fill=\"red\" /><line x1=\"497.0\" y1=\"537.0\" x2=\"503.252\" y2=\"522.272\" stroke-linecap=\"round\" style=\"stroke:green;stroke-width:2\" /><line x1=\"503.252\" y1=\"522.272\" x2=\"512.881\" y2=\"535.05\" stroke-linecap=\"round\" style=\"stroke:green;stroke-width:2\" /><line x1=\"512.881\" y1=\"535.05\" x2=\"497.0\" y2=\"537.0\" stroke-linecap=\"round\" style=\"stroke:green;stroke-width:2\" /><path fill-rule=\"evenodd\" fill-opacity=\"1\" d=\"M 280.0 361.0  L 333.795 365.706  L 287.508 393.518  L 308.607 343.811  L 320.754 396.427  L 280.0 361.0 \" stroke-linecap=\"round\" style=\"stroke:pink;stroke-width:2\" fill=\"pink\" /><line x1=\"351.0\" y1=\"549.0\" x2=\"330.602\" y2=\"540.759\" stroke-linecap=\"round\" style=\"stroke:orange;stroke-width:2\" /><line x1=\"330.602\" y1=\"540.759\" x2=\"338.843\" y2=\"520.361\" stroke-linecap=\"round\" style=\"stroke:orange;stroke-width:2\" /><line x1=\"338.843\" y1=\"520.361\" x2=\"359.241\" y2=\"528.602\" stroke-linecap=\"round\" style=\"stroke:orange;stroke-width:2\" /><line x1=\"359.241\" y1=\"528.602\" x2=\"351.0\" y2=\"549.0\" stroke-linecap=\"round\" style=\"stroke:orange;stroke-width:2\" /><line x1=\"229.0\" y1=\"315.0\" x2=\"163.161\" y2=\"310.396\" stroke-linecap=\"round\" style=\"stroke:yellow;stroke-width:2\" /><line x1=\"163.161\" y1=\"310.396\" x2=\"167.765\" y2=\"244.557\" stroke-linecap=\"round\" style=\"stroke:yellow;stroke-width:2\" /><line x1=\"167.765\" y1=\"244.557\" x2=\"233.604\" y2=\"249.161\" stroke-linecap=\"round\" style=\"stroke:yellow;stroke-width:2\" /><line x1=\"233.604\" y1=\"249.161\" x2=\"229.0\" y2=\"315.0\" stroke-linecap=\"round\" style=\"stroke:yellow;stroke-width:2\" /><line x1=\"434.0\" y1=\"462.0\" x2=\"343.23\" y2=\"493.255\" stroke-linecap=\"round\" style=\"stroke:blue;stroke-width:2\" /><line x1=\"343.23\" y1=\"493.255\" x2=\"361.548\" y2=\"399.019\" stroke-linecap=\"round\" style=\"stroke:blue;stroke-width:2\" /><line x1=\"361.548\" y1=\"399.019\" x2=\"434.0\" y2=\"462.001\" stroke-linecap=\"round\" style=\"stroke:blue;stroke-width:2\" /><line x1=\"428.0\" y1=\"417.0\" x2=\"377.68\" y2=\"449.678\" stroke-linecap=\"round\" style=\"stroke:red;stroke-width:2\" /><line x1=\"377.68\" y1=\"449.678\" x2=\"345.002\" y2=\"399.358\" stroke-linecap=\"round\" style=\"stroke:red;stroke-width:2\" /><line x1=\"345.002\" y1=\"399.358\" x2=\"395.322\" y2=\"366.68\" stroke-linecap=\"round\" style=\"stroke:red;stroke-width:2\" /><line x1=\"395.322\" y1=\"366.68\" x2=\"428.0\" y2=\"417.0\" stroke-linecap=\"round\" style=\"stroke:red;stroke-width:2\" />\n",
              "        \n",
              "        \n",
              "        <g id=\"classic\" visibility=\"visible\" transform=\"rotate(-33.0,428.0,417.0) translate(428.0, 417.0)\">\n",
              "<polygon points=\"-5,-4.5 0,-2.5 5,-4.5 0,4.5\" transform=\"skewX(0) scale(1,1)\" style=\"stroke:red;fill:red;stroke-width:1\" />\n",
              "<animateTransform id = \"one\" attributeName=\"transform\" \n",
              "                      type=\"scale\"\n",
              "                      from=\"1 1\" to=\"1 1\"\n",
              "                      begin=\"0s\" dur=\"0.01s\"\n",
              "                      repeatCount=\"1\"\n",
              "                      additive=\"sum\"\n",
              "                      fill=\"freeze\"\n",
              "                /><animateTransform attributeName=\"transform\"\n",
              "                    type=\"rotate\"\n",
              "                    from=\"0 0 0\" to =\"90 0 0\"\n",
              "                    begin=\"one.end\" dur=\"0.25s\"\n",
              "                    repeatCount=\"1\"\n",
              "                    additive=\"sum\"\n",
              "                    fill=\"freeze\"\n",
              "                /></g>\n",
              "      </svg>\n",
              "    "
            ]
          },
          "metadata": {}
        },
        {
          "output_type": "stream",
          "name": "stdout",
          "text": [
            "Drawing 11: [{'Shape1': {'turn_angle': 101, 'move_distance': 45, 'position': (76, -33), 'color': 'pink', 'size': 19, 'shape': 'triangle'}}, {'Shape2': {'turn_angle': -100, 'move_distance': 37, 'position': (78, 49), 'color': 'blue', 'size': 91, 'shape': 'circle'}}, {'Shape3': {'turn_angle': -151, 'move_distance': 31, 'position': (-44, 5), 'color': 'red', 'size': 27, 'shape': 'star'}}, {'Shape4': {'turn_angle': -177, 'move_distance': 24, 'position': (-200, 99), 'color': 'pink', 'size': 50, 'shape': 'square'}}, {'Shape5': {'turn_angle': -93, 'move_distance': 50, 'position': (-169, 114), 'color': 'pink', 'size': 31, 'shape': 'triangle'}}, {'Shape6': {'turn_angle': -9, 'move_distance': 22, 'position': (-116, 39), 'color': 'pink', 'size': 95, 'shape': 'triangle'}}, {'Shape7': {'turn_angle': -56, 'move_distance': 44, 'position': (-27, -31), 'color': 'green', 'size': 28, 'shape': 'square'}}, {'Shape8': {'turn_angle': 84, 'move_distance': 13, 'position': (-29, -190), 'color': 'yellow', 'size': 26, 'shape': 'square'}}, {'Shape9': {'turn_angle': -38, 'move_distance': 41, 'position': (155, 180), 'color': 'pink', 'size': 77, 'shape': 'square'}}, {'Shape10': {'turn_angle': -92, 'move_distance': 40, 'position': (189, 161), 'color': 'pink', 'size': 64, 'shape': 'circle'}}, {'Shape11': {'turn_angle': 13, 'move_distance': 41, 'position': (-130, 9), 'color': 'pink', 'size': 56, 'shape': 'triangle'}}, {'Shape12': {'turn_angle': -7, 'move_distance': 49, 'position': (-70, 43), 'color': 'green', 'size': 75, 'shape': 'square'}}, {'Shape13': {'turn_angle': -137, 'move_distance': 42, 'position': (185, 91), 'color': 'red', 'size': 90, 'shape': 'star'}}, {'Shape14': {'turn_angle': -48, 'move_distance': 49, 'position': (39, 12), 'color': 'red', 'size': 51, 'shape': 'star'}}, {'Shape15': {'turn_angle': -128, 'move_distance': 20, 'position': (97, -137), 'color': 'green', 'size': 16, 'shape': 'triangle'}}, {'Shape16': {'turn_angle': 72, 'move_distance': 39, 'position': (-120, 39), 'color': 'pink', 'size': 54, 'shape': 'star'}}, {'Shape17': {'turn_angle': -163, 'move_distance': 20, 'position': (-49, -149), 'color': 'orange', 'size': 22, 'shape': 'square'}}, {'Shape18': {'turn_angle': -18, 'move_distance': 41, 'position': (-171, 85), 'color': 'yellow', 'size': 66, 'shape': 'square'}}, {'Shape19': {'turn_angle': -23, 'move_distance': 19, 'position': (34, -62), 'color': 'blue', 'size': 96, 'shape': 'triangle'}}, {'Shape20': {'turn_angle': -14, 'move_distance': 48, 'position': (28, -17), 'color': 'red', 'size': 60, 'shape': 'square'}}]\n",
            "file written\n"
          ]
        }
      ]
    }
  ]
}